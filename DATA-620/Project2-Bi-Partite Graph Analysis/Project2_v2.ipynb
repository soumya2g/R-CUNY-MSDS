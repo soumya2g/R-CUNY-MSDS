{
 "cells": [
  {
   "cell_type": "markdown",
   "metadata": {},
   "source": [
    "# Project2 - Two-Node Network Analysis\n",
    "\n",
    "**GROUP: Forhad Akbar, Adam Douglas, and Soumya Ghosh**"
   ]
  },
  {
   "cell_type": "markdown",
   "metadata": {},
   "source": [
    "## Project Overview\n",
    "1. Identify a large 2-node network dataset—you can start with a dataset in a repository.  Your data should meet the criteria that it consists of ties between and not within two (or more) distinct groups.\n",
    "2. Reduce the size of the network using a method such as the island method described in chapter 4 of social network analysis.\n",
    "3. What can you infer about each of the distinct groups?"
   ]
  },
  {
   "cell_type": "markdown",
   "metadata": {},
   "source": [
    "## Datset Background\n",
    "\n",
    "In the 1990s Rick Rosenfeld and Norm White used police records to collect data on crime in St. Louis. They began with five homicides and recorded the names of all the individuals who had been involved as victims, suspects or witnesses. They then explored the files and recorded all the other crimes in which those same individuals appeared. This snowball process was continued until they had data on 557 crime events. Those events involved 870 participants of which: 569 appeared as victims 682 appeared as suspects 195 appeared as witnesses, and 41 were dual (they were recorded both as victims and suspects in the same crime. Their data appear, then, as an 870 by 557, individual by crime event matrix. Victims are coded as 1, suspects as 2, witnesses as 3 and duals as 4. In addition Rosenfeld and White recorded the sex of each individual.\n",
    "\n",
    "### Data Sources:\n",
    "\n",
    "https://github.com/nderzsy/Network-Analysis-in-Python---Tutorial-JupyterCon18-ODSCEast18/tree/master/datafiles/social/crime\n",
    "\n",
    "http://moreno.ss.uci.edu/data.html#crime"
   ]
  },
  {
   "cell_type": "markdown",
   "metadata": {},
   "source": [
    "## Data Import"
   ]
  },
  {
   "cell_type": "markdown",
   "metadata": {},
   "source": [
    "We begin by importing our data from the source site (github). The data is provided in several files, so there are a few steps that need to be taken to put the data together into a single bipartite graph."
   ]
  },
  {
   "cell_type": "code",
   "execution_count": 20,
   "metadata": {},
   "outputs": [],
   "source": [
    "# Import all necessary packages\n",
    "\n",
    "import pandas as pd\n",
    "import numpy as np\n",
    "import math\n",
    "import networkx as nx\n",
    "import matplotlib.pyplot as plt\n",
    "from functools import reduce\n",
    "%matplotlib inline\n",
    "import networkx.algorithms.bipartite as bipartite\n",
    "from pyvis import network as net\n",
    "import matplotlib.pyplot as plt"
   ]
  },
  {
   "cell_type": "code",
   "execution_count": 21,
   "metadata": {},
   "outputs": [],
   "source": [
    "# Read in persons and their associated sex\n",
    "\n",
    "person = pd.read_csv('Dataset/ent.moreno_crime_crime.person.name', sep='\\t', header = None, names = ['Name'])\n",
    "person['Sex'] = pd.read_csv('Dataset/ent.moreno_crime_crime.person.sex', header = None)\n",
    "\n",
    "person.loc[person.Sex == 0, ['Sex']] = 'F'\n",
    "person.loc[person.Sex == 1, ['Sex']] = 'M'"
   ]
  },
  {
   "cell_type": "code",
   "execution_count": 22,
   "metadata": {},
   "outputs": [],
   "source": [
    "# Create the crime dataframe that associates a person with a crime in some manner\n",
    "\n",
    "crime = pd.read_csv(\"Dataset/out.moreno_crime_crime\", delim_whitespace = True, skiprows = [0,1], names = ['Person', 'Crime'])"
   ]
  },
  {
   "cell_type": "code",
   "execution_count": 23,
   "metadata": {},
   "outputs": [],
   "source": [
    "# Add the roles of each person (e.g. Person 1 is the suspect in Crime 1)\n",
    "\n",
    "crime['Role'] = pd.read_csv(\"Dataset/rel.moreno_crime_crime.person.role\", header = None)"
   ]
  },
  {
   "cell_type": "code",
   "execution_count": 24,
   "metadata": {},
   "outputs": [
    {
     "data": {
      "text/html": [
       "<div>\n",
       "<style scoped>\n",
       "    .dataframe tbody tr th:only-of-type {\n",
       "        vertical-align: middle;\n",
       "    }\n",
       "\n",
       "    .dataframe tbody tr th {\n",
       "        vertical-align: top;\n",
       "    }\n",
       "\n",
       "    .dataframe thead th {\n",
       "        text-align: right;\n",
       "    }\n",
       "</style>\n",
       "<table border=\"1\" class=\"dataframe\">\n",
       "  <thead>\n",
       "    <tr style=\"text-align: right;\">\n",
       "      <th></th>\n",
       "      <th>Person</th>\n",
       "      <th>Crime</th>\n",
       "      <th>Role</th>\n",
       "      <th>Name</th>\n",
       "      <th>Sex</th>\n",
       "    </tr>\n",
       "  </thead>\n",
       "  <tbody>\n",
       "    <tr>\n",
       "      <th>0</th>\n",
       "      <td>1</td>\n",
       "      <td>C1</td>\n",
       "      <td>Suspect</td>\n",
       "      <td>AbelDennis</td>\n",
       "      <td>M</td>\n",
       "    </tr>\n",
       "    <tr>\n",
       "      <th>1</th>\n",
       "      <td>1</td>\n",
       "      <td>C2</td>\n",
       "      <td>Victim</td>\n",
       "      <td>AbelDennis</td>\n",
       "      <td>M</td>\n",
       "    </tr>\n",
       "    <tr>\n",
       "      <th>2</th>\n",
       "      <td>1</td>\n",
       "      <td>C3</td>\n",
       "      <td>Victim</td>\n",
       "      <td>AbelDennis</td>\n",
       "      <td>M</td>\n",
       "    </tr>\n",
       "    <tr>\n",
       "      <th>3</th>\n",
       "      <td>1</td>\n",
       "      <td>C4</td>\n",
       "      <td>Suspect</td>\n",
       "      <td>AbelDennis</td>\n",
       "      <td>M</td>\n",
       "    </tr>\n",
       "    <tr>\n",
       "      <th>4</th>\n",
       "      <td>2</td>\n",
       "      <td>C5</td>\n",
       "      <td>Victim</td>\n",
       "      <td>AbramsChad</td>\n",
       "      <td>M</td>\n",
       "    </tr>\n",
       "  </tbody>\n",
       "</table>\n",
       "</div>"
      ],
      "text/plain": [
       "   Person Crime     Role        Name Sex\n",
       "0       1    C1  Suspect  AbelDennis   M\n",
       "1       1    C2   Victim  AbelDennis   M\n",
       "2       1    C3   Victim  AbelDennis   M\n",
       "3       1    C4  Suspect  AbelDennis   M\n",
       "4       2    C5   Victim  AbramsChad   M"
      ]
     },
     "execution_count": 24,
     "metadata": {},
     "output_type": "execute_result"
    }
   ],
   "source": [
    "# Add the name and sex to the main crime dataframe\n",
    "\n",
    "crime[\"Name\"] = \"\"\n",
    "crime[\"Sex\"] = \"\"\n",
    "\n",
    "for i in range(0, len(person)):\n",
    "    crime.loc[crime.Person == i+1, ['Sex']] = person.iloc[i][\"Sex\"]\n",
    "    crime.loc[crime.Person == i+1, ['Name']] = person.iloc[i][\"Name\"]\n",
    "\n",
    "# Change the crime event to a string and append \"C\"\n",
    "crime = crime.astype({\"Crime\": str})\n",
    "crime[\"Crime\"] = \"C\" + crime[\"Crime\"]\n",
    "\n",
    "# Remove witness entries\n",
    "crime.drop(crime[crime['Role'] == \"Witness\"].index, inplace = True) \n",
    "\n",
    "#Final dataset\n",
    "crime.head()"
   ]
  },
  {
   "cell_type": "markdown",
   "metadata": {},
   "source": [
    "Now that we have the data in a combined dataframe, we can begin to put it together into a graph format."
   ]
  },
  {
   "cell_type": "markdown",
   "metadata": {},
   "source": [
    "## Creating the Graph\n",
    "We are going to create the graph with following features -\n",
    " 1. A person (victim or suspect) will be reperesented as a node with *'bipartite' = 0*\n",
    "   - For male, the color code is *'dodgerblue'*\n",
    "   - For female, the color code is *'teal'*\n",
    "   \n",
    " 2. Each crime occurence will be represnted as a node with *'bipartite' = 1* and 'red' as the color code\n",
    " 3. A *suspect* will be repesneted by an inbound edge towards the crime event\n",
    " 4. A *victim* will be represented by an outbound edge from the crime event"
   ]
  },
  {
   "cell_type": "code",
   "execution_count": 25,
   "metadata": {},
   "outputs": [
    {
     "name": "stdout",
     "output_type": "stream",
     "text": [
      "Name: \n",
      "Type: DiGraph\n",
      "Number of nodes: 1259\n",
      "Number of edges: 1240\n",
      "Average in degree:   0.9849\n",
      "Average out degree:   0.9849\n"
     ]
    }
   ],
   "source": [
    "colors = {\"M\":\"dodgerblue\",\"F\":\"teal\"}\n",
    "\n",
    "G = nx.DiGraph()\n",
    "\n",
    "for n, r, c, s in zip(crime['Name'],crime['Role'],crime['Crime'],crime['Sex']):\n",
    "    if n not in G.nodes() and r != 'Witness':\n",
    "        G.add_node(n, Sex = s, bipartite = 0, color = colors[s])\n",
    "    if c not in G.nodes():\n",
    "        G.add_node(c, bipartite = 1, color = 'red')\n",
    "    if r == 'Suspect':\n",
    "        G.add_edge(n,c)\n",
    "    elif r == 'Victim':\n",
    "        G.add_edge(c,n)\n",
    "\n",
    "print(nx.info(G))"
   ]
  },
  {
   "cell_type": "code",
   "execution_count": 26,
   "metadata": {},
   "outputs": [
    {
     "data": {
      "text/plain": [
       "True"
      ]
     },
     "execution_count": 26,
     "metadata": {},
     "output_type": "execute_result"
    }
   ],
   "source": [
    "nx.is_bipartite(G)"
   ]
  },
  {
   "cell_type": "code",
   "execution_count": 27,
   "metadata": {},
   "outputs": [
    {
     "data": {
      "text/plain": [
       "[('C1', {'bipartite': 1, 'color': 'red'}),\n",
       " ('C2', {'bipartite': 1, 'color': 'red'}),\n",
       " ('C3', {'bipartite': 1, 'color': 'red'}),\n",
       " ('C4', {'bipartite': 1, 'color': 'red'}),\n",
       " ('AbramsChad', {'Sex': 'M', 'bipartite': 0, 'color': 'dodgerblue'}),\n",
       " ('C5', {'bipartite': 1, 'color': 'red'}),\n",
       " ('C6', {'bipartite': 1, 'color': 'red'}),\n",
       " ('C7', {'bipartite': 1, 'color': 'red'}),\n",
       " ('C8', {'bipartite': 1, 'color': 'red'})]"
      ]
     },
     "execution_count": 27,
     "metadata": {},
     "output_type": "execute_result"
    }
   ],
   "source": [
    "list(G.nodes.data())[1:10]"
   ]
  },
  {
   "cell_type": "code",
   "execution_count": 28,
   "metadata": {},
   "outputs": [
    {
     "data": {
      "text/html": [
       "\n",
       "        <iframe\n",
       "            width=\"100%\"\n",
       "            height=\"1000px\"\n",
       "            src=\"crimenet.html\"\n",
       "            frameborder=\"0\"\n",
       "            allowfullscreen\n",
       "        ></iframe>\n",
       "        "
      ],
      "text/plain": [
       "<IPython.lib.display.IFrame at 0x7fd6281f3820>"
      ]
     },
     "execution_count": 28,
     "metadata": {},
     "output_type": "execute_result"
    }
   ],
   "source": [
    "n = net.Network(height = \"1000px\", width = \"100%\", notebook = True, \n",
    "                bgcolor = \"#ffffff\", font_color = \"black\",\n",
    "                heading = 'Crimes and People', directed = True)\n",
    "nx_graph = nx.Graph(G)\n",
    "n.from_nx(nx_graph, default_node_size = 50, default_edge_weight = 1)\n",
    "n.show_buttons(filter_=['physics'])\n",
    "n.show(\"crimenet.html\")"
   ]
  },
  {
   "cell_type": "markdown",
   "metadata": {},
   "source": [
    "The first thing that jumps out is the number of nodes where there are no connections. Because we specifically excluded the witnesses, this should not be.\n",
    "\n",
    "Let's look and see why that is: "
   ]
  },
  {
   "cell_type": "code",
   "execution_count": 29,
   "metadata": {},
   "outputs": [
    {
     "data": {
      "text/plain": [
       "['C34',\n",
       " 'AndrewsSally',\n",
       " 'C54',\n",
       " 'BeckerMax',\n",
       " 'C146',\n",
       " 'BoyleAlice',\n",
       " 'CanfieldAristides',\n",
       " 'C192',\n",
       " 'C198',\n",
       " 'C228',\n",
       " 'ConrackCarol',\n",
       " 'CoreyAlonzo',\n",
       " 'C241',\n",
       " 'C271',\n",
       " 'EvansJay',\n",
       " 'C311',\n",
       " 'FindlayGary',\n",
       " 'C318',\n",
       " 'ForesterCarol',\n",
       " 'GleesonMatt',\n",
       " 'C341',\n",
       " 'GuntherMatt',\n",
       " 'KetterPercy',\n",
       " 'KirklandNiles',\n",
       " 'KirklandRudy',\n",
       " 'C439',\n",
       " 'C474',\n",
       " 'NoblesCary',\n",
       " 'ReddickJohn',\n",
       " 'RosenHenry',\n",
       " 'SprintMelody',\n",
       " 'StanleyMaurice',\n",
       " 'StithCarlton',\n",
       " 'TillieNigel',\n",
       " 'C324',\n",
       " 'TraskBenjie']"
      ]
     },
     "execution_count": 29,
     "metadata": {},
     "output_type": "execute_result"
    }
   ],
   "source": [
    "list(nx.isolates(G))"
   ]
  },
  {
   "cell_type": "code",
   "execution_count": 30,
   "metadata": {},
   "outputs": [
    {
     "data": {
      "text/plain": [
       "[('BeckerMax', 'C86', 'Victim Suspect'),\n",
       " ('TraskBenjie', 'C86', 'Victim Suspect'),\n",
       " ('ReddickJohn', 'C82', 'Victim Suspect'),\n",
       " ('AndrewsSally', 'C54', 'Victim Suspect'),\n",
       " ('LeeCrystal', 'C54', 'Victim Suspect'),\n",
       " ('MitchellGrant', 'C474', 'Victim Suspect'),\n",
       " ('WinfreyAlice', 'C474', 'Victim Suspect'),\n",
       " ('KirklandRudy', 'C439', 'Victim Suspect'),\n",
       " ('VestMiko', 'C439', 'Victim Suspect'),\n",
       " ('KetterPercy', 'C436', 'Victim Suspect'),\n",
       " ('StanleyMaurice', 'C390', 'Victim Suspect'),\n",
       " ('GleesonMatt', 'C341', 'Victim Suspect'),\n",
       " ('GliddenDiana', 'C341', 'Victim Suspect'),\n",
       " ('AlexanderNolan', 'C34', 'Victim Suspect'),\n",
       " ('BendixJerryLee', 'C34', 'Victim Suspect'),\n",
       " ('TillieNigel', 'C324', 'Victim Suspect'),\n",
       " ('WolffRodney', 'C324', 'Victim Suspect'),\n",
       " ('FindlayGary', 'C318', 'Victim Suspect'),\n",
       " ('JeffersonMillie', 'C318', 'Victim Suspect'),\n",
       " ('NoblesCary', 'C318', 'Victim Suspect'),\n",
       " ('EvansJay', 'C311', 'Victim Suspect'),\n",
       " ('TerryThomas', 'C311', 'Victim Suspect'),\n",
       " ('DerbyTammy', 'C271', 'Victim Suspect'),\n",
       " ('RosenHenry', 'C271', 'Victim Suspect'),\n",
       " ('CoreyAlonzo', 'C241', 'Victim Suspect'),\n",
       " ('GuntherMatt', 'C241', 'Victim Suspect'),\n",
       " ('KirklandNiles', 'C241', 'Victim Suspect'),\n",
       " ('CheathamBarry', 'C228', 'Victim Suspect'),\n",
       " ('ConrackCarol', 'C228', 'Victim Suspect'),\n",
       " ('CantwellSylvester', 'C198', 'Victim Suspect'),\n",
       " ('MobleyLyle', 'C198', 'Victim Suspect'),\n",
       " ('CanfieldAristides', 'C192', 'Victim Suspect'),\n",
       " ('SprintMelody', 'C192', 'Victim Suspect'),\n",
       " ('StithCarlton', 'C169', 'Victim Suspect'),\n",
       " ('BoyleAlice', 'C151', 'Victim Suspect'),\n",
       " ('BowersCarl', 'C146', 'Victim Suspect'),\n",
       " ('ForesterCarol', 'C146', 'Victim Suspect')]"
      ]
     },
     "execution_count": 30,
     "metadata": {},
     "output_type": "execute_result"
    }
   ],
   "source": [
    "unconn = [n for n in nx.isolates(G)]\n",
    "\n",
    "isol = [(n, c, r) for n, c, r in zip(crime[\"Name\"],crime[\"Crime\"],crime[\"Role\"]) if c in unconn or n in unconn]\n",
    "\n",
    "sorted(isol, key = lambda x: x[1], reverse = True)"
   ]
  },
  {
   "cell_type": "markdown",
   "metadata": {},
   "source": [
    "It appears that these unconnected nodes are where the person is both a victim and a suspect. Why would such a thing occur?\n",
    "\n",
    "Well, one situation might be when the crime is a fight or sorts where both parties are responsible. In those cases, we would see more than one person in that role (e.g. C86). However we see a few that only have a single person. So, unless that person is fighting themselves (see *Fight Club*), that makes no sense.\n",
    "\n",
    "Let's look at an example:"
   ]
  },
  {
   "cell_type": "code",
   "execution_count": 31,
   "metadata": {
    "scrolled": true
   },
   "outputs": [
    {
     "data": {
      "text/html": [
       "<div>\n",
       "<style scoped>\n",
       "    .dataframe tbody tr th:only-of-type {\n",
       "        vertical-align: middle;\n",
       "    }\n",
       "\n",
       "    .dataframe tbody tr th {\n",
       "        vertical-align: top;\n",
       "    }\n",
       "\n",
       "    .dataframe thead th {\n",
       "        text-align: right;\n",
       "    }\n",
       "</style>\n",
       "<table border=\"1\" class=\"dataframe\">\n",
       "  <thead>\n",
       "    <tr style=\"text-align: right;\">\n",
       "      <th></th>\n",
       "      <th>Person</th>\n",
       "      <th>Crime</th>\n",
       "      <th>Role</th>\n",
       "      <th>Name</th>\n",
       "      <th>Sex</th>\n",
       "    </tr>\n",
       "  </thead>\n",
       "  <tbody>\n",
       "    <tr>\n",
       "      <th>570</th>\n",
       "      <td>319</td>\n",
       "      <td>C82</td>\n",
       "      <td>Suspect</td>\n",
       "      <td>GreenByron</td>\n",
       "      <td>M</td>\n",
       "    </tr>\n",
       "    <tr>\n",
       "      <th>1028</th>\n",
       "      <td>567</td>\n",
       "      <td>C82</td>\n",
       "      <td>Suspect</td>\n",
       "      <td>OneilLinda</td>\n",
       "      <td>F</td>\n",
       "    </tr>\n",
       "    <tr>\n",
       "      <th>1120</th>\n",
       "      <td>632</td>\n",
       "      <td>C82</td>\n",
       "      <td>Victim Suspect</td>\n",
       "      <td>ReddickJohn</td>\n",
       "      <td>M</td>\n",
       "    </tr>\n",
       "    <tr>\n",
       "      <th>1365</th>\n",
       "      <td>772</td>\n",
       "      <td>C82</td>\n",
       "      <td>Victim</td>\n",
       "      <td>TylerOwen</td>\n",
       "      <td>M</td>\n",
       "    </tr>\n",
       "  </tbody>\n",
       "</table>\n",
       "</div>"
      ],
      "text/plain": [
       "      Person Crime            Role         Name Sex\n",
       "570      319   C82         Suspect   GreenByron   M\n",
       "1028     567   C82         Suspect   OneilLinda   F\n",
       "1120     632   C82  Victim Suspect  ReddickJohn   M\n",
       "1365     772   C82          Victim    TylerOwen   M"
      ]
     },
     "execution_count": 31,
     "metadata": {},
     "output_type": "execute_result"
    }
   ],
   "source": [
    "crime[crime[\"Crime\"]==\"C82\"]"
   ]
  },
  {
   "cell_type": "markdown",
   "metadata": {},
   "source": [
    "Now we see a bit more clearly. In the above example the person \"ReddickJohn\" is not the only participant in the crime. Perhaps the authorities suspect that this person was \"in on\" the crime despite their attempts to present themselves as another victim?\n",
    "\n",
    "We should split these entries into 2, one as a suspect and one as a victim."
   ]
  },
  {
   "cell_type": "code",
   "execution_count": 32,
   "metadata": {},
   "outputs": [
    {
     "data": {
      "text/html": [
       "<div>\n",
       "<style scoped>\n",
       "    .dataframe tbody tr th:only-of-type {\n",
       "        vertical-align: middle;\n",
       "    }\n",
       "\n",
       "    .dataframe tbody tr th {\n",
       "        vertical-align: top;\n",
       "    }\n",
       "\n",
       "    .dataframe thead th {\n",
       "        text-align: right;\n",
       "    }\n",
       "</style>\n",
       "<table border=\"1\" class=\"dataframe\">\n",
       "  <thead>\n",
       "    <tr style=\"text-align: right;\">\n",
       "      <th></th>\n",
       "      <th>Person</th>\n",
       "      <th>Crime</th>\n",
       "      <th>Name</th>\n",
       "      <th>Sex</th>\n",
       "      <th>Role</th>\n",
       "    </tr>\n",
       "  </thead>\n",
       "  <tbody>\n",
       "    <tr>\n",
       "      <th>570</th>\n",
       "      <td>319</td>\n",
       "      <td>C82</td>\n",
       "      <td>GreenByron</td>\n",
       "      <td>M</td>\n",
       "      <td>Suspect</td>\n",
       "    </tr>\n",
       "    <tr>\n",
       "      <th>1028</th>\n",
       "      <td>567</td>\n",
       "      <td>C82</td>\n",
       "      <td>OneilLinda</td>\n",
       "      <td>F</td>\n",
       "      <td>Suspect</td>\n",
       "    </tr>\n",
       "    <tr>\n",
       "      <th>1120</th>\n",
       "      <td>632</td>\n",
       "      <td>C82</td>\n",
       "      <td>ReddickJohn</td>\n",
       "      <td>M</td>\n",
       "      <td>Victim</td>\n",
       "    </tr>\n",
       "    <tr>\n",
       "      <th>1120</th>\n",
       "      <td>632</td>\n",
       "      <td>C82</td>\n",
       "      <td>ReddickJohn</td>\n",
       "      <td>M</td>\n",
       "      <td>Suspect</td>\n",
       "    </tr>\n",
       "    <tr>\n",
       "      <th>1365</th>\n",
       "      <td>772</td>\n",
       "      <td>C82</td>\n",
       "      <td>TylerOwen</td>\n",
       "      <td>M</td>\n",
       "      <td>Victim</td>\n",
       "    </tr>\n",
       "  </tbody>\n",
       "</table>\n",
       "</div>"
      ],
      "text/plain": [
       "      Person Crime         Name Sex     Role\n",
       "570      319   C82   GreenByron   M  Suspect\n",
       "1028     567   C82   OneilLinda   F  Suspect\n",
       "1120     632   C82  ReddickJohn   M   Victim\n",
       "1120     632   C82  ReddickJohn   M  Suspect\n",
       "1365     772   C82    TylerOwen   M   Victim"
      ]
     },
     "execution_count": 32,
     "metadata": {},
     "output_type": "execute_result"
    }
   ],
   "source": [
    "# Split the role column\n",
    "\n",
    "crime = crime.drop('Role', axis=1).join(crime['Role'].str.split(' ', expand=True).stack().reset_index(level=1, drop=True).rename('Role'))\n",
    "\n",
    "# Check our example from above\n",
    "crime[crime[\"Crime\"]==\"C82\"]"
   ]
  },
  {
   "cell_type": "markdown",
   "metadata": {},
   "source": [
    "Now we see that \"ReddickJohn\" is listed twice, once as a Victim and once as a Suspect. We will need to regenerate the graph to show this update:"
   ]
  },
  {
   "cell_type": "code",
   "execution_count": 33,
   "metadata": {},
   "outputs": [
    {
     "name": "stdout",
     "output_type": "stream",
     "text": [
      "Name: \n",
      "Type: DiGraph\n",
      "Number of nodes: 1259\n",
      "Number of edges: 1322\n",
      "Average in degree:   1.0500\n",
      "Average out degree:   1.0500\n"
     ]
    }
   ],
   "source": [
    "G = nx.DiGraph()\n",
    "\n",
    "for n, r, c, s in zip(crime['Name'],crime['Role'],crime['Crime'],crime['Sex']):\n",
    "    if n not in G.nodes() and r != 'Witness':\n",
    "        G.add_node(n, Sex = s, bipartite = 0, color = colors[s])\n",
    "    if c not in G.nodes():\n",
    "        G.add_node(c, bipartite = 1, color = 'red')\n",
    "    if r == 'Suspect':\n",
    "        G.add_edge(n,c)\n",
    "    elif r == 'Victim':\n",
    "        G.add_edge(c,n)\n",
    "\n",
    "print(nx.info(G))"
   ]
  },
  {
   "cell_type": "code",
   "execution_count": 34,
   "metadata": {},
   "outputs": [
    {
     "data": {
      "text/html": [
       "\n",
       "        <iframe\n",
       "            width=\"100%\"\n",
       "            height=\"1000px\"\n",
       "            src=\"crimenet2.html\"\n",
       "            frameborder=\"0\"\n",
       "            allowfullscreen\n",
       "        ></iframe>\n",
       "        "
      ],
      "text/plain": [
       "<IPython.lib.display.IFrame at 0x7fd624f42250>"
      ]
     },
     "execution_count": 34,
     "metadata": {},
     "output_type": "execute_result"
    }
   ],
   "source": [
    "n2 = net.Network(height = \"1000px\", width = \"100%\", notebook = True, \n",
    "                bgcolor = \"#ffffff\", font_color = \"black\",\n",
    "                heading = 'Crimes and People V2', directed = True)\n",
    "nx_graph = nx.Graph(G)\n",
    "n2.from_nx(nx_graph, default_node_size = 50, default_edge_weight = 1)\n",
    "n2.show_buttons(filter_=['physics'])\n",
    "n2.show(\"crimenet2.html\")"
   ]
  },
  {
   "cell_type": "markdown",
   "metadata": {},
   "source": [
    "This looks MUCH better. Let's check for isolates again:"
   ]
  },
  {
   "cell_type": "code",
   "execution_count": 35,
   "metadata": {},
   "outputs": [
    {
     "data": {
      "text/plain": [
       "[]"
      ]
     },
     "execution_count": 35,
     "metadata": {},
     "output_type": "execute_result"
    }
   ],
   "source": [
    "unconn = [n for n in nx.isolates(G)]\n",
    "\n",
    "isol = [(n, c, r) for n, c, r in zip(crime[\"Name\"],crime[\"Crime\"],crime[\"Role\"]) if c in unconn or n in unconn]\n",
    "\n",
    "sorted(isol, key = lambda x: x[1], reverse = True)"
   ]
  },
  {
   "cell_type": "markdown",
   "metadata": {},
   "source": [
    "As we hoped, there are none."
   ]
  },
  {
   "cell_type": "markdown",
   "metadata": {},
   "source": [
    "## Sub-Graph Analysis - People & Crime\n",
    "Next, we wanted to create sub-graphs for both people (victim/suspect) and crimes and analyze them separately."
   ]
  },
  {
   "cell_type": "code",
   "execution_count": 36,
   "metadata": {},
   "outputs": [],
   "source": [
    "top_nodes = {n for n, d in G.nodes(data=True) if d[\"bipartite\"] == 0}\n",
    "bottom_nodes = set(G) - top_nodes\n",
    "\n",
    "P = bipartite.weighted_projected_graph(G, top_nodes)\n",
    "C = bipartite.weighted_projected_graph(G, bottom_nodes)"
   ]
  },
  {
   "cell_type": "markdown",
   "metadata": {},
   "source": [
    "Let's visualize them both -"
   ]
  },
  {
   "cell_type": "code",
   "execution_count": 37,
   "metadata": {},
   "outputs": [
    {
     "data": {
      "text/html": [
       "\n",
       "        <iframe\n",
       "            width=\"100%\"\n",
       "            height=\"800px\"\n",
       "            src=\"graph.html\"\n",
       "            frameborder=\"0\"\n",
       "            allowfullscreen\n",
       "        ></iframe>\n",
       "        "
      ],
      "text/plain": [
       "<IPython.lib.display.IFrame at 0x7fd628093940>"
      ]
     },
     "execution_count": 37,
     "metadata": {},
     "output_type": "execute_result"
    }
   ],
   "source": [
    "n_p = net.Network(height = \"800px\", width = \"100%\", notebook = True,\n",
    "               heading = 'People', directed = True)\n",
    "\n",
    "for n, v in P.nodes(data = True):\n",
    "    n_p.add_node(n, color = colors[v[\"Sex\"]])\n",
    "        \n",
    "for u,v,d in P.edges(data=True):\n",
    "    n_p.add_edge(u,v,value=d['weight'])\n",
    "    \n",
    "n_p.show(\"graph.html\")"
   ]
  },
  {
   "cell_type": "markdown",
   "metadata": {},
   "source": [
    "From the graph above, it looks like there are quite a few people who are not connected with others which could be a result of no suspect being identified. But there are quite few cluster of nodes where multiple individuals are closely associated."
   ]
  },
  {
   "cell_type": "code",
   "execution_count": 38,
   "metadata": {},
   "outputs": [
    {
     "data": {
      "text/html": [
       "\n",
       "        <iframe\n",
       "            width=\"100%\"\n",
       "            height=\"800px\"\n",
       "            src=\"graph.html\"\n",
       "            frameborder=\"0\"\n",
       "            allowfullscreen\n",
       "        ></iframe>\n",
       "        "
      ],
      "text/plain": [
       "<IPython.lib.display.IFrame at 0x7fd6285b86a0>"
      ]
     },
     "execution_count": 38,
     "metadata": {},
     "output_type": "execute_result"
    }
   ],
   "source": [
    "n_c = net.Network(height = \"800px\", width = \"100%\", notebook = True,\n",
    "               heading = 'Crimes', directed = True)\n",
    "\n",
    "for n, v in C.nodes(data = True):\n",
    "    n_c.add_node(n, color = 'red')\n",
    "        \n",
    "for u,v,d in C.edges(data=True):\n",
    "    n_c.add_edge(u,v,value=d['weight'])\n",
    "    \n",
    "n_c.show(\"graph.html\")"
   ]
  },
  {
   "cell_type": "markdown",
   "metadata": {},
   "source": [
    "### People (Suspect/Victim)\n",
    "Next, we will look at the people more specifically.\n",
    "\n",
    "First we will look at the out degree. That is, the count of times someone is listed as a suspect in a crime:"
   ]
  },
  {
   "cell_type": "code",
   "execution_count": 45,
   "metadata": {},
   "outputs": [
    {
     "data": {
      "text/html": [
       "<div>\n",
       "<style scoped>\n",
       "    .dataframe tbody tr th:only-of-type {\n",
       "        vertical-align: middle;\n",
       "    }\n",
       "\n",
       "    .dataframe tbody tr th {\n",
       "        vertical-align: top;\n",
       "    }\n",
       "\n",
       "    .dataframe thead th {\n",
       "        text-align: right;\n",
       "    }\n",
       "</style>\n",
       "<table border=\"1\" class=\"dataframe\">\n",
       "  <thead>\n",
       "    <tr style=\"text-align: right;\">\n",
       "      <th></th>\n",
       "      <th>Person</th>\n",
       "      <th>Out Degree</th>\n",
       "    </tr>\n",
       "  </thead>\n",
       "  <tbody>\n",
       "    <tr>\n",
       "      <th>0</th>\n",
       "      <td>WillisJenny</td>\n",
       "      <td>14</td>\n",
       "    </tr>\n",
       "    <tr>\n",
       "      <th>1</th>\n",
       "      <td>CarverJustin</td>\n",
       "      <td>10</td>\n",
       "    </tr>\n",
       "    <tr>\n",
       "      <th>2</th>\n",
       "      <td>HemphillBud</td>\n",
       "      <td>8</td>\n",
       "    </tr>\n",
       "    <tr>\n",
       "      <th>3</th>\n",
       "      <td>CarverJason</td>\n",
       "      <td>7</td>\n",
       "    </tr>\n",
       "    <tr>\n",
       "      <th>4</th>\n",
       "      <td>BallMelvin</td>\n",
       "      <td>7</td>\n",
       "    </tr>\n",
       "    <tr>\n",
       "      <th>5</th>\n",
       "      <td>MunsonKaty</td>\n",
       "      <td>6</td>\n",
       "    </tr>\n",
       "    <tr>\n",
       "      <th>6</th>\n",
       "      <td>AbramsChad</td>\n",
       "      <td>6</td>\n",
       "    </tr>\n",
       "    <tr>\n",
       "      <th>7</th>\n",
       "      <td>TuckerPaul</td>\n",
       "      <td>6</td>\n",
       "    </tr>\n",
       "    <tr>\n",
       "      <th>8</th>\n",
       "      <td>DicksonCarter</td>\n",
       "      <td>6</td>\n",
       "    </tr>\n",
       "    <tr>\n",
       "      <th>9</th>\n",
       "      <td>BurnleyAaron</td>\n",
       "      <td>6</td>\n",
       "    </tr>\n",
       "  </tbody>\n",
       "</table>\n",
       "</div>"
      ],
      "text/plain": [
       "          Person  Out Degree\n",
       "0    WillisJenny          14\n",
       "1   CarverJustin          10\n",
       "2    HemphillBud           8\n",
       "3    CarverJason           7\n",
       "4     BallMelvin           7\n",
       "5     MunsonKaty           6\n",
       "6     AbramsChad           6\n",
       "7     TuckerPaul           6\n",
       "8  DicksonCarter           6\n",
       "9   BurnleyAaron           6"
      ]
     },
     "execution_count": 45,
     "metadata": {},
     "output_type": "execute_result"
    }
   ],
   "source": [
    "suspect_df = pd.DataFrame(sorted(P.out_degree(), key = lambda x: x[1], reverse=True), columns=['Person','Out Degree'])\n",
    "suspect_df.head(10)"
   ]
  },
  {
   "cell_type": "markdown",
   "metadata": {},
   "source": [
    "Next we will look at the opposite, the in degree, or how many times someone is listed as a victim in a crime."
   ]
  },
  {
   "cell_type": "code",
   "execution_count": 46,
   "metadata": {},
   "outputs": [
    {
     "data": {
      "text/html": [
       "<div>\n",
       "<style scoped>\n",
       "    .dataframe tbody tr th:only-of-type {\n",
       "        vertical-align: middle;\n",
       "    }\n",
       "\n",
       "    .dataframe tbody tr th {\n",
       "        vertical-align: top;\n",
       "    }\n",
       "\n",
       "    .dataframe thead th {\n",
       "        text-align: right;\n",
       "    }\n",
       "</style>\n",
       "<table border=\"1\" class=\"dataframe\">\n",
       "  <thead>\n",
       "    <tr style=\"text-align: right;\">\n",
       "      <th></th>\n",
       "      <th>Person</th>\n",
       "      <th>In Degree</th>\n",
       "    </tr>\n",
       "  </thead>\n",
       "  <tbody>\n",
       "    <tr>\n",
       "      <th>0</th>\n",
       "      <td>JonesEzekial</td>\n",
       "      <td>10</td>\n",
       "    </tr>\n",
       "    <tr>\n",
       "      <th>1</th>\n",
       "      <td>TatumAnna</td>\n",
       "      <td>10</td>\n",
       "    </tr>\n",
       "    <tr>\n",
       "      <th>2</th>\n",
       "      <td>GodfreyTalia</td>\n",
       "      <td>8</td>\n",
       "    </tr>\n",
       "    <tr>\n",
       "      <th>3</th>\n",
       "      <td>CandyCarol</td>\n",
       "      <td>7</td>\n",
       "    </tr>\n",
       "    <tr>\n",
       "      <th>4</th>\n",
       "      <td>EbersolShirley</td>\n",
       "      <td>7</td>\n",
       "    </tr>\n",
       "    <tr>\n",
       "      <th>5</th>\n",
       "      <td>SamuelLyle</td>\n",
       "      <td>6</td>\n",
       "    </tr>\n",
       "    <tr>\n",
       "      <th>6</th>\n",
       "      <td>AbramsChad</td>\n",
       "      <td>6</td>\n",
       "    </tr>\n",
       "    <tr>\n",
       "      <th>7</th>\n",
       "      <td>LeeCrystal</td>\n",
       "      <td>6</td>\n",
       "    </tr>\n",
       "    <tr>\n",
       "      <th>8</th>\n",
       "      <td>BrowningCalder</td>\n",
       "      <td>6</td>\n",
       "    </tr>\n",
       "    <tr>\n",
       "      <th>9</th>\n",
       "      <td>GradyRufus</td>\n",
       "      <td>6</td>\n",
       "    </tr>\n",
       "  </tbody>\n",
       "</table>\n",
       "</div>"
      ],
      "text/plain": [
       "           Person  In Degree\n",
       "0    JonesEzekial         10\n",
       "1       TatumAnna         10\n",
       "2    GodfreyTalia          8\n",
       "3      CandyCarol          7\n",
       "4  EbersolShirley          7\n",
       "5      SamuelLyle          6\n",
       "6      AbramsChad          6\n",
       "7      LeeCrystal          6\n",
       "8  BrowningCalder          6\n",
       "9      GradyRufus          6"
      ]
     },
     "execution_count": 46,
     "metadata": {},
     "output_type": "execute_result"
    }
   ],
   "source": [
    "victim_df = pd.DataFrame(sorted(P.in_degree(), key = lambda x: x[1], reverse=True), columns=['Person','In Degree'])\n",
    "victim_df.head(10)"
   ]
  },
  {
   "cell_type": "markdown",
   "metadata": {},
   "source": [
    "Interestingly, we see a little overlap between suspects and victims of crimes."
   ]
  },
  {
   "cell_type": "code",
   "execution_count": 47,
   "metadata": {},
   "outputs": [
    {
     "data": {
      "text/html": [
       "<div>\n",
       "<style scoped>\n",
       "    .dataframe tbody tr th:only-of-type {\n",
       "        vertical-align: middle;\n",
       "    }\n",
       "\n",
       "    .dataframe tbody tr th {\n",
       "        vertical-align: top;\n",
       "    }\n",
       "\n",
       "    .dataframe thead th {\n",
       "        text-align: right;\n",
       "    }\n",
       "</style>\n",
       "<table border=\"1\" class=\"dataframe\">\n",
       "  <thead>\n",
       "    <tr style=\"text-align: right;\">\n",
       "      <th></th>\n",
       "      <th>Person</th>\n",
       "      <th>Out Degree</th>\n",
       "      <th>In Degree</th>\n",
       "    </tr>\n",
       "  </thead>\n",
       "  <tbody>\n",
       "    <tr>\n",
       "      <th>0</th>\n",
       "      <td>WillisJenny</td>\n",
       "      <td>14</td>\n",
       "      <td>1</td>\n",
       "    </tr>\n",
       "    <tr>\n",
       "      <th>1</th>\n",
       "      <td>CarverJustin</td>\n",
       "      <td>10</td>\n",
       "      <td>0</td>\n",
       "    </tr>\n",
       "    <tr>\n",
       "      <th>2</th>\n",
       "      <td>HemphillBud</td>\n",
       "      <td>8</td>\n",
       "      <td>1</td>\n",
       "    </tr>\n",
       "    <tr>\n",
       "      <th>3</th>\n",
       "      <td>CarverJason</td>\n",
       "      <td>7</td>\n",
       "      <td>0</td>\n",
       "    </tr>\n",
       "    <tr>\n",
       "      <th>4</th>\n",
       "      <td>BallMelvin</td>\n",
       "      <td>7</td>\n",
       "      <td>0</td>\n",
       "    </tr>\n",
       "    <tr>\n",
       "      <th>5</th>\n",
       "      <td>MunsonKaty</td>\n",
       "      <td>6</td>\n",
       "      <td>1</td>\n",
       "    </tr>\n",
       "    <tr>\n",
       "      <th>6</th>\n",
       "      <td>AbramsChad</td>\n",
       "      <td>6</td>\n",
       "      <td>6</td>\n",
       "    </tr>\n",
       "    <tr>\n",
       "      <th>7</th>\n",
       "      <td>TuckerPaul</td>\n",
       "      <td>6</td>\n",
       "      <td>0</td>\n",
       "    </tr>\n",
       "    <tr>\n",
       "      <th>8</th>\n",
       "      <td>DicksonCarter</td>\n",
       "      <td>6</td>\n",
       "      <td>3</td>\n",
       "    </tr>\n",
       "    <tr>\n",
       "      <th>9</th>\n",
       "      <td>BurnleyAaron</td>\n",
       "      <td>6</td>\n",
       "      <td>0</td>\n",
       "    </tr>\n",
       "    <tr>\n",
       "      <th>10</th>\n",
       "      <td>AndersonWinston</td>\n",
       "      <td>6</td>\n",
       "      <td>0</td>\n",
       "    </tr>\n",
       "  </tbody>\n",
       "</table>\n",
       "</div>"
      ],
      "text/plain": [
       "             Person  Out Degree  In Degree\n",
       "0       WillisJenny          14          1\n",
       "1      CarverJustin          10          0\n",
       "2       HemphillBud           8          1\n",
       "3       CarverJason           7          0\n",
       "4        BallMelvin           7          0\n",
       "5        MunsonKaty           6          1\n",
       "6        AbramsChad           6          6\n",
       "7        TuckerPaul           6          0\n",
       "8     DicksonCarter           6          3\n",
       "9      BurnleyAaron           6          0\n",
       "10  AndersonWinston           6          0"
      ]
     },
     "execution_count": 47,
     "metadata": {},
     "output_type": "execute_result"
    }
   ],
   "source": [
    "test = pd.merge(left=suspect_df, right=victim_df, left_on='Person', right_on='Person')\n",
    "\n",
    "test.head(11)"
   ]
  },
  {
   "cell_type": "markdown",
   "metadata": {},
   "source": [
    "Now we will apply the island method to look at how the suspects relate to their victims. We will first limit to those who have more than a single victim."
   ]
  },
  {
   "cell_type": "code",
   "execution_count": 48,
   "metadata": {
    "scrolled": false
   },
   "outputs": [
    {
     "data": {
      "text/html": [
       "\n",
       "        <iframe\n",
       "            width=\"100%\"\n",
       "            height=\"800px\"\n",
       "            src=\"graph.html\"\n",
       "            frameborder=\"0\"\n",
       "            allowfullscreen\n",
       "        ></iframe>\n",
       "        "
      ],
      "text/plain": [
       "<IPython.lib.display.IFrame at 0x7fd624f42070>"
      ]
     },
     "execution_count": 48,
     "metadata": {},
     "output_type": "execute_result"
    }
   ],
   "source": [
    "n_p2 = net.Network(height = \"800px\", width = \"100%\", notebook = True,\n",
    "               heading = 'People (suspects with > 1 victim)', directed = True)\n",
    "\n",
    "for n, v in P.nodes(data = True):\n",
    "    if P.out_degree(n) > 1:\n",
    "        n_p2.add_node(n, color = colors[v[\"Sex\"]])\n",
    "        for u,v,d in P.edges(n, data=True):\n",
    "            n_p2.add_node(v)\n",
    "            n_p2.add_edge(u,v,value=d[\"weight\"])\n",
    "\n",
    "n_p2.show(\"graph.html\")"
   ]
  },
  {
   "cell_type": "markdown",
   "metadata": {},
   "source": [
    "Now we'll look at the suspects who had the same victim more than once:"
   ]
  },
  {
   "cell_type": "code",
   "execution_count": 49,
   "metadata": {},
   "outputs": [
    {
     "data": {
      "text/html": [
       "\n",
       "        <iframe\n",
       "            width=\"100%\"\n",
       "            height=\"800px\"\n",
       "            src=\"graph.html\"\n",
       "            frameborder=\"0\"\n",
       "            allowfullscreen\n",
       "        ></iframe>\n",
       "        "
      ],
      "text/plain": [
       "<IPython.lib.display.IFrame at 0x7fd62804b760>"
      ]
     },
     "execution_count": 49,
     "metadata": {},
     "output_type": "execute_result"
    }
   ],
   "source": [
    "n_p3 = net.Network(height = \"800px\", width = \"100%\", notebook = True,\n",
    "               heading = 'People (suspects with repeat victim)', directed = True)\n",
    "\n",
    "for u,v,d in P.edges(data=True):\n",
    "    if d[\"weight\"] > 1:\n",
    "        n_p3.add_node(u, color = colors[P.nodes[u][\"Sex\"]])\n",
    "        n_p3.add_node(v, color = colors[P.nodes[v][\"Sex\"]])\n",
    "        n_p3.add_edge(u,v,value=d[\"weight\"])\n",
    "\n",
    "n_p3.show(\"graph.html\")"
   ]
  },
  {
   "cell_type": "markdown",
   "metadata": {},
   "source": [
    "The above visual shows that there are but a few suspects who victimize the same person multiple times.\n",
    "\n",
    "Next we will look at the relations where a suspect has been a victim of their victim. This might indicate some grudge or \"beef\" with one another."
   ]
  },
  {
   "cell_type": "code",
   "execution_count": 50,
   "metadata": {},
   "outputs": [
    {
     "data": {
      "text/html": [
       "\n",
       "        <iframe\n",
       "            width=\"100%\"\n",
       "            height=\"800px\"\n",
       "            src=\"graph.html\"\n",
       "            frameborder=\"0\"\n",
       "            allowfullscreen\n",
       "        ></iframe>\n",
       "        "
      ],
      "text/plain": [
       "<IPython.lib.display.IFrame at 0x7fd6281f38e0>"
      ]
     },
     "execution_count": 50,
     "metadata": {},
     "output_type": "execute_result"
    }
   ],
   "source": [
    "n_p4 = net.Network(height = \"800px\", width = \"100%\", notebook = True,\n",
    "               heading = 'Retaliation', directed = True)\n",
    "\n",
    "for u,v,d in P.edges(data=True):\n",
    "    if (v,u) in P.edges():\n",
    "        n_p4.add_node(u, color = colors[P.nodes[u][\"Sex\"]])\n",
    "        n_p4.add_node(v, color = colors[P.nodes[v][\"Sex\"]])\n",
    "        n_p4.add_edge(u,v,value=d[\"weight\"])\n",
    "\n",
    "n_p4.show(\"graph.html\")"
   ]
  },
  {
   "cell_type": "code",
   "execution_count": 52,
   "metadata": {},
   "outputs": [
    {
     "data": {
      "text/html": [
       "<div>\n",
       "<style scoped>\n",
       "    .dataframe tbody tr th:only-of-type {\n",
       "        vertical-align: middle;\n",
       "    }\n",
       "\n",
       "    .dataframe tbody tr th {\n",
       "        vertical-align: top;\n",
       "    }\n",
       "\n",
       "    .dataframe thead th {\n",
       "        text-align: right;\n",
       "    }\n",
       "</style>\n",
       "<table border=\"1\" class=\"dataframe\">\n",
       "  <thead>\n",
       "    <tr style=\"text-align: right;\">\n",
       "      <th></th>\n",
       "      <th>Person</th>\n",
       "      <th>Out Degree</th>\n",
       "      <th>In Degree</th>\n",
       "      <th>Closeness Centrality</th>\n",
       "      <th>Betweenness Centrality</th>\n",
       "      <th>In Degree Centrality</th>\n",
       "      <th>Out Degree Centrality</th>\n",
       "      <th>Rank</th>\n",
       "    </tr>\n",
       "  </thead>\n",
       "  <tbody>\n",
       "    <tr>\n",
       "      <th>0</th>\n",
       "      <td>WillisJenny</td>\n",
       "      <td>14</td>\n",
       "      <td>1</td>\n",
       "      <td>0.001412</td>\n",
       "      <td>0.000040</td>\n",
       "      <td>0.001412</td>\n",
       "      <td>0.019774</td>\n",
       "      <td>1.0</td>\n",
       "    </tr>\n",
       "    <tr>\n",
       "      <th>1</th>\n",
       "      <td>CarverJustin</td>\n",
       "      <td>10</td>\n",
       "      <td>0</td>\n",
       "      <td>0.000000</td>\n",
       "      <td>0.000000</td>\n",
       "      <td>0.000000</td>\n",
       "      <td>0.014124</td>\n",
       "      <td>2.0</td>\n",
       "    </tr>\n",
       "    <tr>\n",
       "      <th>2</th>\n",
       "      <td>HemphillBud</td>\n",
       "      <td>8</td>\n",
       "      <td>1</td>\n",
       "      <td>0.001412</td>\n",
       "      <td>0.000040</td>\n",
       "      <td>0.001412</td>\n",
       "      <td>0.011299</td>\n",
       "      <td>3.0</td>\n",
       "    </tr>\n",
       "    <tr>\n",
       "      <th>3</th>\n",
       "      <td>CarverJason</td>\n",
       "      <td>7</td>\n",
       "      <td>0</td>\n",
       "      <td>0.000000</td>\n",
       "      <td>0.000000</td>\n",
       "      <td>0.000000</td>\n",
       "      <td>0.009887</td>\n",
       "      <td>4.5</td>\n",
       "    </tr>\n",
       "    <tr>\n",
       "      <th>4</th>\n",
       "      <td>BallMelvin</td>\n",
       "      <td>7</td>\n",
       "      <td>0</td>\n",
       "      <td>0.000000</td>\n",
       "      <td>0.000000</td>\n",
       "      <td>0.000000</td>\n",
       "      <td>0.009887</td>\n",
       "      <td>4.5</td>\n",
       "    </tr>\n",
       "    <tr>\n",
       "      <th>10</th>\n",
       "      <td>AndersonWinston</td>\n",
       "      <td>6</td>\n",
       "      <td>0</td>\n",
       "      <td>0.000000</td>\n",
       "      <td>0.000000</td>\n",
       "      <td>0.000000</td>\n",
       "      <td>0.008475</td>\n",
       "      <td>8.5</td>\n",
       "    </tr>\n",
       "    <tr>\n",
       "      <th>8</th>\n",
       "      <td>DicksonCarter</td>\n",
       "      <td>6</td>\n",
       "      <td>3</td>\n",
       "      <td>0.004237</td>\n",
       "      <td>0.000040</td>\n",
       "      <td>0.004237</td>\n",
       "      <td>0.008475</td>\n",
       "      <td>8.5</td>\n",
       "    </tr>\n",
       "    <tr>\n",
       "      <th>9</th>\n",
       "      <td>BurnleyAaron</td>\n",
       "      <td>6</td>\n",
       "      <td>0</td>\n",
       "      <td>0.000000</td>\n",
       "      <td>0.000000</td>\n",
       "      <td>0.000000</td>\n",
       "      <td>0.008475</td>\n",
       "      <td>8.5</td>\n",
       "    </tr>\n",
       "    <tr>\n",
       "      <th>6</th>\n",
       "      <td>AbramsChad</td>\n",
       "      <td>6</td>\n",
       "      <td>6</td>\n",
       "      <td>0.013242</td>\n",
       "      <td>0.000180</td>\n",
       "      <td>0.008475</td>\n",
       "      <td>0.008475</td>\n",
       "      <td>8.5</td>\n",
       "    </tr>\n",
       "    <tr>\n",
       "      <th>5</th>\n",
       "      <td>MunsonKaty</td>\n",
       "      <td>6</td>\n",
       "      <td>1</td>\n",
       "      <td>0.001412</td>\n",
       "      <td>0.000014</td>\n",
       "      <td>0.001412</td>\n",
       "      <td>0.008475</td>\n",
       "      <td>8.5</td>\n",
       "    </tr>\n",
       "  </tbody>\n",
       "</table>\n",
       "</div>"
      ],
      "text/plain": [
       "             Person  Out Degree  In Degree  Closeness Centrality  \\\n",
       "0       WillisJenny          14          1              0.001412   \n",
       "1      CarverJustin          10          0              0.000000   \n",
       "2       HemphillBud           8          1              0.001412   \n",
       "3       CarverJason           7          0              0.000000   \n",
       "4        BallMelvin           7          0              0.000000   \n",
       "10  AndersonWinston           6          0              0.000000   \n",
       "8     DicksonCarter           6          3              0.004237   \n",
       "9      BurnleyAaron           6          0              0.000000   \n",
       "6        AbramsChad           6          6              0.013242   \n",
       "5        MunsonKaty           6          1              0.001412   \n",
       "\n",
       "    Betweenness Centrality  In Degree Centrality  Out Degree Centrality  Rank  \n",
       "0                 0.000040              0.001412               0.019774   1.0  \n",
       "1                 0.000000              0.000000               0.014124   2.0  \n",
       "2                 0.000040              0.001412               0.011299   3.0  \n",
       "3                 0.000000              0.000000               0.009887   4.5  \n",
       "4                 0.000000              0.000000               0.009887   4.5  \n",
       "10                0.000000              0.000000               0.008475   8.5  \n",
       "8                 0.000040              0.004237               0.008475   8.5  \n",
       "9                 0.000000              0.000000               0.008475   8.5  \n",
       "6                 0.000180              0.008475               0.008475   8.5  \n",
       "5                 0.000014              0.001412               0.008475   8.5  "
      ]
     },
     "execution_count": 52,
     "metadata": {},
     "output_type": "execute_result"
    }
   ],
   "source": [
    "# Compute centrality measures\n",
    "pcc = pd.DataFrame(nx.closeness_centrality(P).items(), columns=['Person','Closeness Centrality'])\n",
    "pbc = pd.DataFrame(nx.betweenness_centrality(P).items(), columns=['Person','Betweenness Centrality'])\n",
    "pdci = pd.DataFrame(nx.in_degree_centrality(P).items(), columns=['Person','In Degree Centrality'])\n",
    "pdco = pd.DataFrame(nx.out_degree_centrality(P).items(), columns=['Person','Out Degree Centrality'])\n",
    "\n",
    "# Display all measures\n",
    "data_frames = [suspect_df, victim_df, pcc, pbc, pdci, pdco]\n",
    "pmeasures = reduce(lambda left,right: pd.merge(left,right,on=['Person']), data_frames)\n",
    "\n",
    "pmeasures['Rank'] = pmeasures['Out Degree Centrality'].rank(ascending=False)\n",
    "pmeasures.sort_values(by=['Rank']).head(10)"
   ]
  },
  {
   "cell_type": "markdown",
   "metadata": {},
   "source": [
    "### Crime Analysis\n"
   ]
  },
  {
   "cell_type": "markdown",
   "metadata": {},
   "source": [
    "Unlike the projected graph for people, the crime projected graph is less interpretable. That is because of the directed nature of the bipartite graph. For example, two crimes will only be related when the victim of crime \"A\" is a suspect in crime \"B\".\n",
    "\n",
    "First we will look at the crimes with the highest "
   ]
  },
  {
   "cell_type": "code",
   "execution_count": 53,
   "metadata": {},
   "outputs": [
    {
     "data": {
      "text/html": [
       "<div>\n",
       "<style scoped>\n",
       "    .dataframe tbody tr th:only-of-type {\n",
       "        vertical-align: middle;\n",
       "    }\n",
       "\n",
       "    .dataframe tbody tr th {\n",
       "        vertical-align: top;\n",
       "    }\n",
       "\n",
       "    .dataframe thead th {\n",
       "        text-align: right;\n",
       "    }\n",
       "</style>\n",
       "<table border=\"1\" class=\"dataframe\">\n",
       "  <thead>\n",
       "    <tr style=\"text-align: right;\">\n",
       "      <th></th>\n",
       "      <th>Crime</th>\n",
       "      <th>Out Degree</th>\n",
       "    </tr>\n",
       "  </thead>\n",
       "  <tbody>\n",
       "    <tr>\n",
       "      <th>0</th>\n",
       "      <td>C23</td>\n",
       "      <td>23</td>\n",
       "    </tr>\n",
       "    <tr>\n",
       "      <th>1</th>\n",
       "      <td>C550</td>\n",
       "      <td>23</td>\n",
       "    </tr>\n",
       "    <tr>\n",
       "      <th>2</th>\n",
       "      <td>C525</td>\n",
       "      <td>23</td>\n",
       "    </tr>\n",
       "    <tr>\n",
       "      <th>3</th>\n",
       "      <td>C119</td>\n",
       "      <td>19</td>\n",
       "    </tr>\n",
       "    <tr>\n",
       "      <th>4</th>\n",
       "      <td>C5</td>\n",
       "      <td>17</td>\n",
       "    </tr>\n",
       "    <tr>\n",
       "      <th>5</th>\n",
       "      <td>C19</td>\n",
       "      <td>17</td>\n",
       "    </tr>\n",
       "    <tr>\n",
       "      <th>6</th>\n",
       "      <td>C7</td>\n",
       "      <td>17</td>\n",
       "    </tr>\n",
       "    <tr>\n",
       "      <th>7</th>\n",
       "      <td>C431</td>\n",
       "      <td>15</td>\n",
       "    </tr>\n",
       "    <tr>\n",
       "      <th>8</th>\n",
       "      <td>C426</td>\n",
       "      <td>15</td>\n",
       "    </tr>\n",
       "    <tr>\n",
       "      <th>9</th>\n",
       "      <td>C279</td>\n",
       "      <td>14</td>\n",
       "    </tr>\n",
       "  </tbody>\n",
       "</table>\n",
       "</div>"
      ],
      "text/plain": [
       "  Crime  Out Degree\n",
       "0   C23          23\n",
       "1  C550          23\n",
       "2  C525          23\n",
       "3  C119          19\n",
       "4    C5          17\n",
       "5   C19          17\n",
       "6    C7          17\n",
       "7  C431          15\n",
       "8  C426          15\n",
       "9  C279          14"
      ]
     },
     "execution_count": 53,
     "metadata": {},
     "output_type": "execute_result"
    }
   ],
   "source": [
    "crime_df = pd.DataFrame(sorted(C.out_degree(), key = lambda x: x[1], reverse=True), columns=['Crime','Out Degree'])\n",
    "crime_df.head(10)"
   ]
  },
  {
   "cell_type": "markdown",
   "metadata": {},
   "source": [
    "Let's look deeper at the top result, Crime \"C550\". A degree of 23 is rather large."
   ]
  },
  {
   "cell_type": "code",
   "execution_count": 54,
   "metadata": {},
   "outputs": [
    {
     "data": {
      "text/html": [
       "<div>\n",
       "<style scoped>\n",
       "    .dataframe tbody tr th:only-of-type {\n",
       "        vertical-align: middle;\n",
       "    }\n",
       "\n",
       "    .dataframe tbody tr th {\n",
       "        vertical-align: top;\n",
       "    }\n",
       "\n",
       "    .dataframe thead th {\n",
       "        text-align: right;\n",
       "    }\n",
       "</style>\n",
       "<table border=\"1\" class=\"dataframe\">\n",
       "  <thead>\n",
       "    <tr style=\"text-align: right;\">\n",
       "      <th></th>\n",
       "      <th>Person</th>\n",
       "      <th>Crime</th>\n",
       "      <th>Name</th>\n",
       "      <th>Sex</th>\n",
       "      <th>Role</th>\n",
       "    </tr>\n",
       "  </thead>\n",
       "  <tbody>\n",
       "    <tr>\n",
       "      <th>1452</th>\n",
       "      <td>815</td>\n",
       "      <td>C550</td>\n",
       "      <td>WillisJenny</td>\n",
       "      <td>F</td>\n",
       "      <td>Victim</td>\n",
       "    </tr>\n",
       "  </tbody>\n",
       "</table>\n",
       "</div>"
      ],
      "text/plain": [
       "      Person Crime         Name Sex    Role\n",
       "1452     815  C550  WillisJenny   F  Victim"
      ]
     },
     "execution_count": 54,
     "metadata": {},
     "output_type": "execute_result"
    }
   ],
   "source": [
    "crime[crime[\"Crime\"]==\"C550\"]"
   ]
  },
  {
   "cell_type": "markdown",
   "metadata": {},
   "source": [
    "Interestingly, there is only one person associated, \"WillisJenny\". However, when we look her name up we see that there are many crimes where she is listed as a suspect:"
   ]
  },
  {
   "cell_type": "code",
   "execution_count": 55,
   "metadata": {
    "scrolled": true
   },
   "outputs": [
    {
     "data": {
      "text/html": [
       "<div>\n",
       "<style scoped>\n",
       "    .dataframe tbody tr th:only-of-type {\n",
       "        vertical-align: middle;\n",
       "    }\n",
       "\n",
       "    .dataframe tbody tr th {\n",
       "        vertical-align: top;\n",
       "    }\n",
       "\n",
       "    .dataframe thead th {\n",
       "        text-align: right;\n",
       "    }\n",
       "</style>\n",
       "<table border=\"1\" class=\"dataframe\">\n",
       "  <thead>\n",
       "    <tr style=\"text-align: right;\">\n",
       "      <th></th>\n",
       "      <th>Person</th>\n",
       "      <th>Crime</th>\n",
       "      <th>Name</th>\n",
       "      <th>Sex</th>\n",
       "      <th>Role</th>\n",
       "    </tr>\n",
       "  </thead>\n",
       "  <tbody>\n",
       "    <tr>\n",
       "      <th>1434</th>\n",
       "      <td>815</td>\n",
       "      <td>C511</td>\n",
       "      <td>WillisJenny</td>\n",
       "      <td>F</td>\n",
       "      <td>Suspect</td>\n",
       "    </tr>\n",
       "    <tr>\n",
       "      <th>1435</th>\n",
       "      <td>815</td>\n",
       "      <td>C513</td>\n",
       "      <td>WillisJenny</td>\n",
       "      <td>F</td>\n",
       "      <td>Suspect</td>\n",
       "    </tr>\n",
       "    <tr>\n",
       "      <th>1436</th>\n",
       "      <td>815</td>\n",
       "      <td>C529</td>\n",
       "      <td>WillisJenny</td>\n",
       "      <td>F</td>\n",
       "      <td>Suspect</td>\n",
       "    </tr>\n",
       "    <tr>\n",
       "      <th>1437</th>\n",
       "      <td>815</td>\n",
       "      <td>C546</td>\n",
       "      <td>WillisJenny</td>\n",
       "      <td>F</td>\n",
       "      <td>Suspect</td>\n",
       "    </tr>\n",
       "    <tr>\n",
       "      <th>1438</th>\n",
       "      <td>815</td>\n",
       "      <td>C308</td>\n",
       "      <td>WillisJenny</td>\n",
       "      <td>F</td>\n",
       "      <td>Suspect</td>\n",
       "    </tr>\n",
       "    <tr>\n",
       "      <th>1439</th>\n",
       "      <td>815</td>\n",
       "      <td>C489</td>\n",
       "      <td>WillisJenny</td>\n",
       "      <td>F</td>\n",
       "      <td>Suspect</td>\n",
       "    </tr>\n",
       "    <tr>\n",
       "      <th>1440</th>\n",
       "      <td>815</td>\n",
       "      <td>C473</td>\n",
       "      <td>WillisJenny</td>\n",
       "      <td>F</td>\n",
       "      <td>Suspect</td>\n",
       "    </tr>\n",
       "    <tr>\n",
       "      <th>1441</th>\n",
       "      <td>815</td>\n",
       "      <td>C525</td>\n",
       "      <td>WillisJenny</td>\n",
       "      <td>F</td>\n",
       "      <td>Victim</td>\n",
       "    </tr>\n",
       "    <tr>\n",
       "      <th>1442</th>\n",
       "      <td>815</td>\n",
       "      <td>C400</td>\n",
       "      <td>WillisJenny</td>\n",
       "      <td>F</td>\n",
       "      <td>Suspect</td>\n",
       "    </tr>\n",
       "    <tr>\n",
       "      <th>1443</th>\n",
       "      <td>815</td>\n",
       "      <td>C133</td>\n",
       "      <td>WillisJenny</td>\n",
       "      <td>F</td>\n",
       "      <td>Suspect</td>\n",
       "    </tr>\n",
       "    <tr>\n",
       "      <th>1444</th>\n",
       "      <td>815</td>\n",
       "      <td>C359</td>\n",
       "      <td>WillisJenny</td>\n",
       "      <td>F</td>\n",
       "      <td>Suspect</td>\n",
       "    </tr>\n",
       "    <tr>\n",
       "      <th>1445</th>\n",
       "      <td>815</td>\n",
       "      <td>C185</td>\n",
       "      <td>WillisJenny</td>\n",
       "      <td>F</td>\n",
       "      <td>Suspect</td>\n",
       "    </tr>\n",
       "    <tr>\n",
       "      <th>1446</th>\n",
       "      <td>815</td>\n",
       "      <td>C47</td>\n",
       "      <td>WillisJenny</td>\n",
       "      <td>F</td>\n",
       "      <td>Suspect</td>\n",
       "    </tr>\n",
       "    <tr>\n",
       "      <th>1447</th>\n",
       "      <td>815</td>\n",
       "      <td>C547</td>\n",
       "      <td>WillisJenny</td>\n",
       "      <td>F</td>\n",
       "      <td>Suspect</td>\n",
       "    </tr>\n",
       "    <tr>\n",
       "      <th>1448</th>\n",
       "      <td>815</td>\n",
       "      <td>C548</td>\n",
       "      <td>WillisJenny</td>\n",
       "      <td>F</td>\n",
       "      <td>Suspect</td>\n",
       "    </tr>\n",
       "    <tr>\n",
       "      <th>1449</th>\n",
       "      <td>815</td>\n",
       "      <td>C352</td>\n",
       "      <td>WillisJenny</td>\n",
       "      <td>F</td>\n",
       "      <td>Suspect</td>\n",
       "    </tr>\n",
       "    <tr>\n",
       "      <th>1450</th>\n",
       "      <td>815</td>\n",
       "      <td>C549</td>\n",
       "      <td>WillisJenny</td>\n",
       "      <td>F</td>\n",
       "      <td>Suspect</td>\n",
       "    </tr>\n",
       "    <tr>\n",
       "      <th>1451</th>\n",
       "      <td>815</td>\n",
       "      <td>C499</td>\n",
       "      <td>WillisJenny</td>\n",
       "      <td>F</td>\n",
       "      <td>Suspect</td>\n",
       "    </tr>\n",
       "    <tr>\n",
       "      <th>1452</th>\n",
       "      <td>815</td>\n",
       "      <td>C550</td>\n",
       "      <td>WillisJenny</td>\n",
       "      <td>F</td>\n",
       "      <td>Victim</td>\n",
       "    </tr>\n",
       "    <tr>\n",
       "      <th>1453</th>\n",
       "      <td>815</td>\n",
       "      <td>C551</td>\n",
       "      <td>WillisJenny</td>\n",
       "      <td>F</td>\n",
       "      <td>Suspect</td>\n",
       "    </tr>\n",
       "    <tr>\n",
       "      <th>1454</th>\n",
       "      <td>815</td>\n",
       "      <td>C404</td>\n",
       "      <td>WillisJenny</td>\n",
       "      <td>F</td>\n",
       "      <td>Suspect</td>\n",
       "    </tr>\n",
       "    <tr>\n",
       "      <th>1455</th>\n",
       "      <td>815</td>\n",
       "      <td>C512</td>\n",
       "      <td>WillisJenny</td>\n",
       "      <td>F</td>\n",
       "      <td>Suspect</td>\n",
       "    </tr>\n",
       "    <tr>\n",
       "      <th>1456</th>\n",
       "      <td>815</td>\n",
       "      <td>C160</td>\n",
       "      <td>WillisJenny</td>\n",
       "      <td>F</td>\n",
       "      <td>Suspect</td>\n",
       "    </tr>\n",
       "    <tr>\n",
       "      <th>1457</th>\n",
       "      <td>815</td>\n",
       "      <td>C415</td>\n",
       "      <td>WillisJenny</td>\n",
       "      <td>F</td>\n",
       "      <td>Suspect</td>\n",
       "    </tr>\n",
       "    <tr>\n",
       "      <th>1458</th>\n",
       "      <td>815</td>\n",
       "      <td>C256</td>\n",
       "      <td>WillisJenny</td>\n",
       "      <td>F</td>\n",
       "      <td>Suspect</td>\n",
       "    </tr>\n",
       "  </tbody>\n",
       "</table>\n",
       "</div>"
      ],
      "text/plain": [
       "      Person Crime         Name Sex     Role\n",
       "1434     815  C511  WillisJenny   F  Suspect\n",
       "1435     815  C513  WillisJenny   F  Suspect\n",
       "1436     815  C529  WillisJenny   F  Suspect\n",
       "1437     815  C546  WillisJenny   F  Suspect\n",
       "1438     815  C308  WillisJenny   F  Suspect\n",
       "1439     815  C489  WillisJenny   F  Suspect\n",
       "1440     815  C473  WillisJenny   F  Suspect\n",
       "1441     815  C525  WillisJenny   F   Victim\n",
       "1442     815  C400  WillisJenny   F  Suspect\n",
       "1443     815  C133  WillisJenny   F  Suspect\n",
       "1444     815  C359  WillisJenny   F  Suspect\n",
       "1445     815  C185  WillisJenny   F  Suspect\n",
       "1446     815   C47  WillisJenny   F  Suspect\n",
       "1447     815  C547  WillisJenny   F  Suspect\n",
       "1448     815  C548  WillisJenny   F  Suspect\n",
       "1449     815  C352  WillisJenny   F  Suspect\n",
       "1450     815  C549  WillisJenny   F  Suspect\n",
       "1451     815  C499  WillisJenny   F  Suspect\n",
       "1452     815  C550  WillisJenny   F   Victim\n",
       "1453     815  C551  WillisJenny   F  Suspect\n",
       "1454     815  C404  WillisJenny   F  Suspect\n",
       "1455     815  C512  WillisJenny   F  Suspect\n",
       "1456     815  C160  WillisJenny   F  Suspect\n",
       "1457     815  C415  WillisJenny   F  Suspect\n",
       "1458     815  C256  WillisJenny   F  Suspect"
      ]
     },
     "execution_count": 55,
     "metadata": {},
     "output_type": "execute_result"
    }
   ],
   "source": [
    "crime[crime[\"Name\"]==\"WillisJenny\"]"
   ]
  },
  {
   "cell_type": "markdown",
   "metadata": {},
   "source": [
    "Now we'll look at crime in degrees. In this context that connection represents how many victims of other crimes became suspects."
   ]
  },
  {
   "cell_type": "code",
   "execution_count": 56,
   "metadata": {},
   "outputs": [
    {
     "data": {
      "text/html": [
       "<div>\n",
       "<style scoped>\n",
       "    .dataframe tbody tr th:only-of-type {\n",
       "        vertical-align: middle;\n",
       "    }\n",
       "\n",
       "    .dataframe tbody tr th {\n",
       "        vertical-align: top;\n",
       "    }\n",
       "\n",
       "    .dataframe thead th {\n",
       "        text-align: right;\n",
       "    }\n",
       "</style>\n",
       "<table border=\"1\" class=\"dataframe\">\n",
       "  <thead>\n",
       "    <tr style=\"text-align: right;\">\n",
       "      <th></th>\n",
       "      <th>Crime</th>\n",
       "      <th>In Degree</th>\n",
       "    </tr>\n",
       "  </thead>\n",
       "  <tbody>\n",
       "    <tr>\n",
       "      <th>0</th>\n",
       "      <td>C189</td>\n",
       "      <td>15</td>\n",
       "    </tr>\n",
       "    <tr>\n",
       "      <th>1</th>\n",
       "      <td>C34</td>\n",
       "      <td>10</td>\n",
       "    </tr>\n",
       "    <tr>\n",
       "      <th>2</th>\n",
       "      <td>C109</td>\n",
       "      <td>10</td>\n",
       "    </tr>\n",
       "    <tr>\n",
       "      <th>3</th>\n",
       "      <td>C169</td>\n",
       "      <td>9</td>\n",
       "    </tr>\n",
       "    <tr>\n",
       "      <th>4</th>\n",
       "      <td>C101</td>\n",
       "      <td>9</td>\n",
       "    </tr>\n",
       "    <tr>\n",
       "      <th>5</th>\n",
       "      <td>C106</td>\n",
       "      <td>9</td>\n",
       "    </tr>\n",
       "    <tr>\n",
       "      <th>6</th>\n",
       "      <td>C99</td>\n",
       "      <td>8</td>\n",
       "    </tr>\n",
       "    <tr>\n",
       "      <th>7</th>\n",
       "      <td>C358</td>\n",
       "      <td>7</td>\n",
       "    </tr>\n",
       "    <tr>\n",
       "      <th>8</th>\n",
       "      <td>C469</td>\n",
       "      <td>7</td>\n",
       "    </tr>\n",
       "    <tr>\n",
       "      <th>9</th>\n",
       "      <td>C470</td>\n",
       "      <td>7</td>\n",
       "    </tr>\n",
       "  </tbody>\n",
       "</table>\n",
       "</div>"
      ],
      "text/plain": [
       "  Crime  In Degree\n",
       "0  C189         15\n",
       "1   C34         10\n",
       "2  C109         10\n",
       "3  C169          9\n",
       "4  C101          9\n",
       "5  C106          9\n",
       "6   C99          8\n",
       "7  C358          7\n",
       "8  C469          7\n",
       "9  C470          7"
      ]
     },
     "execution_count": 56,
     "metadata": {},
     "output_type": "execute_result"
    }
   ],
   "source": [
    "crime_df = pd.DataFrame(sorted(C.in_degree(), key = lambda x: x[1], reverse=True), columns=['Crime','In Degree'])\n",
    "crime_df.head(10)"
   ]
  },
  {
   "cell_type": "markdown",
   "metadata": {},
   "source": [
    "Let's look at the top example:"
   ]
  },
  {
   "cell_type": "code",
   "execution_count": 57,
   "metadata": {},
   "outputs": [
    {
     "data": {
      "text/html": [
       "<div>\n",
       "<style scoped>\n",
       "    .dataframe tbody tr th:only-of-type {\n",
       "        vertical-align: middle;\n",
       "    }\n",
       "\n",
       "    .dataframe tbody tr th {\n",
       "        vertical-align: top;\n",
       "    }\n",
       "\n",
       "    .dataframe thead th {\n",
       "        text-align: right;\n",
       "    }\n",
       "</style>\n",
       "<table border=\"1\" class=\"dataframe\">\n",
       "  <thead>\n",
       "    <tr style=\"text-align: right;\">\n",
       "      <th></th>\n",
       "      <th>Person</th>\n",
       "      <th>Crime</th>\n",
       "      <th>Name</th>\n",
       "      <th>Sex</th>\n",
       "      <th>Role</th>\n",
       "    </tr>\n",
       "  </thead>\n",
       "  <tbody>\n",
       "    <tr>\n",
       "      <th>258</th>\n",
       "      <td>124</td>\n",
       "      <td>C189</td>\n",
       "      <td>CandyCarol</td>\n",
       "      <td>F</td>\n",
       "      <td>Victim</td>\n",
       "    </tr>\n",
       "    <tr>\n",
       "      <th>275</th>\n",
       "      <td>131</td>\n",
       "      <td>C189</td>\n",
       "      <td>CarletonBonnie</td>\n",
       "      <td>F</td>\n",
       "      <td>Suspect</td>\n",
       "    </tr>\n",
       "    <tr>\n",
       "      <th>307</th>\n",
       "      <td>152</td>\n",
       "      <td>C189</td>\n",
       "      <td>ChambersGina</td>\n",
       "      <td>F</td>\n",
       "      <td>Suspect</td>\n",
       "    </tr>\n",
       "    <tr>\n",
       "      <th>730</th>\n",
       "      <td>404</td>\n",
       "      <td>C189</td>\n",
       "      <td>JeffersonArnold</td>\n",
       "      <td>M</td>\n",
       "      <td>Suspect</td>\n",
       "    </tr>\n",
       "    <tr>\n",
       "      <th>743</th>\n",
       "      <td>406</td>\n",
       "      <td>C189</td>\n",
       "      <td>JeffersonMillie</td>\n",
       "      <td>F</td>\n",
       "      <td>Suspect</td>\n",
       "    </tr>\n",
       "    <tr>\n",
       "      <th>860</th>\n",
       "      <td>472</td>\n",
       "      <td>C189</td>\n",
       "      <td>LittleJessie</td>\n",
       "      <td>F</td>\n",
       "      <td>Suspect</td>\n",
       "    </tr>\n",
       "    <tr>\n",
       "      <th>1096</th>\n",
       "      <td>610</td>\n",
       "      <td>C189</td>\n",
       "      <td>PotterAntonio</td>\n",
       "      <td>M</td>\n",
       "      <td>Suspect</td>\n",
       "    </tr>\n",
       "    <tr>\n",
       "      <th>1408</th>\n",
       "      <td>798</td>\n",
       "      <td>C189</td>\n",
       "      <td>WhartonKelvin</td>\n",
       "      <td>M</td>\n",
       "      <td>Suspect</td>\n",
       "    </tr>\n",
       "  </tbody>\n",
       "</table>\n",
       "</div>"
      ],
      "text/plain": [
       "      Person Crime             Name Sex     Role\n",
       "258      124  C189       CandyCarol   F   Victim\n",
       "275      131  C189   CarletonBonnie   F  Suspect\n",
       "307      152  C189     ChambersGina   F  Suspect\n",
       "730      404  C189  JeffersonArnold   M  Suspect\n",
       "743      406  C189  JeffersonMillie   F  Suspect\n",
       "860      472  C189     LittleJessie   F  Suspect\n",
       "1096     610  C189    PotterAntonio   M  Suspect\n",
       "1408     798  C189    WhartonKelvin   M  Suspect"
      ]
     },
     "execution_count": 57,
     "metadata": {},
     "output_type": "execute_result"
    }
   ],
   "source": [
    "crime[crime[\"Crime\"]==\"C189\"]"
   ]
  },
  {
   "cell_type": "markdown",
   "metadata": {},
   "source": [
    "Any of those suspects who were a victim in another crime creates the edge. For example:"
   ]
  },
  {
   "cell_type": "code",
   "execution_count": 58,
   "metadata": {},
   "outputs": [
    {
     "data": {
      "text/html": [
       "<div>\n",
       "<style scoped>\n",
       "    .dataframe tbody tr th:only-of-type {\n",
       "        vertical-align: middle;\n",
       "    }\n",
       "\n",
       "    .dataframe tbody tr th {\n",
       "        vertical-align: top;\n",
       "    }\n",
       "\n",
       "    .dataframe thead th {\n",
       "        text-align: right;\n",
       "    }\n",
       "</style>\n",
       "<table border=\"1\" class=\"dataframe\">\n",
       "  <thead>\n",
       "    <tr style=\"text-align: right;\">\n",
       "      <th></th>\n",
       "      <th>Person</th>\n",
       "      <th>Crime</th>\n",
       "      <th>Name</th>\n",
       "      <th>Sex</th>\n",
       "      <th>Role</th>\n",
       "    </tr>\n",
       "  </thead>\n",
       "  <tbody>\n",
       "    <tr>\n",
       "      <th>860</th>\n",
       "      <td>472</td>\n",
       "      <td>C189</td>\n",
       "      <td>LittleJessie</td>\n",
       "      <td>F</td>\n",
       "      <td>Suspect</td>\n",
       "    </tr>\n",
       "    <tr>\n",
       "      <th>861</th>\n",
       "      <td>472</td>\n",
       "      <td>C444</td>\n",
       "      <td>LittleJessie</td>\n",
       "      <td>F</td>\n",
       "      <td>Victim</td>\n",
       "    </tr>\n",
       "    <tr>\n",
       "      <th>862</th>\n",
       "      <td>472</td>\n",
       "      <td>C445</td>\n",
       "      <td>LittleJessie</td>\n",
       "      <td>F</td>\n",
       "      <td>Victim</td>\n",
       "    </tr>\n",
       "  </tbody>\n",
       "</table>\n",
       "</div>"
      ],
      "text/plain": [
       "     Person Crime          Name Sex     Role\n",
       "860     472  C189  LittleJessie   F  Suspect\n",
       "861     472  C444  LittleJessie   F   Victim\n",
       "862     472  C445  LittleJessie   F   Victim"
      ]
     },
     "execution_count": 58,
     "metadata": {},
     "output_type": "execute_result"
    }
   ],
   "source": [
    "crime[crime[\"Name\"] == \"LittleJessie\"]"
   ]
  },
  {
   "cell_type": "code",
   "execution_count": 59,
   "metadata": {},
   "outputs": [
    {
     "data": {
      "text/html": [
       "<div>\n",
       "<style scoped>\n",
       "    .dataframe tbody tr th:only-of-type {\n",
       "        vertical-align: middle;\n",
       "    }\n",
       "\n",
       "    .dataframe tbody tr th {\n",
       "        vertical-align: top;\n",
       "    }\n",
       "\n",
       "    .dataframe thead th {\n",
       "        text-align: right;\n",
       "    }\n",
       "</style>\n",
       "<table border=\"1\" class=\"dataframe\">\n",
       "  <thead>\n",
       "    <tr style=\"text-align: right;\">\n",
       "      <th></th>\n",
       "      <th>Crime</th>\n",
       "      <th>In Degree</th>\n",
       "      <th>Closeness Centrality</th>\n",
       "      <th>Betweenness Centrality</th>\n",
       "      <th>In Degree Centrality</th>\n",
       "      <th>Out Degree Centrality</th>\n",
       "      <th>Rank</th>\n",
       "    </tr>\n",
       "  </thead>\n",
       "  <tbody>\n",
       "    <tr>\n",
       "      <th>0</th>\n",
       "      <td>C189</td>\n",
       "      <td>15</td>\n",
       "      <td>0.027430</td>\n",
       "      <td>0.000000</td>\n",
       "      <td>0.027322</td>\n",
       "      <td>0.000000</td>\n",
       "      <td>1.0</td>\n",
       "    </tr>\n",
       "    <tr>\n",
       "      <th>1</th>\n",
       "      <td>C34</td>\n",
       "      <td>10</td>\n",
       "      <td>0.018735</td>\n",
       "      <td>0.000179</td>\n",
       "      <td>0.018215</td>\n",
       "      <td>0.014572</td>\n",
       "      <td>2.5</td>\n",
       "    </tr>\n",
       "    <tr>\n",
       "      <th>2</th>\n",
       "      <td>C109</td>\n",
       "      <td>10</td>\n",
       "      <td>0.018790</td>\n",
       "      <td>0.000000</td>\n",
       "      <td>0.018215</td>\n",
       "      <td>0.000000</td>\n",
       "      <td>2.5</td>\n",
       "    </tr>\n",
       "    <tr>\n",
       "      <th>3</th>\n",
       "      <td>C169</td>\n",
       "      <td>9</td>\n",
       "      <td>0.016393</td>\n",
       "      <td>0.000000</td>\n",
       "      <td>0.016393</td>\n",
       "      <td>0.000000</td>\n",
       "      <td>5.0</td>\n",
       "    </tr>\n",
       "    <tr>\n",
       "      <th>4</th>\n",
       "      <td>C101</td>\n",
       "      <td>9</td>\n",
       "      <td>0.017102</td>\n",
       "      <td>0.000086</td>\n",
       "      <td>0.016393</td>\n",
       "      <td>0.003643</td>\n",
       "      <td>5.0</td>\n",
       "    </tr>\n",
       "    <tr>\n",
       "      <th>5</th>\n",
       "      <td>C106</td>\n",
       "      <td>9</td>\n",
       "      <td>0.017102</td>\n",
       "      <td>0.000000</td>\n",
       "      <td>0.016393</td>\n",
       "      <td>0.000000</td>\n",
       "      <td>5.0</td>\n",
       "    </tr>\n",
       "    <tr>\n",
       "      <th>6</th>\n",
       "      <td>C99</td>\n",
       "      <td>8</td>\n",
       "      <td>0.015429</td>\n",
       "      <td>0.000000</td>\n",
       "      <td>0.014572</td>\n",
       "      <td>0.007286</td>\n",
       "      <td>7.0</td>\n",
       "    </tr>\n",
       "    <tr>\n",
       "      <th>10</th>\n",
       "      <td>C320</td>\n",
       "      <td>7</td>\n",
       "      <td>0.012953</td>\n",
       "      <td>0.000000</td>\n",
       "      <td>0.012750</td>\n",
       "      <td>0.000000</td>\n",
       "      <td>9.5</td>\n",
       "    </tr>\n",
       "    <tr>\n",
       "      <th>9</th>\n",
       "      <td>C470</td>\n",
       "      <td>7</td>\n",
       "      <td>0.012953</td>\n",
       "      <td>0.000000</td>\n",
       "      <td>0.012750</td>\n",
       "      <td>0.000000</td>\n",
       "      <td>9.5</td>\n",
       "    </tr>\n",
       "    <tr>\n",
       "      <th>7</th>\n",
       "      <td>C358</td>\n",
       "      <td>7</td>\n",
       "      <td>0.013413</td>\n",
       "      <td>0.000000</td>\n",
       "      <td>0.012750</td>\n",
       "      <td>0.000000</td>\n",
       "      <td>9.5</td>\n",
       "    </tr>\n",
       "  </tbody>\n",
       "</table>\n",
       "</div>"
      ],
      "text/plain": [
       "   Crime  In Degree  Closeness Centrality  Betweenness Centrality  \\\n",
       "0   C189         15              0.027430                0.000000   \n",
       "1    C34         10              0.018735                0.000179   \n",
       "2   C109         10              0.018790                0.000000   \n",
       "3   C169          9              0.016393                0.000000   \n",
       "4   C101          9              0.017102                0.000086   \n",
       "5   C106          9              0.017102                0.000000   \n",
       "6    C99          8              0.015429                0.000000   \n",
       "10  C320          7              0.012953                0.000000   \n",
       "9   C470          7              0.012953                0.000000   \n",
       "7   C358          7              0.013413                0.000000   \n",
       "\n",
       "    In Degree Centrality  Out Degree Centrality  Rank  \n",
       "0               0.027322               0.000000   1.0  \n",
       "1               0.018215               0.014572   2.5  \n",
       "2               0.018215               0.000000   2.5  \n",
       "3               0.016393               0.000000   5.0  \n",
       "4               0.016393               0.003643   5.0  \n",
       "5               0.016393               0.000000   5.0  \n",
       "6               0.014572               0.007286   7.0  \n",
       "10              0.012750               0.000000   9.5  \n",
       "9               0.012750               0.000000   9.5  \n",
       "7               0.012750               0.000000   9.5  "
      ]
     },
     "execution_count": 59,
     "metadata": {},
     "output_type": "execute_result"
    }
   ],
   "source": [
    "# Compute centrality measures\n",
    "ccc = pd.DataFrame(nx.closeness_centrality(C).items(), columns=['Crime','Closeness Centrality'])\n",
    "cbc = pd.DataFrame(nx.betweenness_centrality(C).items(), columns=['Crime','Betweenness Centrality'])\n",
    "cdci = pd.DataFrame(nx.in_degree_centrality(C).items(), columns=['Crime','In Degree Centrality'])\n",
    "cdco = pd.DataFrame(nx.out_degree_centrality(C).items(), columns=['Crime','Out Degree Centrality'])\n",
    "\n",
    "# Display all measures\n",
    "data_frames = [crime_df, ccc, cbc, cdci, cdco]\n",
    "pmeasures = reduce(lambda left,right: pd.merge(left,right,on=['Crime']), data_frames)\n",
    "\n",
    "pmeasures['Rank'] = pmeasures['In Degree Centrality'].rank(ascending=False)\n",
    "pmeasures.sort_values(by=['Rank']).head(10)"
   ]
  },
  {
   "cell_type": "code",
   "execution_count": null,
   "metadata": {},
   "outputs": [],
   "source": []
  }
 ],
 "metadata": {
  "kernelspec": {
   "display_name": "Python 3",
   "language": "python",
   "name": "python3"
  },
  "language_info": {
   "codemirror_mode": {
    "name": "ipython",
    "version": 3
   },
   "file_extension": ".py",
   "mimetype": "text/x-python",
   "name": "python",
   "nbconvert_exporter": "python",
   "pygments_lexer": "ipython3",
   "version": "3.8.3"
  },
  "toc": {
   "base_numbering": 1,
   "nav_menu": {},
   "number_sections": true,
   "sideBar": true,
   "skip_h1_title": true,
   "title_cell": "Table of Contents",
   "title_sidebar": "Contents",
   "toc_cell": false,
   "toc_position": {},
   "toc_section_display": true,
   "toc_window_display": false
  },
  "varInspector": {
   "cols": {
    "lenName": 16,
    "lenType": 16,
    "lenVar": 40
   },
   "kernels_config": {
    "python": {
     "delete_cmd_postfix": "",
     "delete_cmd_prefix": "del ",
     "library": "var_list.py",
     "varRefreshCmd": "print(var_dic_list())"
    },
    "r": {
     "delete_cmd_postfix": ") ",
     "delete_cmd_prefix": "rm(",
     "library": "var_list.r",
     "varRefreshCmd": "cat(var_dic_list()) "
    }
   },
   "types_to_exclude": [
    "module",
    "function",
    "builtin_function_or_method",
    "instance",
    "_Feature"
   ],
   "window_display": false
  }
 },
 "nbformat": 4,
 "nbformat_minor": 4
}
