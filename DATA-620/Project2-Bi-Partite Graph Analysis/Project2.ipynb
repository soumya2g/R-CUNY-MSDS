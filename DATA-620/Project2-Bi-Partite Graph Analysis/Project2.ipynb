{
 "cells": [
  {
   "cell_type": "markdown",
   "metadata": {},
   "source": [
    "# Project2 - Two-Node Network Analysis\n",
    "\n",
    "**GROUP: Forhad Akbar, Adam Douglas, and Soumya Ghosh**"
   ]
  },
  {
   "cell_type": "markdown",
   "metadata": {},
   "source": [
    "## Project Overview\n",
    "1. Identify a large 2-node network dataset—you can start with a dataset in a repository.  Your data should meet the criteria that it consists of ties between and not within two (or more) distinct groups.\n",
    "2. Reduce the size of the network using a method such as the island method described in chapter 4 of social network analysis.\n",
    "3. What can you infer about each of the distinct groups?"
   ]
  },
  {
   "cell_type": "markdown",
   "metadata": {},
   "source": [
    "## Datset Background\n",
    "\n",
    "In the 1990s Rick Rosenfeld and Norm White used police records to collect data on crime in St. Louis. They began with five homicides and recorded the names of all the individuals who had been involved as victims, suspects or witnesses. They then explored the files and recorded all the other crimes in which those same individuals appeared. This snowball process was continued until they had data on 557 crime events. Those events involved 870 participants of which: 569 appeared as victims 682 appeared as suspects 195 appeared as witnesses, and 41 were dual (they were recorded both as victims and suspects in the same crime. Their data appear, then, as an 870 by 557, individual by crime event matrix. Victims are coded as 1, suspects as 2, witnesses as 3 and duals as 4. In addition Rosenfeld and White recorded the sex of each individual.\n",
    "\n",
    "### Data Sources:\n",
    "\n",
    "https://github.com/nderzsy/Network-Analysis-in-Python---Tutorial-JupyterCon18-ODSCEast18/tree/master/datafiles/social/crime\n",
    "\n",
    "http://moreno.ss.uci.edu/data.html#crime"
   ]
  },
  {
   "cell_type": "markdown",
   "metadata": {},
   "source": [
    "## Data Import"
   ]
  },
  {
   "cell_type": "markdown",
   "metadata": {},
   "source": [
    "We begin by importing our data from the source site (github). The data is provided in several files, so there are a few steps that need to be taken to put the data together into a single bipartite graph."
   ]
  },
  {
   "cell_type": "code",
   "execution_count": 145,
   "metadata": {},
   "outputs": [],
   "source": [
    "# Import all necessary packages\n",
    "\n",
    "import pandas as pd\n",
    "import numpy as np\n",
    "import math\n",
    "import networkx as nx\n",
    "import matplotlib.pyplot as plt\n",
    "from functools import reduce\n",
    "%matplotlib inline\n",
    "import networkx.algorithms.bipartite as bipartite\n",
    "from pyvis import network as net\n",
    "import matplotlib.pyplot as plt"
   ]
  },
  {
   "cell_type": "code",
   "execution_count": 42,
   "metadata": {},
   "outputs": [],
   "source": [
    "# Read in persons and their associated sex\n",
    "\n",
    "person = pd.read_csv('Dataset/ent.moreno_crime_crime.person.name', sep='\\t', header = None, names = ['Name'])\n",
    "person['Sex'] = pd.read_csv('Dataset/ent.moreno_crime_crime.person.sex', header = None)\n",
    "\n",
    "person.loc[person.Sex == 0, ['Sex']] = 'F'\n",
    "person.loc[person.Sex == 1, ['Sex']] = 'M'"
   ]
  },
  {
   "cell_type": "code",
   "execution_count": 43,
   "metadata": {},
   "outputs": [],
   "source": [
    "# Create the crime dataframe that associates a person with a crime in some manner\n",
    "\n",
    "crime = pd.read_csv(\"Dataset/out.moreno_crime_crime\", delim_whitespace = True, skiprows = [0,1], names = ['Person', 'Crime'])"
   ]
  },
  {
   "cell_type": "code",
   "execution_count": 44,
   "metadata": {},
   "outputs": [],
   "source": [
    "# Add the roles of each person (e.g. Person 1 is the suspect in Crime 1)\n",
    "\n",
    "crime['Role'] = pd.read_csv(\"Dataset/rel.moreno_crime_crime.person.role\", header = None)"
   ]
  },
  {
   "cell_type": "code",
   "execution_count": 45,
   "metadata": {},
   "outputs": [
    {
     "data": {
      "text/html": [
       "<div>\n",
       "<style scoped>\n",
       "    .dataframe tbody tr th:only-of-type {\n",
       "        vertical-align: middle;\n",
       "    }\n",
       "\n",
       "    .dataframe tbody tr th {\n",
       "        vertical-align: top;\n",
       "    }\n",
       "\n",
       "    .dataframe thead th {\n",
       "        text-align: right;\n",
       "    }\n",
       "</style>\n",
       "<table border=\"1\" class=\"dataframe\">\n",
       "  <thead>\n",
       "    <tr style=\"text-align: right;\">\n",
       "      <th></th>\n",
       "      <th>Person</th>\n",
       "      <th>Crime</th>\n",
       "      <th>Role</th>\n",
       "      <th>Name</th>\n",
       "      <th>Sex</th>\n",
       "    </tr>\n",
       "  </thead>\n",
       "  <tbody>\n",
       "    <tr>\n",
       "      <th>0</th>\n",
       "      <td>1</td>\n",
       "      <td>C1</td>\n",
       "      <td>Suspect</td>\n",
       "      <td>AbelDennis</td>\n",
       "      <td>M</td>\n",
       "    </tr>\n",
       "    <tr>\n",
       "      <th>1</th>\n",
       "      <td>1</td>\n",
       "      <td>C2</td>\n",
       "      <td>Victim</td>\n",
       "      <td>AbelDennis</td>\n",
       "      <td>M</td>\n",
       "    </tr>\n",
       "    <tr>\n",
       "      <th>2</th>\n",
       "      <td>1</td>\n",
       "      <td>C3</td>\n",
       "      <td>Victim</td>\n",
       "      <td>AbelDennis</td>\n",
       "      <td>M</td>\n",
       "    </tr>\n",
       "    <tr>\n",
       "      <th>3</th>\n",
       "      <td>1</td>\n",
       "      <td>C4</td>\n",
       "      <td>Suspect</td>\n",
       "      <td>AbelDennis</td>\n",
       "      <td>M</td>\n",
       "    </tr>\n",
       "    <tr>\n",
       "      <th>4</th>\n",
       "      <td>2</td>\n",
       "      <td>C5</td>\n",
       "      <td>Victim</td>\n",
       "      <td>AbramsChad</td>\n",
       "      <td>M</td>\n",
       "    </tr>\n",
       "  </tbody>\n",
       "</table>\n",
       "</div>"
      ],
      "text/plain": [
       "   Person Crime     Role        Name Sex\n",
       "0       1    C1  Suspect  AbelDennis   M\n",
       "1       1    C2   Victim  AbelDennis   M\n",
       "2       1    C3   Victim  AbelDennis   M\n",
       "3       1    C4  Suspect  AbelDennis   M\n",
       "4       2    C5   Victim  AbramsChad   M"
      ]
     },
     "execution_count": 45,
     "metadata": {},
     "output_type": "execute_result"
    }
   ],
   "source": [
    "# Add the name and sex to the main crime dataframe\n",
    "\n",
    "crime[\"Name\"] = \"\"\n",
    "crime[\"Sex\"] = \"\"\n",
    "\n",
    "for i in range(0, len(person)):\n",
    "    crime.loc[crime.Person == i+1, ['Sex']] = person.iloc[i][\"Sex\"]\n",
    "    crime.loc[crime.Person == i+1, ['Name']] = person.iloc[i][\"Name\"]\n",
    "\n",
    "# Change the crime event to a string and append \"C\"\n",
    "crime = crime.astype({\"Crime\": str})\n",
    "crime[\"Crime\"] = \"C\" + crime[\"Crime\"]\n",
    "\n",
    "# Remove witness entries\n",
    "crime.drop(crime[crime['Role'] == \"Witness\"].index, inplace = True) \n",
    "\n",
    "#Final dataset\n",
    "crime.head()"
   ]
  },
  {
   "cell_type": "markdown",
   "metadata": {},
   "source": [
    "Now that we have the data in a combined dataframe, we can begin to put it together into a graph format."
   ]
  },
  {
   "cell_type": "code",
   "execution_count": 47,
   "metadata": {},
   "outputs": [
    {
     "data": {
      "text/html": [
       "<div>\n",
       "<style scoped>\n",
       "    .dataframe tbody tr th:only-of-type {\n",
       "        vertical-align: middle;\n",
       "    }\n",
       "\n",
       "    .dataframe tbody tr th {\n",
       "        vertical-align: top;\n",
       "    }\n",
       "\n",
       "    .dataframe thead th {\n",
       "        text-align: right;\n",
       "    }\n",
       "</style>\n",
       "<table border=\"1\" class=\"dataframe\">\n",
       "  <thead>\n",
       "    <tr style=\"text-align: right;\">\n",
       "      <th></th>\n",
       "      <th>Person</th>\n",
       "      <th>Crime</th>\n",
       "      <th>Role</th>\n",
       "      <th>Name</th>\n",
       "      <th>Sex</th>\n",
       "    </tr>\n",
       "  </thead>\n",
       "  <tbody>\n",
       "    <tr>\n",
       "      <th>570</th>\n",
       "      <td>319</td>\n",
       "      <td>C82</td>\n",
       "      <td>Suspect</td>\n",
       "      <td>GreenByron</td>\n",
       "      <td>M</td>\n",
       "    </tr>\n",
       "    <tr>\n",
       "      <th>1028</th>\n",
       "      <td>567</td>\n",
       "      <td>C82</td>\n",
       "      <td>Suspect</td>\n",
       "      <td>OneilLinda</td>\n",
       "      <td>F</td>\n",
       "    </tr>\n",
       "    <tr>\n",
       "      <th>1120</th>\n",
       "      <td>632</td>\n",
       "      <td>C82</td>\n",
       "      <td>Victim Suspect</td>\n",
       "      <td>ReddickJohn</td>\n",
       "      <td>M</td>\n",
       "    </tr>\n",
       "    <tr>\n",
       "      <th>1365</th>\n",
       "      <td>772</td>\n",
       "      <td>C82</td>\n",
       "      <td>Victim</td>\n",
       "      <td>TylerOwen</td>\n",
       "      <td>M</td>\n",
       "    </tr>\n",
       "  </tbody>\n",
       "</table>\n",
       "</div>"
      ],
      "text/plain": [
       "      Person Crime            Role         Name Sex\n",
       "570      319   C82         Suspect   GreenByron   M\n",
       "1028     567   C82         Suspect   OneilLinda   F\n",
       "1120     632   C82  Victim Suspect  ReddickJohn   M\n",
       "1365     772   C82          Victim    TylerOwen   M"
      ]
     },
     "execution_count": 47,
     "metadata": {},
     "output_type": "execute_result"
    }
   ],
   "source": [
    "crime[crime['Crime']=='C82']"
   ]
  },
  {
   "cell_type": "markdown",
   "metadata": {},
   "source": [
    "## Creating the Graph\n",
    "We are going to create the graph with following features -\n",
    " 1. A person (victim or suspect) will be reperesented as a node with *'bipartite' = 0*\n",
    "   - For male, the color code is *'dodgerblue'*\n",
    "   - For female, the color code is *'teal'*\n",
    " 2. Each crime occurence will be represnted as a node with *'bipartite' = 1* and 'red' as the color code\n",
    " 3. A *suspect* will be repesneted by an inbound edge towards the crime event\n",
    " 4. A *victim* will be represented by an outbound edge from the crime event"
   ]
  },
  {
   "cell_type": "code",
   "execution_count": 104,
   "metadata": {},
   "outputs": [
    {
     "name": "stdout",
     "output_type": "stream",
     "text": [
      "Name: \n",
      "Type: DiGraph\n",
      "Number of nodes: 1259\n",
      "Number of edges: 1322\n",
      "Average in degree:   1.0500\n",
      "Average out degree:   1.0500\n"
     ]
    }
   ],
   "source": [
    "G = nx.DiGraph()\n",
    "\n",
    "for n, r, c, s in zip(crime['Name'],crime['Role'],crime['Crime'],crime['Sex']):\n",
    "    if n not in G.nodes() and r != 'Witness' and s == 'M':\n",
    "        G.add_node(n, Sex = s, bipartite = 0, color = 'dodgerblue')\n",
    "    if n not in G.nodes() and r != 'Witness' and s == 'F':\n",
    "        G.add_node(n, Sex = s, bipartite = 0, color = 'teal')\n",
    "    if c not in G.nodes():\n",
    "        G.add_node(c, bipartite = 1, color = 'red')\n",
    "    if r == 'Suspect':\n",
    "        G.add_edge(n,c)\n",
    "    elif r == 'Victim':\n",
    "        G.add_edge(c,n)\n",
    "\n",
    "print(nx.info(G))"
   ]
  },
  {
   "cell_type": "code",
   "execution_count": 105,
   "metadata": {},
   "outputs": [
    {
     "data": {
      "text/plain": [
       "True"
      ]
     },
     "execution_count": 105,
     "metadata": {},
     "output_type": "execute_result"
    }
   ],
   "source": [
    "nx.is_bipartite(G)"
   ]
  },
  {
   "cell_type": "code",
   "execution_count": 106,
   "metadata": {},
   "outputs": [
    {
     "data": {
      "text/plain": [
       "[('C1', {'bipartite': 1, 'color': 'red'}),\n",
       " ('C2', {'bipartite': 1, 'color': 'red'}),\n",
       " ('C3', {'bipartite': 1, 'color': 'red'}),\n",
       " ('C4', {'bipartite': 1, 'color': 'red'}),\n",
       " ('AbramsChad', {'Sex': 'M', 'bipartite': 0, 'color': 'dodgerblue'}),\n",
       " ('C5', {'bipartite': 1, 'color': 'red'}),\n",
       " ('C6', {'bipartite': 1, 'color': 'red'}),\n",
       " ('C7', {'bipartite': 1, 'color': 'red'}),\n",
       " ('C8', {'bipartite': 1, 'color': 'red'})]"
      ]
     },
     "execution_count": 106,
     "metadata": {},
     "output_type": "execute_result"
    }
   ],
   "source": [
    "list(G.nodes.data())[1:10]"
   ]
  },
  {
   "cell_type": "code",
   "execution_count": 103,
   "metadata": {},
   "outputs": [
    {
     "data": {
      "text/html": [
       "\n",
       "        <iframe\n",
       "            width=\"100%\"\n",
       "            height=\"1000px\"\n",
       "            src=\"crimenet.html\"\n",
       "            frameborder=\"0\"\n",
       "            allowfullscreen\n",
       "        ></iframe>\n",
       "        "
      ],
      "text/plain": [
       "<IPython.lib.display.IFrame at 0x7ff7064c3700>"
      ]
     },
     "execution_count": 103,
     "metadata": {},
     "output_type": "execute_result"
    }
   ],
   "source": [
    "n = net.Network(height = \"1000px\", width = \"100%\", notebook = True, \n",
    "                bgcolor = \"#ffffff\", font_color = \"black\",\n",
    "                heading = 'Crimes and People', directed = True)\n",
    "nx_graph = nx.Graph(G)\n",
    "n.from_nx(nx_graph, default_node_size = 50, default_edge_weight = 1)\n",
    "n.show_buttons(filter_=['physics'])\n",
    "n.show(\"crimenet.html\")"
   ]
  },
  {
   "cell_type": "code",
   "execution_count": 81,
   "metadata": {},
   "outputs": [],
   "source": [
    "#n1 = net.Network(height = \"800px\", width = \"100%\", notebook = True,\n",
    "#               heading = 'Crimes and People', directed = True)\n",
    "\n",
    "#n1.add_nodes(G.nodes())\n",
    "#for u,v in G.edges():\n",
    "#    n1.add_edge(u,v)\n",
    "\n",
    "#n1.show(\"graph.html\")\n",
    "\n",
    "#bipartite.degrees(nx_graph, nx_graph.nodes, nx_graph.weight)"
   ]
  },
  {
   "cell_type": "markdown",
   "metadata": {},
   "source": [
    "The first thing that jumps out is the number of nodes where there are no connections. Because we specifically excluded the witnesses, this should not be.\n",
    "\n",
    "Let's look and see why that is: "
   ]
  },
  {
   "cell_type": "code",
   "execution_count": 107,
   "metadata": {},
   "outputs": [
    {
     "data": {
      "text/plain": [
       "[]"
      ]
     },
     "execution_count": 107,
     "metadata": {},
     "output_type": "execute_result"
    }
   ],
   "source": [
    "list(nx.isolates(G))"
   ]
  },
  {
   "cell_type": "code",
   "execution_count": 108,
   "metadata": {},
   "outputs": [
    {
     "data": {
      "text/plain": [
       "[]"
      ]
     },
     "execution_count": 108,
     "metadata": {},
     "output_type": "execute_result"
    }
   ],
   "source": [
    "unconn = [n for n in nx.isolates(G)]\n",
    "\n",
    "isol = [(n, c, r) for n, c, r in zip(crime[\"Name\"],crime[\"Crime\"],crime[\"Role\"]) if c in unconn or n in unconn]\n",
    "\n",
    "sorted(isol, key = lambda x: x[1], reverse = True)"
   ]
  },
  {
   "cell_type": "markdown",
   "metadata": {},
   "source": [
    "It appears that these unconnected nodes are where the person is both a victim and a suspect. Why would such a thing occur?\n",
    "\n",
    "Well, one situation might be when the crime is a fight or sorts where both parties are responsible. In those cases, we would see more than one person in that role (e.g. C86). However we see a few that only have a single person. So, unless that person is fighting themselves (see *Fight Club*), that makes no sense.\n",
    "\n",
    "Let's look at an example:"
   ]
  },
  {
   "cell_type": "code",
   "execution_count": 109,
   "metadata": {
    "scrolled": true
   },
   "outputs": [
    {
     "data": {
      "text/html": [
       "<div>\n",
       "<style scoped>\n",
       "    .dataframe tbody tr th:only-of-type {\n",
       "        vertical-align: middle;\n",
       "    }\n",
       "\n",
       "    .dataframe tbody tr th {\n",
       "        vertical-align: top;\n",
       "    }\n",
       "\n",
       "    .dataframe thead th {\n",
       "        text-align: right;\n",
       "    }\n",
       "</style>\n",
       "<table border=\"1\" class=\"dataframe\">\n",
       "  <thead>\n",
       "    <tr style=\"text-align: right;\">\n",
       "      <th></th>\n",
       "      <th>Person</th>\n",
       "      <th>Crime</th>\n",
       "      <th>Name</th>\n",
       "      <th>Sex</th>\n",
       "      <th>Role</th>\n",
       "    </tr>\n",
       "  </thead>\n",
       "  <tbody>\n",
       "    <tr>\n",
       "      <th>570</th>\n",
       "      <td>319</td>\n",
       "      <td>C82</td>\n",
       "      <td>GreenByron</td>\n",
       "      <td>M</td>\n",
       "      <td>Suspect</td>\n",
       "    </tr>\n",
       "    <tr>\n",
       "      <th>1028</th>\n",
       "      <td>567</td>\n",
       "      <td>C82</td>\n",
       "      <td>OneilLinda</td>\n",
       "      <td>F</td>\n",
       "      <td>Suspect</td>\n",
       "    </tr>\n",
       "    <tr>\n",
       "      <th>1120</th>\n",
       "      <td>632</td>\n",
       "      <td>C82</td>\n",
       "      <td>ReddickJohn</td>\n",
       "      <td>M</td>\n",
       "      <td>Victim</td>\n",
       "    </tr>\n",
       "    <tr>\n",
       "      <th>1120</th>\n",
       "      <td>632</td>\n",
       "      <td>C82</td>\n",
       "      <td>ReddickJohn</td>\n",
       "      <td>M</td>\n",
       "      <td>Suspect</td>\n",
       "    </tr>\n",
       "    <tr>\n",
       "      <th>1120</th>\n",
       "      <td>632</td>\n",
       "      <td>C82</td>\n",
       "      <td>ReddickJohn</td>\n",
       "      <td>M</td>\n",
       "      <td>Victim</td>\n",
       "    </tr>\n",
       "    <tr>\n",
       "      <th>1120</th>\n",
       "      <td>632</td>\n",
       "      <td>C82</td>\n",
       "      <td>ReddickJohn</td>\n",
       "      <td>M</td>\n",
       "      <td>Suspect</td>\n",
       "    </tr>\n",
       "    <tr>\n",
       "      <th>1365</th>\n",
       "      <td>772</td>\n",
       "      <td>C82</td>\n",
       "      <td>TylerOwen</td>\n",
       "      <td>M</td>\n",
       "      <td>Victim</td>\n",
       "    </tr>\n",
       "  </tbody>\n",
       "</table>\n",
       "</div>"
      ],
      "text/plain": [
       "      Person Crime         Name Sex     Role\n",
       "570      319   C82   GreenByron   M  Suspect\n",
       "1028     567   C82   OneilLinda   F  Suspect\n",
       "1120     632   C82  ReddickJohn   M   Victim\n",
       "1120     632   C82  ReddickJohn   M  Suspect\n",
       "1120     632   C82  ReddickJohn   M   Victim\n",
       "1120     632   C82  ReddickJohn   M  Suspect\n",
       "1365     772   C82    TylerOwen   M   Victim"
      ]
     },
     "execution_count": 109,
     "metadata": {},
     "output_type": "execute_result"
    }
   ],
   "source": [
    "crime[crime[\"Crime\"]==\"C82\"]"
   ]
  },
  {
   "cell_type": "markdown",
   "metadata": {},
   "source": [
    "Now we see a bit more clearly. In the above example the person \"ReddickJohn\" is not the only participant in the crime. Perhaps the authorities suspect that this person was \"in on\" the crime despite their attempts to present themselves as another victim?\n",
    "\n",
    "We should split these entries into 2, one as a suspect and one as a victim."
   ]
  },
  {
   "cell_type": "code",
   "execution_count": 110,
   "metadata": {},
   "outputs": [
    {
     "data": {
      "text/html": [
       "<div>\n",
       "<style scoped>\n",
       "    .dataframe tbody tr th:only-of-type {\n",
       "        vertical-align: middle;\n",
       "    }\n",
       "\n",
       "    .dataframe tbody tr th {\n",
       "        vertical-align: top;\n",
       "    }\n",
       "\n",
       "    .dataframe thead th {\n",
       "        text-align: right;\n",
       "    }\n",
       "</style>\n",
       "<table border=\"1\" class=\"dataframe\">\n",
       "  <thead>\n",
       "    <tr style=\"text-align: right;\">\n",
       "      <th></th>\n",
       "      <th>Person</th>\n",
       "      <th>Crime</th>\n",
       "      <th>Name</th>\n",
       "      <th>Sex</th>\n",
       "      <th>Role</th>\n",
       "    </tr>\n",
       "  </thead>\n",
       "  <tbody>\n",
       "    <tr>\n",
       "      <th>570</th>\n",
       "      <td>319</td>\n",
       "      <td>C82</td>\n",
       "      <td>GreenByron</td>\n",
       "      <td>M</td>\n",
       "      <td>Suspect</td>\n",
       "    </tr>\n",
       "    <tr>\n",
       "      <th>1028</th>\n",
       "      <td>567</td>\n",
       "      <td>C82</td>\n",
       "      <td>OneilLinda</td>\n",
       "      <td>F</td>\n",
       "      <td>Suspect</td>\n",
       "    </tr>\n",
       "    <tr>\n",
       "      <th>1120</th>\n",
       "      <td>632</td>\n",
       "      <td>C82</td>\n",
       "      <td>ReddickJohn</td>\n",
       "      <td>M</td>\n",
       "      <td>Victim</td>\n",
       "    </tr>\n",
       "    <tr>\n",
       "      <th>1120</th>\n",
       "      <td>632</td>\n",
       "      <td>C82</td>\n",
       "      <td>ReddickJohn</td>\n",
       "      <td>M</td>\n",
       "      <td>Suspect</td>\n",
       "    </tr>\n",
       "    <tr>\n",
       "      <th>1120</th>\n",
       "      <td>632</td>\n",
       "      <td>C82</td>\n",
       "      <td>ReddickJohn</td>\n",
       "      <td>M</td>\n",
       "      <td>Victim</td>\n",
       "    </tr>\n",
       "    <tr>\n",
       "      <th>1120</th>\n",
       "      <td>632</td>\n",
       "      <td>C82</td>\n",
       "      <td>ReddickJohn</td>\n",
       "      <td>M</td>\n",
       "      <td>Suspect</td>\n",
       "    </tr>\n",
       "    <tr>\n",
       "      <th>1120</th>\n",
       "      <td>632</td>\n",
       "      <td>C82</td>\n",
       "      <td>ReddickJohn</td>\n",
       "      <td>M</td>\n",
       "      <td>Victim</td>\n",
       "    </tr>\n",
       "    <tr>\n",
       "      <th>1120</th>\n",
       "      <td>632</td>\n",
       "      <td>C82</td>\n",
       "      <td>ReddickJohn</td>\n",
       "      <td>M</td>\n",
       "      <td>Suspect</td>\n",
       "    </tr>\n",
       "    <tr>\n",
       "      <th>1120</th>\n",
       "      <td>632</td>\n",
       "      <td>C82</td>\n",
       "      <td>ReddickJohn</td>\n",
       "      <td>M</td>\n",
       "      <td>Victim</td>\n",
       "    </tr>\n",
       "    <tr>\n",
       "      <th>1120</th>\n",
       "      <td>632</td>\n",
       "      <td>C82</td>\n",
       "      <td>ReddickJohn</td>\n",
       "      <td>M</td>\n",
       "      <td>Suspect</td>\n",
       "    </tr>\n",
       "    <tr>\n",
       "      <th>1120</th>\n",
       "      <td>632</td>\n",
       "      <td>C82</td>\n",
       "      <td>ReddickJohn</td>\n",
       "      <td>M</td>\n",
       "      <td>Victim</td>\n",
       "    </tr>\n",
       "    <tr>\n",
       "      <th>1120</th>\n",
       "      <td>632</td>\n",
       "      <td>C82</td>\n",
       "      <td>ReddickJohn</td>\n",
       "      <td>M</td>\n",
       "      <td>Suspect</td>\n",
       "    </tr>\n",
       "    <tr>\n",
       "      <th>1120</th>\n",
       "      <td>632</td>\n",
       "      <td>C82</td>\n",
       "      <td>ReddickJohn</td>\n",
       "      <td>M</td>\n",
       "      <td>Victim</td>\n",
       "    </tr>\n",
       "    <tr>\n",
       "      <th>1120</th>\n",
       "      <td>632</td>\n",
       "      <td>C82</td>\n",
       "      <td>ReddickJohn</td>\n",
       "      <td>M</td>\n",
       "      <td>Suspect</td>\n",
       "    </tr>\n",
       "    <tr>\n",
       "      <th>1120</th>\n",
       "      <td>632</td>\n",
       "      <td>C82</td>\n",
       "      <td>ReddickJohn</td>\n",
       "      <td>M</td>\n",
       "      <td>Victim</td>\n",
       "    </tr>\n",
       "    <tr>\n",
       "      <th>1120</th>\n",
       "      <td>632</td>\n",
       "      <td>C82</td>\n",
       "      <td>ReddickJohn</td>\n",
       "      <td>M</td>\n",
       "      <td>Suspect</td>\n",
       "    </tr>\n",
       "    <tr>\n",
       "      <th>1120</th>\n",
       "      <td>632</td>\n",
       "      <td>C82</td>\n",
       "      <td>ReddickJohn</td>\n",
       "      <td>M</td>\n",
       "      <td>Victim</td>\n",
       "    </tr>\n",
       "    <tr>\n",
       "      <th>1120</th>\n",
       "      <td>632</td>\n",
       "      <td>C82</td>\n",
       "      <td>ReddickJohn</td>\n",
       "      <td>M</td>\n",
       "      <td>Suspect</td>\n",
       "    </tr>\n",
       "    <tr>\n",
       "      <th>1365</th>\n",
       "      <td>772</td>\n",
       "      <td>C82</td>\n",
       "      <td>TylerOwen</td>\n",
       "      <td>M</td>\n",
       "      <td>Victim</td>\n",
       "    </tr>\n",
       "  </tbody>\n",
       "</table>\n",
       "</div>"
      ],
      "text/plain": [
       "      Person Crime         Name Sex     Role\n",
       "570      319   C82   GreenByron   M  Suspect\n",
       "1028     567   C82   OneilLinda   F  Suspect\n",
       "1120     632   C82  ReddickJohn   M   Victim\n",
       "1120     632   C82  ReddickJohn   M  Suspect\n",
       "1120     632   C82  ReddickJohn   M   Victim\n",
       "1120     632   C82  ReddickJohn   M  Suspect\n",
       "1120     632   C82  ReddickJohn   M   Victim\n",
       "1120     632   C82  ReddickJohn   M  Suspect\n",
       "1120     632   C82  ReddickJohn   M   Victim\n",
       "1120     632   C82  ReddickJohn   M  Suspect\n",
       "1120     632   C82  ReddickJohn   M   Victim\n",
       "1120     632   C82  ReddickJohn   M  Suspect\n",
       "1120     632   C82  ReddickJohn   M   Victim\n",
       "1120     632   C82  ReddickJohn   M  Suspect\n",
       "1120     632   C82  ReddickJohn   M   Victim\n",
       "1120     632   C82  ReddickJohn   M  Suspect\n",
       "1120     632   C82  ReddickJohn   M   Victim\n",
       "1120     632   C82  ReddickJohn   M  Suspect\n",
       "1365     772   C82    TylerOwen   M   Victim"
      ]
     },
     "execution_count": 110,
     "metadata": {},
     "output_type": "execute_result"
    }
   ],
   "source": [
    "# Split the role column\n",
    "\n",
    "crime = crime.drop('Role', axis=1).join(crime['Role'].str.split(' ', expand=True).stack().reset_index(level=1, drop=True).rename('Role'))\n",
    "\n",
    "# Check our example from above\n",
    "crime[crime[\"Crime\"]==\"C82\"]"
   ]
  },
  {
   "cell_type": "markdown",
   "metadata": {},
   "source": [
    "Now we see that \"ReddickJohn\" is listed twice, once as a Victim and once as a Suspect. We will need to regenerate the graph to show this update:"
   ]
  },
  {
   "cell_type": "code",
   "execution_count": 112,
   "metadata": {},
   "outputs": [
    {
     "name": "stdout",
     "output_type": "stream",
     "text": [
      "Name: \n",
      "Type: DiGraph\n",
      "Number of nodes: 1259\n",
      "Number of edges: 1322\n",
      "Average in degree:   1.0500\n",
      "Average out degree:   1.0500\n"
     ]
    }
   ],
   "source": [
    "G = nx.DiGraph()\n",
    "\n",
    "for n, r, c, s in zip(crime['Name'],crime['Role'],crime['Crime'],crime['Sex']):\n",
    "    if n not in G.nodes() and r != 'Witness' and s == 'M':\n",
    "        G.add_node(n, Sex = s, bipartite = 0, color = 'dodgerblue')\n",
    "    if n not in G.nodes() and r != 'Witness' and s == 'F':\n",
    "        G.add_node(n, Sex = s, bipartite = 0, color = 'teal')\n",
    "    if c not in G.nodes():\n",
    "        G.add_node(c, bipartite = 1, color = 'red')\n",
    "    if r == 'Suspect':\n",
    "        G.add_edge(n,c)\n",
    "    elif r == 'Victim':\n",
    "        G.add_edge(c,n)\n",
    "\n",
    "print(nx.info(G))"
   ]
  },
  {
   "cell_type": "code",
   "execution_count": 113,
   "metadata": {},
   "outputs": [
    {
     "data": {
      "text/html": [
       "\n",
       "        <iframe\n",
       "            width=\"100%\"\n",
       "            height=\"1000px\"\n",
       "            src=\"crimenet2.html\"\n",
       "            frameborder=\"0\"\n",
       "            allowfullscreen\n",
       "        ></iframe>\n",
       "        "
      ],
      "text/plain": [
       "<IPython.lib.display.IFrame at 0x7ff706208310>"
      ]
     },
     "execution_count": 113,
     "metadata": {},
     "output_type": "execute_result"
    }
   ],
   "source": [
    "n2 = net.Network(height = \"1000px\", width = \"100%\", notebook = True, \n",
    "                bgcolor = \"#ffffff\", font_color = \"black\",\n",
    "                heading = 'Crimes and PeopleV2', directed = True)\n",
    "nx_graph = nx.Graph(G)\n",
    "n2.from_nx(nx_graph, default_node_size = 50, default_edge_weight = 1)\n",
    "n2.show_buttons(filter_=['physics'])\n",
    "n2.show(\"crimenet2.html\")"
   ]
  },
  {
   "cell_type": "code",
   "execution_count": 114,
   "metadata": {},
   "outputs": [],
   "source": [
    "#n2 = net.Network(height = \"800px\", width = \"100%\", notebook = True,\n",
    "#               heading = 'Crimes and People v2', directed = True)\n",
    "\n",
    "#n2.add_nodes(G.nodes())\n",
    "#for u,v in G.edges():\n",
    "#    n2.add_edge(u,v)\n",
    "\n",
    "#n2.show(\"graph.html\")"
   ]
  },
  {
   "cell_type": "markdown",
   "metadata": {},
   "source": [
    "This looks MUCH better. Let's check for isolates again:"
   ]
  },
  {
   "cell_type": "code",
   "execution_count": 115,
   "metadata": {},
   "outputs": [
    {
     "data": {
      "text/plain": [
       "[]"
      ]
     },
     "execution_count": 115,
     "metadata": {},
     "output_type": "execute_result"
    }
   ],
   "source": [
    "unconn = [n for n in nx.isolates(G)]\n",
    "\n",
    "isol = [(n, c, r) for n, c, r in zip(crime[\"Name\"],crime[\"Crime\"],crime[\"Role\"]) if c in unconn or n in unconn]\n",
    "\n",
    "sorted(isol, key = lambda x: x[1], reverse = True)"
   ]
  },
  {
   "cell_type": "markdown",
   "metadata": {},
   "source": [
    "As we hoped, there are none."
   ]
  },
  {
   "cell_type": "markdown",
   "metadata": {},
   "source": [
    "## Sub-Graph Analysis - People & Crime\n",
    "Next, we wanted to create sub-graphs for both people (victim/suspect) and crimes and analyze them separately."
   ]
  },
  {
   "cell_type": "code",
   "execution_count": 116,
   "metadata": {},
   "outputs": [],
   "source": [
    "top_nodes = {n for n, d in G.nodes(data=True) if d[\"bipartite\"] == 0}\n",
    "bottom_nodes = set(G) - top_nodes\n",
    "\n",
    "P = bipartite.projected_graph(G, top_nodes)\n",
    "C = bipartite.projected_graph(G, bottom_nodes)"
   ]
  },
  {
   "cell_type": "markdown",
   "metadata": {},
   "source": [
    "Let's visualize them both -"
   ]
  },
  {
   "cell_type": "code",
   "execution_count": 117,
   "metadata": {},
   "outputs": [
    {
     "data": {
      "text/html": [
       "\n",
       "        <iframe\n",
       "            width=\"100%\"\n",
       "            height=\"1000px\"\n",
       "            src=\"people.html\"\n",
       "            frameborder=\"0\"\n",
       "            allowfullscreen\n",
       "        ></iframe>\n",
       "        "
      ],
      "text/plain": [
       "<IPython.lib.display.IFrame at 0x7ff7069023d0>"
      ]
     },
     "execution_count": 117,
     "metadata": {},
     "output_type": "execute_result"
    }
   ],
   "source": [
    "np = net.Network(height = \"1000px\", width = \"100%\", notebook = True, \n",
    "                bgcolor = \"#ffffff\", font_color = \"black\",\n",
    "                heading = 'Network - People (Victim/Suspect)', directed = True)\n",
    "nx_graph = nx.Graph(P)\n",
    "np.from_nx(nx_graph, default_node_size = 50, default_edge_weight = 1)\n",
    "np.show_buttons(filter_=['physics'])\n",
    "np.show(\"people.html\")"
   ]
  },
  {
   "cell_type": "markdown",
   "metadata": {},
   "source": [
    "From the graph above, it looks like there are quite a few people who are not connected with others which could be as a result of some isolated crime occurrences. But there are quite few cluster of nodes where multiple individuals are closely associated. This brings up a "
   ]
  },
  {
   "cell_type": "code",
   "execution_count": 118,
   "metadata": {},
   "outputs": [
    {
     "data": {
      "text/html": [
       "\n",
       "        <iframe\n",
       "            width=\"100%\"\n",
       "            height=\"1000px\"\n",
       "            src=\"crime.html\"\n",
       "            frameborder=\"0\"\n",
       "            allowfullscreen\n",
       "        ></iframe>\n",
       "        "
      ],
      "text/plain": [
       "<IPython.lib.display.IFrame at 0x7ff706902940>"
      ]
     },
     "execution_count": 118,
     "metadata": {},
     "output_type": "execute_result"
    }
   ],
   "source": [
    "nc = net.Network(height = \"1000px\", width = \"100%\", notebook = True, \n",
    "                bgcolor = \"#ffffff\", font_color = \"black\",\n",
    "                heading = 'Network - Crime', directed = True)\n",
    "nx_graph = nx.Graph(C)\n",
    "nc.from_nx(nx_graph, default_node_size = 50, default_edge_weight = 1)\n",
    "nc.show_buttons(filter_=['physics'])\n",
    "nc.show(\"crime.html\")"
   ]
  },
  {
   "cell_type": "markdown",
   "metadata": {},
   "source": [
    "### People (Suspect/Victim)\n",
    "Next, we wanted to deep dive on people associated with teh crime and figure out whether we can surface any specific pattern "
   ]
  },
  {
   "cell_type": "code",
   "execution_count": 141,
   "metadata": {},
   "outputs": [
    {
     "data": {
      "text/html": [
       "<div>\n",
       "<style scoped>\n",
       "    .dataframe tbody tr th:only-of-type {\n",
       "        vertical-align: middle;\n",
       "    }\n",
       "\n",
       "    .dataframe tbody tr th {\n",
       "        vertical-align: top;\n",
       "    }\n",
       "\n",
       "    .dataframe thead th {\n",
       "        text-align: right;\n",
       "    }\n",
       "</style>\n",
       "<table border=\"1\" class=\"dataframe\">\n",
       "  <thead>\n",
       "    <tr style=\"text-align: right;\">\n",
       "      <th></th>\n",
       "      <th>Person</th>\n",
       "      <th>Degree</th>\n",
       "    </tr>\n",
       "  </thead>\n",
       "  <tbody>\n",
       "    <tr>\n",
       "      <th>0</th>\n",
       "      <td>WillisJenny</td>\n",
       "      <td>15</td>\n",
       "    </tr>\n",
       "    <tr>\n",
       "      <th>1</th>\n",
       "      <td>AbramsChad</td>\n",
       "      <td>12</td>\n",
       "    </tr>\n",
       "    <tr>\n",
       "      <th>2</th>\n",
       "      <td>TatumAnna</td>\n",
       "      <td>11</td>\n",
       "    </tr>\n",
       "    <tr>\n",
       "      <th>3</th>\n",
       "      <td>GodfreyTalia</td>\n",
       "      <td>11</td>\n",
       "    </tr>\n",
       "    <tr>\n",
       "      <th>4</th>\n",
       "      <td>CarverJustin</td>\n",
       "      <td>10</td>\n",
       "    </tr>\n",
       "    <tr>\n",
       "      <th>5</th>\n",
       "      <td>JonesEzekial</td>\n",
       "      <td>10</td>\n",
       "    </tr>\n",
       "    <tr>\n",
       "      <th>6</th>\n",
       "      <td>HemphillBud</td>\n",
       "      <td>9</td>\n",
       "    </tr>\n",
       "    <tr>\n",
       "      <th>7</th>\n",
       "      <td>DicksonCarter</td>\n",
       "      <td>9</td>\n",
       "    </tr>\n",
       "    <tr>\n",
       "      <th>8</th>\n",
       "      <td>JeffersonArnold</td>\n",
       "      <td>8</td>\n",
       "    </tr>\n",
       "    <tr>\n",
       "      <th>9</th>\n",
       "      <td>CandyCarol</td>\n",
       "      <td>7</td>\n",
       "    </tr>\n",
       "  </tbody>\n",
       "</table>\n",
       "</div>"
      ],
      "text/plain": [
       "            Person  Degree\n",
       "0      WillisJenny      15\n",
       "1       AbramsChad      12\n",
       "2        TatumAnna      11\n",
       "3     GodfreyTalia      11\n",
       "4     CarverJustin      10\n",
       "5     JonesEzekial      10\n",
       "6      HemphillBud       9\n",
       "7    DicksonCarter       9\n",
       "8  JeffersonArnold       8\n",
       "9       CandyCarol       7"
      ]
     },
     "execution_count": 141,
     "metadata": {},
     "output_type": "execute_result"
    }
   ],
   "source": [
    "person_df = pd.DataFrame(sorted(nx.degree(P), key = lambda x: x[1], reverse=True), columns=['Person','Degree'])\n",
    "person_df.head(10)"
   ]
  },
  {
   "cell_type": "code",
   "execution_count": 152,
   "metadata": {},
   "outputs": [
    {
     "data": {
      "text/html": [
       "<div>\n",
       "<style scoped>\n",
       "    .dataframe tbody tr th:only-of-type {\n",
       "        vertical-align: middle;\n",
       "    }\n",
       "\n",
       "    .dataframe tbody tr th {\n",
       "        vertical-align: top;\n",
       "    }\n",
       "\n",
       "    .dataframe thead th {\n",
       "        text-align: right;\n",
       "    }\n",
       "</style>\n",
       "<table border=\"1\" class=\"dataframe\">\n",
       "  <thead>\n",
       "    <tr style=\"text-align: right;\">\n",
       "      <th></th>\n",
       "      <th>Person</th>\n",
       "      <th>Degree</th>\n",
       "      <th>Closeness Centrality</th>\n",
       "      <th>Betweenness Centrality</th>\n",
       "      <th>Degree Centrality</th>\n",
       "      <th>Rank</th>\n",
       "    </tr>\n",
       "  </thead>\n",
       "  <tbody>\n",
       "    <tr>\n",
       "      <th>0</th>\n",
       "      <td>WillisJenny</td>\n",
       "      <td>15</td>\n",
       "      <td>0.001412</td>\n",
       "      <td>0.000040</td>\n",
       "      <td>0.021186</td>\n",
       "      <td>1.0</td>\n",
       "    </tr>\n",
       "    <tr>\n",
       "      <th>1</th>\n",
       "      <td>AbramsChad</td>\n",
       "      <td>12</td>\n",
       "      <td>0.013242</td>\n",
       "      <td>0.000180</td>\n",
       "      <td>0.016949</td>\n",
       "      <td>2.0</td>\n",
       "    </tr>\n",
       "    <tr>\n",
       "      <th>2</th>\n",
       "      <td>TatumAnna</td>\n",
       "      <td>11</td>\n",
       "      <td>0.014242</td>\n",
       "      <td>0.000014</td>\n",
       "      <td>0.015537</td>\n",
       "      <td>3.5</td>\n",
       "    </tr>\n",
       "    <tr>\n",
       "      <th>3</th>\n",
       "      <td>GodfreyTalia</td>\n",
       "      <td>11</td>\n",
       "      <td>0.011299</td>\n",
       "      <td>0.000240</td>\n",
       "      <td>0.015537</td>\n",
       "      <td>3.5</td>\n",
       "    </tr>\n",
       "    <tr>\n",
       "      <th>4</th>\n",
       "      <td>CarverJustin</td>\n",
       "      <td>10</td>\n",
       "      <td>0.000000</td>\n",
       "      <td>0.000000</td>\n",
       "      <td>0.014124</td>\n",
       "      <td>5.5</td>\n",
       "    </tr>\n",
       "    <tr>\n",
       "      <th>5</th>\n",
       "      <td>JonesEzekial</td>\n",
       "      <td>10</td>\n",
       "      <td>0.015380</td>\n",
       "      <td>0.000000</td>\n",
       "      <td>0.014124</td>\n",
       "      <td>5.5</td>\n",
       "    </tr>\n",
       "    <tr>\n",
       "      <th>6</th>\n",
       "      <td>HemphillBud</td>\n",
       "      <td>9</td>\n",
       "      <td>0.001412</td>\n",
       "      <td>0.000040</td>\n",
       "      <td>0.012712</td>\n",
       "      <td>7.5</td>\n",
       "    </tr>\n",
       "    <tr>\n",
       "      <th>7</th>\n",
       "      <td>DicksonCarter</td>\n",
       "      <td>9</td>\n",
       "      <td>0.004237</td>\n",
       "      <td>0.000040</td>\n",
       "      <td>0.012712</td>\n",
       "      <td>7.5</td>\n",
       "    </tr>\n",
       "    <tr>\n",
       "      <th>8</th>\n",
       "      <td>JeffersonArnold</td>\n",
       "      <td>8</td>\n",
       "      <td>0.007062</td>\n",
       "      <td>0.000028</td>\n",
       "      <td>0.011299</td>\n",
       "      <td>9.0</td>\n",
       "    </tr>\n",
       "    <tr>\n",
       "      <th>18</th>\n",
       "      <td>CarverJason</td>\n",
       "      <td>7</td>\n",
       "      <td>0.000000</td>\n",
       "      <td>0.000000</td>\n",
       "      <td>0.009887</td>\n",
       "      <td>14.5</td>\n",
       "    </tr>\n",
       "  </tbody>\n",
       "</table>\n",
       "</div>"
      ],
      "text/plain": [
       "             Person  Degree  Closeness Centrality  Betweenness Centrality  \\\n",
       "0       WillisJenny      15              0.001412                0.000040   \n",
       "1        AbramsChad      12              0.013242                0.000180   \n",
       "2         TatumAnna      11              0.014242                0.000014   \n",
       "3      GodfreyTalia      11              0.011299                0.000240   \n",
       "4      CarverJustin      10              0.000000                0.000000   \n",
       "5      JonesEzekial      10              0.015380                0.000000   \n",
       "6       HemphillBud       9              0.001412                0.000040   \n",
       "7     DicksonCarter       9              0.004237                0.000040   \n",
       "8   JeffersonArnold       8              0.007062                0.000028   \n",
       "18      CarverJason       7              0.000000                0.000000   \n",
       "\n",
       "    Degree Centrality  Rank  \n",
       "0            0.021186   1.0  \n",
       "1            0.016949   2.0  \n",
       "2            0.015537   3.5  \n",
       "3            0.015537   3.5  \n",
       "4            0.014124   5.5  \n",
       "5            0.014124   5.5  \n",
       "6            0.012712   7.5  \n",
       "7            0.012712   7.5  \n",
       "8            0.011299   9.0  \n",
       "18           0.009887  14.5  "
      ]
     },
     "execution_count": 152,
     "metadata": {},
     "output_type": "execute_result"
    }
   ],
   "source": [
    "# Compute centrality measures for women\n",
    "pcc = pd.DataFrame(nx.closeness_centrality(P).items(), columns=['Person','Closeness Centrality'])\n",
    "pbc = pd.DataFrame(nx.betweenness_centrality(P).items(), columns=['Person','Betweenness Centrality'])\n",
    "pdc = pd.DataFrame(nx.degree_centrality(P).items(), columns=['Person','Degree Centrality'])\n",
    "\n",
    "# Display all measures\n",
    "data_frames = [person_df, pcc, pbc, pdc]\n",
    "pmeasures = reduce(lambda left,right: pd.merge(left,right,on=['Person']), data_frames)\n",
    "\n",
    "pmeasures['Rank'] = pmeasures['Degree Centrality'].rank(ascending=False)\n",
    "pmeasures.sort_values(by=['Rank']).head(10)"
   ]
  },
  {
   "cell_type": "markdown",
   "metadata": {},
   "source": [
    "### Crime Analysis\n"
   ]
  },
  {
   "cell_type": "code",
   "execution_count": 153,
   "metadata": {},
   "outputs": [
    {
     "data": {
      "text/html": [
       "<div>\n",
       "<style scoped>\n",
       "    .dataframe tbody tr th:only-of-type {\n",
       "        vertical-align: middle;\n",
       "    }\n",
       "\n",
       "    .dataframe tbody tr th {\n",
       "        vertical-align: top;\n",
       "    }\n",
       "\n",
       "    .dataframe thead th {\n",
       "        text-align: right;\n",
       "    }\n",
       "</style>\n",
       "<table border=\"1\" class=\"dataframe\">\n",
       "  <thead>\n",
       "    <tr style=\"text-align: right;\">\n",
       "      <th></th>\n",
       "      <th>Crime</th>\n",
       "      <th>Degree</th>\n",
       "    </tr>\n",
       "  </thead>\n",
       "  <tbody>\n",
       "    <tr>\n",
       "      <th>0</th>\n",
       "      <td>C23</td>\n",
       "      <td>27</td>\n",
       "    </tr>\n",
       "    <tr>\n",
       "      <th>1</th>\n",
       "      <td>C525</td>\n",
       "      <td>25</td>\n",
       "    </tr>\n",
       "    <tr>\n",
       "      <th>2</th>\n",
       "      <td>C550</td>\n",
       "      <td>23</td>\n",
       "    </tr>\n",
       "    <tr>\n",
       "      <th>3</th>\n",
       "      <td>C119</td>\n",
       "      <td>20</td>\n",
       "    </tr>\n",
       "    <tr>\n",
       "      <th>4</th>\n",
       "      <td>C34</td>\n",
       "      <td>18</td>\n",
       "    </tr>\n",
       "    <tr>\n",
       "      <th>5</th>\n",
       "      <td>C7</td>\n",
       "      <td>17</td>\n",
       "    </tr>\n",
       "    <tr>\n",
       "      <th>6</th>\n",
       "      <td>C5</td>\n",
       "      <td>17</td>\n",
       "    </tr>\n",
       "    <tr>\n",
       "      <th>7</th>\n",
       "      <td>C19</td>\n",
       "      <td>17</td>\n",
       "    </tr>\n",
       "    <tr>\n",
       "      <th>8</th>\n",
       "      <td>C431</td>\n",
       "      <td>15</td>\n",
       "    </tr>\n",
       "    <tr>\n",
       "      <th>9</th>\n",
       "      <td>C189</td>\n",
       "      <td>15</td>\n",
       "    </tr>\n",
       "  </tbody>\n",
       "</table>\n",
       "</div>"
      ],
      "text/plain": [
       "  Crime  Degree\n",
       "0   C23      27\n",
       "1  C525      25\n",
       "2  C550      23\n",
       "3  C119      20\n",
       "4   C34      18\n",
       "5    C7      17\n",
       "6    C5      17\n",
       "7   C19      17\n",
       "8  C431      15\n",
       "9  C189      15"
      ]
     },
     "execution_count": 153,
     "metadata": {},
     "output_type": "execute_result"
    }
   ],
   "source": [
    "crime_df = pd.DataFrame(sorted(nx.degree(C), key = lambda x: x[1], reverse=True), columns=['Crime','Degree'])\n",
    "crime_df.head(10)"
   ]
  },
  {
   "cell_type": "code",
   "execution_count": 154,
   "metadata": {},
   "outputs": [
    {
     "data": {
      "text/html": [
       "<div>\n",
       "<style scoped>\n",
       "    .dataframe tbody tr th:only-of-type {\n",
       "        vertical-align: middle;\n",
       "    }\n",
       "\n",
       "    .dataframe tbody tr th {\n",
       "        vertical-align: top;\n",
       "    }\n",
       "\n",
       "    .dataframe thead th {\n",
       "        text-align: right;\n",
       "    }\n",
       "</style>\n",
       "<table border=\"1\" class=\"dataframe\">\n",
       "  <thead>\n",
       "    <tr style=\"text-align: right;\">\n",
       "      <th></th>\n",
       "      <th>Crime</th>\n",
       "      <th>Degree</th>\n",
       "      <th>Closeness Centrality</th>\n",
       "      <th>Betweenness Centrality</th>\n",
       "      <th>Degree Centrality</th>\n",
       "      <th>Rank</th>\n",
       "    </tr>\n",
       "  </thead>\n",
       "  <tbody>\n",
       "    <tr>\n",
       "      <th>0</th>\n",
       "      <td>C23</td>\n",
       "      <td>27</td>\n",
       "      <td>0.007286</td>\n",
       "      <td>0.000346</td>\n",
       "      <td>0.049180</td>\n",
       "      <td>1.0</td>\n",
       "    </tr>\n",
       "    <tr>\n",
       "      <th>1</th>\n",
       "      <td>C525</td>\n",
       "      <td>25</td>\n",
       "      <td>0.003643</td>\n",
       "      <td>0.000219</td>\n",
       "      <td>0.045537</td>\n",
       "      <td>2.0</td>\n",
       "    </tr>\n",
       "    <tr>\n",
       "      <th>2</th>\n",
       "      <td>C550</td>\n",
       "      <td>23</td>\n",
       "      <td>0.000000</td>\n",
       "      <td>0.000000</td>\n",
       "      <td>0.041894</td>\n",
       "      <td>3.0</td>\n",
       "    </tr>\n",
       "    <tr>\n",
       "      <th>3</th>\n",
       "      <td>C119</td>\n",
       "      <td>20</td>\n",
       "      <td>0.001821</td>\n",
       "      <td>0.000070</td>\n",
       "      <td>0.036430</td>\n",
       "      <td>4.0</td>\n",
       "    </tr>\n",
       "    <tr>\n",
       "      <th>4</th>\n",
       "      <td>C34</td>\n",
       "      <td>18</td>\n",
       "      <td>0.018735</td>\n",
       "      <td>0.000179</td>\n",
       "      <td>0.032787</td>\n",
       "      <td>5.0</td>\n",
       "    </tr>\n",
       "    <tr>\n",
       "      <th>5</th>\n",
       "      <td>C7</td>\n",
       "      <td>17</td>\n",
       "      <td>0.000000</td>\n",
       "      <td>0.000000</td>\n",
       "      <td>0.030965</td>\n",
       "      <td>7.0</td>\n",
       "    </tr>\n",
       "    <tr>\n",
       "      <th>6</th>\n",
       "      <td>C5</td>\n",
       "      <td>17</td>\n",
       "      <td>0.000000</td>\n",
       "      <td>0.000000</td>\n",
       "      <td>0.030965</td>\n",
       "      <td>7.0</td>\n",
       "    </tr>\n",
       "    <tr>\n",
       "      <th>7</th>\n",
       "      <td>C19</td>\n",
       "      <td>17</td>\n",
       "      <td>0.000000</td>\n",
       "      <td>0.000000</td>\n",
       "      <td>0.030965</td>\n",
       "      <td>7.0</td>\n",
       "    </tr>\n",
       "    <tr>\n",
       "      <th>9</th>\n",
       "      <td>C189</td>\n",
       "      <td>15</td>\n",
       "      <td>0.027430</td>\n",
       "      <td>0.000000</td>\n",
       "      <td>0.027322</td>\n",
       "      <td>10.0</td>\n",
       "    </tr>\n",
       "    <tr>\n",
       "      <th>10</th>\n",
       "      <td>C426</td>\n",
       "      <td>15</td>\n",
       "      <td>0.000000</td>\n",
       "      <td>0.000000</td>\n",
       "      <td>0.027322</td>\n",
       "      <td>10.0</td>\n",
       "    </tr>\n",
       "  </tbody>\n",
       "</table>\n",
       "</div>"
      ],
      "text/plain": [
       "   Crime  Degree  Closeness Centrality  Betweenness Centrality  \\\n",
       "0    C23      27              0.007286                0.000346   \n",
       "1   C525      25              0.003643                0.000219   \n",
       "2   C550      23              0.000000                0.000000   \n",
       "3   C119      20              0.001821                0.000070   \n",
       "4    C34      18              0.018735                0.000179   \n",
       "5     C7      17              0.000000                0.000000   \n",
       "6     C5      17              0.000000                0.000000   \n",
       "7    C19      17              0.000000                0.000000   \n",
       "9   C189      15              0.027430                0.000000   \n",
       "10  C426      15              0.000000                0.000000   \n",
       "\n",
       "    Degree Centrality  Rank  \n",
       "0            0.049180   1.0  \n",
       "1            0.045537   2.0  \n",
       "2            0.041894   3.0  \n",
       "3            0.036430   4.0  \n",
       "4            0.032787   5.0  \n",
       "5            0.030965   7.0  \n",
       "6            0.030965   7.0  \n",
       "7            0.030965   7.0  \n",
       "9            0.027322  10.0  \n",
       "10           0.027322  10.0  "
      ]
     },
     "execution_count": 154,
     "metadata": {},
     "output_type": "execute_result"
    }
   ],
   "source": [
    "# Compute centrality measures for women\n",
    "ccc = pd.DataFrame(nx.closeness_centrality(C).items(), columns=['Crime','Closeness Centrality'])\n",
    "cbc = pd.DataFrame(nx.betweenness_centrality(C).items(), columns=['Crime','Betweenness Centrality'])\n",
    "cdc = pd.DataFrame(nx.degree_centrality(C).items(), columns=['Crime','Degree Centrality'])\n",
    "\n",
    "# Display all measures\n",
    "data_frames = [crime_df, ccc, cbc, cdc]\n",
    "pmeasures = reduce(lambda left,right: pd.merge(left,right,on=['Crime']), data_frames)\n",
    "\n",
    "pmeasures['Rank'] = pmeasures['Degree Centrality'].rank(ascending=False)\n",
    "pmeasures.sort_values(by=['Rank']).head(10)"
   ]
  },
  {
   "cell_type": "code",
   "execution_count": null,
   "metadata": {},
   "outputs": [],
   "source": []
  },
  {
   "cell_type": "code",
   "execution_count": null,
   "metadata": {},
   "outputs": [],
   "source": []
  }
 ],
 "metadata": {
  "kernelspec": {
   "display_name": "Python 3",
   "language": "python",
   "name": "python3"
  },
  "language_info": {
   "codemirror_mode": {
    "name": "ipython",
    "version": 3
   },
   "file_extension": ".py",
   "mimetype": "text/x-python",
   "name": "python",
   "nbconvert_exporter": "python",
   "pygments_lexer": "ipython3",
   "version": "3.8.3"
  },
  "toc": {
   "base_numbering": 1,
   "nav_menu": {},
   "number_sections": true,
   "sideBar": true,
   "skip_h1_title": true,
   "title_cell": "Table of Contents",
   "title_sidebar": "Contents",
   "toc_cell": false,
   "toc_position": {},
   "toc_section_display": true,
   "toc_window_display": false
  },
  "varInspector": {
   "cols": {
    "lenName": 16,
    "lenType": 16,
    "lenVar": 40
   },
   "kernels_config": {
    "python": {
     "delete_cmd_postfix": "",
     "delete_cmd_prefix": "del ",
     "library": "var_list.py",
     "varRefreshCmd": "print(var_dic_list())"
    },
    "r": {
     "delete_cmd_postfix": ") ",
     "delete_cmd_prefix": "rm(",
     "library": "var_list.r",
     "varRefreshCmd": "cat(var_dic_list()) "
    }
   },
   "types_to_exclude": [
    "module",
    "function",
    "builtin_function_or_method",
    "instance",
    "_Feature"
   ],
   "window_display": false
  }
 },
 "nbformat": 4,
 "nbformat_minor": 4
}
