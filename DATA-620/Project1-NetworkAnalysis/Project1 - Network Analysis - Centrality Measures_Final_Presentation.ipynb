{
 "cells": [
  {
   "cell_type": "markdown",
   "metadata": {},
   "source": [
    "# Project1: Network Analysis: Centrality Measures\n",
    "\n",
    "**GROUP: Forhad Akbar, Adam Douglas, and Soumya Ghosh**\n",
    "\n",
    "For your first project, you are asked to -\n",
    "\n",
    " - Identify and load a network dataset that has some categorical information available for each node.\n",
    " - For each of the nodes in the dataset, calculate degree centrality and eigenvector centrality.\n",
    " - Compare your centrality measures across your categorical groups."
   ]
  },
  {
   "cell_type": "markdown",
   "metadata": {},
   "source": [
    "## Video Presentation"
   ]
  },
  {
   "cell_type": "code",
   "execution_count": 91,
   "metadata": {},
   "outputs": [
    {
     "data": {
      "image/jpeg": "[encoded data removed]",
      "text/html": [
       "\n",
       "        <iframe\n",
       "            width=\"800\"\n",
       "            height=\"500\"\n",
       "            src=\"https://www.youtube.com/embed/9l4N1twHd58\"\n",
       "            frameborder=\"0\"\n",
       "            allowfullscreen\n",
       "        ></iframe>\n",
       "        "
      ],
      "text/plain": [
       "<IPython.lib.display.YouTubeVideo at 0x7fccda7b6cd0>"
      ]
     },
     "execution_count": 91,
     "metadata": {},
     "output_type": "execute_result"
    }
   ],
   "source": [
    "from IPython.display import YouTubeVideo\n",
    "\n",
    "YouTubeVideo('9l4N1twHd58', width=800, height=500)\n"
   ]
  },
  {
   "cell_type": "markdown",
   "metadata": {},
   "source": [
    "## Data Description: The political blogosphere network\n",
    "\n",
    "The network of political blogs was first analyzed in “The political blogosphere and the 2004 US Election” by Lada A. Adamic and Natalie Glance, in Proceedings of the WWW-2005 Workshop on the Weblogging Ecosystem (2005). This data set, collected before the 2004 American presidential election, records hyperlinks connecting political blogs to one another. These blogs have been labeled manually as either “liberal” or “conservative”. \n",
    "\n",
    "Node \"value\" attributes indicate political leaning according to:\n",
    "\n",
    "  - 0 (left or liberal)\n",
    "  - 1 (right or conservative)\n",
    "\n",
    "Data on political leaning comes from blog directories as indicated.  Some blogs were labeled manually, based on incoming and outgoing links and posts around the time of the 2004 presidential election.  Directory-derived labels are prone to error; manual labels even more so.\n",
    "\n",
    "Links between blogs were automatically extracted from a crawl of the front page of the blog."
   ]
  },
  {
   "cell_type": "markdown",
   "metadata": {},
   "source": [
    "## Objective\n",
    "We are aiming to analyze and find answers to below questions leveraging this dataset -\n",
    "\n",
    "1. Which category is more represented in the data (e.g. simple count of nodes in each category)\n",
    "2. Which Website(s) are the major sources for these blog posts? \n",
    "3. Which node(s) have a higher incoming degree centrality by category (i.e. more popular, therefore quoted more)\n",
    "4. Which node(s) in each category have higher degree centrality from the opposite category (i.e. a liberal blog quoting a conservative blog)\n",
    "5. Most popular platforms by category (e.g. Blogspot, AmericanPolitics.com, etc.)\n",
    "6. Most influential nodes by category (Eigenvector Centrality)\n",
    "7. Highest out-degrees (who is more prolific in linking to other blogs)\n",
    "8. Any interesting subnetworks we may discover"
   ]
  },
  {
   "cell_type": "markdown",
   "metadata": {},
   "source": [
    "## Import Python Packages"
   ]
  },
  {
   "cell_type": "code",
   "execution_count": 65,
   "metadata": {
    "collapsed": true
   },
   "outputs": [],
   "source": [
    "import pandas as pd\n",
    "import numpy as np\n",
    "import networkx as nx\n",
    "from pyvis import network as net\n",
    "import matplotlib.pyplot as plt\n",
    "import seaborn as sns\n",
    "# create number for each group to allow use of colormap\n",
    "from itertools import count, groupby\n",
    "import collections\n",
    "\n",
    "%matplotlib inline\n",
    "sns.set()"
   ]
  },
  {
   "cell_type": "markdown",
   "metadata": {},
   "source": [
    "## Load Political Blogs dataset"
   ]
  },
  {
   "cell_type": "code",
   "execution_count": 83,
   "metadata": {},
   "outputs": [
    {
     "name": "stdout",
     "output_type": "stream",
     "text": [
      "Name: \n",
      "Type: MultiDiGraph\n",
      "Number of nodes: 1490\n",
      "Number of edges: 19090\n",
      "Average in degree:  12.8121\n",
      "Average out degree:  12.8121\n"
     ]
    }
   ],
   "source": [
    "G = nx.read_gml(path=\"Dataset/polblogs.gml\")\n",
    "\n",
    "print(nx.info(G))"
   ]
  },
  {
   "cell_type": "markdown",
   "metadata": {},
   "source": [
    "## Print first 10 nodes of the graph\n",
    "\n",
    "Let's start our analysis with a preview of first 10 blog post entries in the dataset -"
   ]
  },
  {
   "cell_type": "code",
   "execution_count": 84,
   "metadata": {},
   "outputs": [
    {
     "data": {
      "text/plain": [
       "[('12thharmonic.com/wordpress', {'value': 0, 'source': 'BlogCatalog'}),\n",
       " ('40ozblog.blogspot.com', {'value': 0, 'source': 'Blogarama,BlogCatalog'}),\n",
       " ('4lina.tblog.com', {'value': 0, 'source': 'Blogarama'}),\n",
       " ('750volts.blogspot.com', {'value': 0, 'source': 'Blogarama'}),\n",
       " ('95theses.blogspot.com', {'value': 0, 'source': 'Blogarama'}),\n",
       " ('abbadabbaduo.blogspot.com',\n",
       "  {'value': 0, 'source': 'Blogarama,LeftyDirectory'}),\n",
       " ('aboutpolitics.blogspot.com',\n",
       "  {'value': 0, 'source': 'Blogarama,eTalkingHead'}),\n",
       " ('achingandspinning.blogspot.com', {'value': 0, 'source': 'Blogarama'}),\n",
       " ('ackackack.com', {'value': 0, 'source': 'BlogCatalog'})]"
      ]
     },
     "execution_count": 84,
     "metadata": {},
     "output_type": "execute_result"
    }
   ],
   "source": [
    "list(G.nodes.data())[1:10]"
   ]
  },
  {
   "cell_type": "markdown",
   "metadata": {},
   "source": [
    "From the sample records above, we can see that there are two categorical attributes present in the dataset -\n",
    " - **'value'**: The political view type in the blog post (0 - Left/Liberal & 1 - Right/Conservative).\n",
    " - **'source'**: The Blog platform where the post was sourced from. "
   ]
  },
  {
   "cell_type": "markdown",
   "metadata": {},
   "source": [
    "## Assigning the 'color' attribute to nodes\n",
    "Next, we are going to add a color attribute for each blogpost node as an additional attribute.\n"
   ]
  },
  {
   "cell_type": "code",
   "execution_count": 85,
   "metadata": {},
   "outputs": [
    {
     "data": {
      "text/plain": [
       "[('12thharmonic.com/wordpress',\n",
       "  {'value': 0, 'source': 'BlogCatalog', 'color': 'blue'}),\n",
       " ('40ozblog.blogspot.com',\n",
       "  {'value': 0, 'source': 'Blogarama,BlogCatalog', 'color': 'blue'}),\n",
       " ('4lina.tblog.com', {'value': 0, 'source': 'Blogarama', 'color': 'blue'}),\n",
       " ('750volts.blogspot.com',\n",
       "  {'value': 0, 'source': 'Blogarama', 'color': 'blue'}),\n",
       " ('95theses.blogspot.com',\n",
       "  {'value': 0, 'source': 'Blogarama', 'color': 'blue'}),\n",
       " ('abbadabbaduo.blogspot.com',\n",
       "  {'value': 0, 'source': 'Blogarama,LeftyDirectory', 'color': 'blue'}),\n",
       " ('aboutpolitics.blogspot.com',\n",
       "  {'value': 0, 'source': 'Blogarama,eTalkingHead', 'color': 'blue'}),\n",
       " ('achingandspinning.blogspot.com',\n",
       "  {'value': 0, 'source': 'Blogarama', 'color': 'blue'}),\n",
       " ('ackackack.com', {'value': 0, 'source': 'BlogCatalog', 'color': 'blue'})]"
      ]
     },
     "execution_count": 85,
     "metadata": {},
     "output_type": "execute_result"
    }
   ],
   "source": [
    "node_list = list(G.nodes())\n",
    "types = list(nx.get_node_attributes(G,'value').values())\n",
    "\n",
    "df_col = pd.DataFrame(types, columns = ['type'])\n",
    "df_col['color'] = np.where(df_col['type'] == 0, \"blue\", \"red\")\n",
    "\n",
    "# Create dictionary object to add the color for each node\n",
    "color_dict = { k:v for k,v in zip(node_list,list(df_col['color']))}\n",
    "color_dict\n",
    "nx.set_node_attributes(G, color_dict, 'color')\n",
    "\n",
    "# Confirm the addition of 'color' attribute to the graph nodes\n",
    "list(G.nodes.data())[1:10]"
   ]
  },
  {
   "cell_type": "markdown",
   "metadata": {},
   "source": [
    "## Visualizing the graph dataset -"
   ]
  },
  {
   "cell_type": "code",
   "execution_count": 86,
   "metadata": {},
   "outputs": [
    {
     "data": {
      "text/html": [
       "\n",
       "        <iframe\n",
       "            width=\"100%\"\n",
       "            height=\"800px\"\n",
       "            src=\"graph.html\"\n",
       "            frameborder=\"0\"\n",
       "            allowfullscreen\n",
       "        ></iframe>\n",
       "        "
      ],
      "text/plain": [
       "<IPython.lib.display.IFrame at 0x7fccd862b1d0>"
      ]
     },
     "execution_count": 86,
     "metadata": {},
     "output_type": "execute_result"
    }
   ],
   "source": [
    "n = net.Network(height = \"800px\", width = \"100%\", notebook = True, \n",
    "                bgcolor = \"#ffffff\", font_color = \"black\",\n",
    "                heading = 'Political Blogosphere Graph Analysis', directed = True)\n",
    "nx_graph = nx.Graph(G)\n",
    "n.from_nx(nx_graph, default_node_size = 50, default_edge_weight = 1)\n",
    "neighbor_map = n.get_adj_list()\n",
    "\n",
    "# add neighbor data to node hover data\n",
    "#for node in n.nodes:\n",
    "#    node[\"label\"] += \" Neighbors:<br>\" + \\\n",
    "#           \"<br>\".join(neighbor_map[node[\"id\"]])\n",
    "#    node[\"value\"] = len(neighbor_map[node[\"id\"]])\n",
    "    \n",
    "n.show_buttons(filter_=['physics'])\n",
    "n.show(\"graph.html\")"
   ]
  },
  {
   "cell_type": "markdown",
   "metadata": {},
   "source": [
    "## Distribution of political views in the dataset\n",
    "We wanted to start off our data anlaysis with a quick view of distribution of political views in blog possts dataste -"
   ]
  },
  {
   "cell_type": "code",
   "execution_count": 46,
   "metadata": {},
   "outputs": [
    {
     "data": {
      "text/html": [
       "<div>\n",
       "<style scoped>\n",
       "    .dataframe tbody tr th:only-of-type {\n",
       "        vertical-align: middle;\n",
       "    }\n",
       "\n",
       "    .dataframe tbody tr th {\n",
       "        vertical-align: top;\n",
       "    }\n",
       "\n",
       "    .dataframe thead th {\n",
       "        text-align: right;\n",
       "    }\n",
       "</style>\n",
       "<table border=\"1\" class=\"dataframe\">\n",
       "  <thead>\n",
       "    <tr style=\"text-align: right;\">\n",
       "      <th></th>\n",
       "      <th>type</th>\n",
       "      <th>count</th>\n",
       "      <th>category</th>\n",
       "    </tr>\n",
       "  </thead>\n",
       "  <tbody>\n",
       "    <tr>\n",
       "      <th>0</th>\n",
       "      <td>0</td>\n",
       "      <td>758</td>\n",
       "      <td>Left/Liberal</td>\n",
       "    </tr>\n",
       "    <tr>\n",
       "      <th>1</th>\n",
       "      <td>1</td>\n",
       "      <td>732</td>\n",
       "      <td>Right/Conservative</td>\n",
       "    </tr>\n",
       "  </tbody>\n",
       "</table>\n",
       "</div>"
      ],
      "text/plain": [
       "   type  count            category\n",
       "0     0    758        Left/Liberal\n",
       "1     1    732  Right/Conservative"
      ]
     },
     "execution_count": 46,
     "metadata": {},
     "output_type": "execute_result"
    }
   ],
   "source": [
    "## Count of nodes by 'value' attribute\n",
    "types = list(nx.get_node_attributes(nx_graph,'value').values())\n",
    "type_counter=collections.Counter(types)\n",
    "df = pd.DataFrame.from_dict(type_counter, orient='index').reset_index()\n",
    "df = df.rename(columns={'index':'type', 0:'count'})\n",
    "df['category'] = np.where(df['type'] == 0, \"Left/Liberal\", \"Right/Conservative\")\n",
    "df"
   ]
  },
  {
   "cell_type": "markdown",
   "metadata": {},
   "source": [
    "From the table above, it can be be inferred that the dataset is pretty much evenly balanced between two opposing political views with 'Left/Liberal' having little more posts."
   ]
  },
  {
   "cell_type": "markdown",
   "metadata": {},
   "source": [
    "## Distribution of Blog Posts Sources\n",
    "We wanted to quickly analyze which blogging platforms are the major sources for the political blog posts dataset. So we identified top 10 sources below -\n"
   ]
  },
  {
   "cell_type": "code",
   "execution_count": 47,
   "metadata": {},
   "outputs": [
    {
     "data": {
      "image/png": "[encoded data removed]",
      "text/plain": [
       "<Figure size 720x432 with 1 Axes>"
      ]
     },
     "metadata": {},
     "output_type": "display_data"
    }
   ],
   "source": [
    "## Count of nodes by 'value' attribute\n",
    "source = list(nx.get_node_attributes(nx_graph,'source').values())\n",
    "\n",
    "# Some have mutiple entries, and we will split them out and count each one\n",
    "source = [item.split(\",\") for item in source]\n",
    "source = [item for sublist in source for item in sublist]\n",
    "\n",
    "source_counter=collections.Counter(source)\n",
    "df1 = pd.DataFrame.from_dict(source_counter, orient='index').reset_index()\n",
    "df1 = df1.rename(columns={'index':'source', 0:'count'})\n",
    "#df['category'] = np.where(df['type'] == 0, \"Left/Liberal\", \"Right/Conservative\")\n",
    "df1 = df1.nlargest(10,'count')\n",
    "\n",
    "#Seaborn barplot\n",
    "sns.set_style(\"whitegrid\")\n",
    "bar,ax = plt.subplots(figsize=(10,6))\n",
    "ax = sns.barplot(x = 'count', y = df1.source, data=df1, ci=None, palette=\"muted\",orient='h', )\n",
    "ax.set_title(\"Distribution of Top 10 Sources for Political Blogs Dataset\", fontsize=15)\n",
    "ax.set_xlabel (\"No. of Blog Posts\")\n",
    "ax.set_ylabel (\"Source Website(s)\")\n",
    "\n",
    "\n",
    "bar.savefig(\"Seaborn_Pie_Chart.png\");"
   ]
  },
  {
   "cell_type": "markdown",
   "metadata": {},
   "source": [
    "Based on the bar chart above, we can clearly see blogarama ([link](https://www.blogarama.com/)) is the major source for the blog entries. "
   ]
  },
  {
   "cell_type": "markdown",
   "metadata": {},
   "source": [
    "## Neighbor Analysis & Centrality:\n",
    "Centrality is the measure of closeness of a node to the center(s) of high activity in a network and implies the structural importance of the node in the network. Centrality can be measured by **degree**, **closeness** and **betweenness**."
   ]
  },
  {
   "cell_type": "code",
   "execution_count": 48,
   "metadata": {},
   "outputs": [
    {
     "name": "stdout",
     "output_type": "stream",
     "text": [
      "The most connected blog post is from 'blogsforbush.com' with 256 neighbors.\n"
     ]
    }
   ],
   "source": [
    "counts = [(n, len(list(G.neighbors(n)))) for n in G.nodes()]\n",
    "counts = sorted(counts, key = lambda x: x[1], reverse = True)\n",
    "\n",
    "print(\"The most connected blog post is from '\", str(counts[0][0]), \"' with \", str(counts[0][1]), \" neighbors.\", sep=\"\")"
   ]
  },
  {
   "cell_type": "markdown",
   "metadata": {},
   "source": [
    "### Degree centrality: \n",
    "Next we compute the degree centrality for political blog nodes. *Degree* is the direct count of the number of connections a node has to other nodes. A higher degree value compared to peers denotes higher influence in the network. The degree centrality values are normalized by dividing by the maximum possible degree in a simple graph $n-1$ where $n$ is the number of nodes in $G$."
   ]
  },
  {
   "cell_type": "code",
   "execution_count": 49,
   "metadata": {},
   "outputs": [
    {
     "data": {
      "text/plain": [
       "[('blogsforbush.com', 0.3143049026192075),\n",
       " ('dailykos.com', 0.25789120214909333),\n",
       " ('instapundit.com', 0.24378777703156482),\n",
       " ('atrios.blogspot.com', 0.23572867696440566),\n",
       " ('talkingpointsmemo.com', 0.1900604432505037),\n",
       " ('washingtonmonthly.com', 0.17192746809939558),\n",
       " ('drudgereport.com', 0.16453995970449967),\n",
       " ('powerlineblog.com', 0.1584956346541303),\n",
       " ('michellemalkin.com', 0.15379449294828745),\n",
       " ('hughhewitt.com', 0.1511081262592344)]"
      ]
     },
     "execution_count": 49,
     "metadata": {},
     "output_type": "execute_result"
    }
   ],
   "source": [
    "degree_list = list(nx.degree_centrality(G).items())\n",
    "df_degree = pd.DataFrame(degree_list, columns = [\"Blogsite\",\"Degree_Centrality\"])\n",
    "\n",
    "# Get top 10 \n",
    "sorted(degree_list, key = lambda x: x[1], reverse = True)[:10]"
   ]
  },
  {
   "cell_type": "markdown",
   "metadata": {},
   "source": [
    "The blogpost from **\"blogsforbush.com\"** has the maximum degree centrality.\n",
    "\n",
    "Next, we also wanted to analyze **In** and **Out** degree centrality of blog posts to identify importance or relevance of specific blog posts within the community of political bloggers."
   ]
  },
  {
   "cell_type": "markdown",
   "metadata": {},
   "source": [
    "### In-Degree Centrality\n",
    "Blog posts with high in-degree centrality gain attention to their posts among the community of bloggers who participate in the conversation. In-degree centrality, thus, captures the blogger community's level of engagement or attenstion with specific blog posts. Those with high in-degree centrality scores can be thought of as conversational hubs, since other bloggers have mentioned, or provided citation for their posts. In-degree centrality, therefore, is an indication of the cascades of information flow initiated by a blogpost. "
   ]
  },
  {
   "cell_type": "code",
   "execution_count": 50,
   "metadata": {},
   "outputs": [
    {
     "data": {
      "text/plain": [
       "[('dailykos.com', 0.2269979852249832),\n",
       " ('instapundit.com', 0.18603089321692412),\n",
       " ('talkingpointsmemo.com', 0.180658159838818),\n",
       " ('atrios.blogspot.com', 0.1773002014775017),\n",
       " ('drudgereport.com', 0.16118200134318336),\n",
       " ('powerlineblog.com', 0.14842175957018133),\n",
       " ('blogsforbush.com', 0.14237743451981197),\n",
       " ('washingtonmonthly.com', 0.13498992612491606),\n",
       " ('michellemalkin.com', 0.13498992612491606),\n",
       " ('truthlaidbear.com', 0.12558764271323036)]"
      ]
     },
     "execution_count": 50,
     "metadata": {},
     "output_type": "execute_result"
    }
   ],
   "source": [
    "in_degree_list = list(nx.in_degree_centrality(G).items())\n",
    "df_in_degree = pd.DataFrame(in_degree_list, columns = [\"Blogsite\",\"In_Degree_Centrality\"])\n",
    "\n",
    "# Get top 10 \n",
    "sorted(in_degree_list, key = lambda x: x[1], reverse = True)[:10]"
   ]
  },
  {
   "cell_type": "markdown",
   "metadata": {},
   "source": [
    "### Out-Degree Centrality\n",
    "Out-degree centrality captures the outreach of a blogpost to the blogger's community. A high out-degree centrality value indicates that a blogger is aiming to reach bloggers' attention by mentioning or replying to their posts. Out-degree centrality, then, captures the level of engagement a blogger initiates through a specific post with members of the community."
   ]
  },
  {
   "cell_type": "code",
   "execution_count": 51,
   "metadata": {},
   "outputs": [
    {
     "data": {
      "text/plain": [
       "[('blogsforbush.com', 0.17192746809939558),\n",
       " ('newleftblogs.blogspot.com', 0.09402283411685695),\n",
       " ('madkane.com/notable.html', 0.08797850906648758),\n",
       " ('politicalstrategy.org', 0.08797850906648758),\n",
       " ('cayankee.blogs.com', 0.08260577568838147),\n",
       " ('liberaloasis.com', 0.07723304231027536),\n",
       " ('lashawnbarber.com', 0.07588985896574883),\n",
       " ('gevkaffeegal.typepad.com/the_alliance', 0.07387508394895903),\n",
       " ('presidentboxer.blogspot.com', 0.07320349227669577),\n",
       " ('corrente.blogspot.com', 0.07118871725990598)]"
      ]
     },
     "execution_count": 51,
     "metadata": {},
     "output_type": "execute_result"
    }
   ],
   "source": [
    "out_degree_list = list(nx.out_degree_centrality(G).items())\n",
    "df_out_degree = pd.DataFrame(out_degree_list, columns = [\"Blogsite\",\"Out_Degree_Centrality\"])\n",
    "\n",
    "# Get top 10 \n",
    "sorted(out_degree_list, key = lambda x: x[1], reverse = True)[:10]"
   ]
  },
  {
   "cell_type": "markdown",
   "metadata": {},
   "source": [
    "### Eigen Vector Centrality:\n",
    "Like degree centrality, EigenCentrality measures a node’s influence based on the number of links it has to other nodes in the network. EigenCentrality then goes a step further by also taking into account how well connected a node is, and how many links their connections have, and so on through the network. By calculating the extended connections of a node, EigenCentrality can identify nodes with influence over the whole network, not just those directly connected to it."
   ]
  },
  {
   "cell_type": "code",
   "execution_count": 52,
   "metadata": {},
   "outputs": [
    {
     "data": {
      "text/plain": [
       "[('dailykos.com', 0.1642143693627572),\n",
       " ('atrios.blogspot.com', 0.16052448104611833),\n",
       " ('talkingpointsmemo.com', 0.14928287200165583),\n",
       " ('washingtonmonthly.com', 0.13963574133398254),\n",
       " ('liberaloasis.com', 0.11899194064802122),\n",
       " ('digbysblog.blogspot.com', 0.11787380919996894),\n",
       " ('instapundit.com', 0.11336959967061194),\n",
       " ('bodyandsoul.typepad.com', 0.11121461467217228),\n",
       " ('pandagon.net', 0.10814134579414941),\n",
       " ('talkleft.com', 0.10740515466131434)]"
      ]
     },
     "execution_count": 52,
     "metadata": {},
     "output_type": "execute_result"
    }
   ],
   "source": [
    "eigen_list = list(nx.eigenvector_centrality(nx_graph).items())\n",
    "df_eigen = pd.DataFrame(eigen_list, columns = [\"Blogsite\",\"Eigen_Centrality\"])\n",
    "\n",
    "# Get top 10 \n",
    "sorted(eigen_list, key = lambda x: x[1], reverse = True)[:10]"
   ]
  },
  {
   "cell_type": "markdown",
   "metadata": {},
   "source": [
    "It's interesting to find similarity in the resultsets between **In-degree** and **EigenCentrality** for identofying most influential blogposts."
   ]
  },
  {
   "cell_type": "markdown",
   "metadata": {},
   "source": [
    "### Closeness Centrality: \n",
    "Closeness centrality indicates how close a node is to all other nodes in the network. It is calculated as the average of the shortest path length from the node to every other node in the network.\n",
    "\n",
    "The closeness centrality is normalized to $\\frac{(n-1)}{(\\lvert G \\rvert -1)}$ where $n$ is the number of nodes in the connected part of graph containing the node. If the graph is not completely connected, this algorithm computes the closeness centrality for each connected part separately."
   ]
  },
  {
   "cell_type": "code",
   "execution_count": 53,
   "metadata": {},
   "outputs": [
    {
     "data": {
      "text/plain": [
       "[('dailykos.com', 0.3677362450836158),\n",
       " ('instapundit.com', 0.3514046453768085),\n",
       " ('talkingpointsmemo.com', 0.34605155249883257),\n",
       " ('atrios.blogspot.com', 0.34537268726587755),\n",
       " ('drudgereport.com', 0.3304621817621418),\n",
       " ('washingtonmonthly.com', 0.32968862796588216),\n",
       " ('powerlineblog.com', 0.3290723875397777),\n",
       " ('andrewsullivan.com', 0.323298591006189),\n",
       " ('nationalreview.com/thecorner', 0.32053477894179533),\n",
       " ('talkleft.com', 0.3138212608445295)]"
      ]
     },
     "execution_count": 53,
     "metadata": {},
     "output_type": "execute_result"
    }
   ],
   "source": [
    "closeness_list = list(nx.closeness_centrality(G).items())\n",
    "df_close = pd.DataFrame(closeness_list, columns = [\"Blogsite\",\"Closeness_Centrality\"])\n",
    "\n",
    "# Get top 10 \n",
    "sorted(closeness_list, key = lambda x: x[1], reverse = True)[:10]"
   ]
  },
  {
   "cell_type": "markdown",
   "metadata": {},
   "source": [
    "The blogpost from **\"dailykos.com\"** has the maximum closeness centrality."
   ]
  },
  {
   "cell_type": "markdown",
   "metadata": {},
   "source": [
    "## Summary of Centrality Scores\n",
    "We summarized all our centrality scores and sorted by **degree centrality** to show top 10 blog posts."
   ]
  },
  {
   "cell_type": "code",
   "execution_count": 54,
   "metadata": {},
   "outputs": [
    {
     "data": {
      "text/html": [
       "<div>\n",
       "<style scoped>\n",
       "    .dataframe tbody tr th:only-of-type {\n",
       "        vertical-align: middle;\n",
       "    }\n",
       "\n",
       "    .dataframe tbody tr th {\n",
       "        vertical-align: top;\n",
       "    }\n",
       "\n",
       "    .dataframe thead th {\n",
       "        text-align: right;\n",
       "    }\n",
       "</style>\n",
       "<table border=\"1\" class=\"dataframe\">\n",
       "  <thead>\n",
       "    <tr style=\"text-align: right;\">\n",
       "      <th></th>\n",
       "      <th>Blogsite</th>\n",
       "      <th>Degree_Centrality</th>\n",
       "      <th>In_Degree_Centrality</th>\n",
       "      <th>Out_Degree_Centrality</th>\n",
       "      <th>Eigen_Centrality</th>\n",
       "      <th>Closeness_Centrality</th>\n",
       "      <th>Blog_Rank</th>\n",
       "    </tr>\n",
       "  </thead>\n",
       "  <tbody>\n",
       "    <tr>\n",
       "      <th>854</th>\n",
       "      <td>blogsforbush.com</td>\n",
       "      <td>0.314305</td>\n",
       "      <td>0.142377</td>\n",
       "      <td>0.171927</td>\n",
       "      <td>0.051809</td>\n",
       "      <td>0.287669</td>\n",
       "      <td>1.0</td>\n",
       "    </tr>\n",
       "    <tr>\n",
       "      <th>154</th>\n",
       "      <td>dailykos.com</td>\n",
       "      <td>0.257891</td>\n",
       "      <td>0.226998</td>\n",
       "      <td>0.030893</td>\n",
       "      <td>0.164214</td>\n",
       "      <td>0.367736</td>\n",
       "      <td>2.0</td>\n",
       "    </tr>\n",
       "    <tr>\n",
       "      <th>1050</th>\n",
       "      <td>instapundit.com</td>\n",
       "      <td>0.243788</td>\n",
       "      <td>0.186031</td>\n",
       "      <td>0.057757</td>\n",
       "      <td>0.113370</td>\n",
       "      <td>0.351405</td>\n",
       "      <td>3.0</td>\n",
       "    </tr>\n",
       "    <tr>\n",
       "      <th>54</th>\n",
       "      <td>atrios.blogspot.com</td>\n",
       "      <td>0.235729</td>\n",
       "      <td>0.177300</td>\n",
       "      <td>0.058428</td>\n",
       "      <td>0.160524</td>\n",
       "      <td>0.345373</td>\n",
       "      <td>4.0</td>\n",
       "    </tr>\n",
       "    <tr>\n",
       "      <th>640</th>\n",
       "      <td>talkingpointsmemo.com</td>\n",
       "      <td>0.190060</td>\n",
       "      <td>0.180658</td>\n",
       "      <td>0.009402</td>\n",
       "      <td>0.149283</td>\n",
       "      <td>0.346052</td>\n",
       "      <td>5.0</td>\n",
       "    </tr>\n",
       "    <tr>\n",
       "      <th>728</th>\n",
       "      <td>washingtonmonthly.com</td>\n",
       "      <td>0.171927</td>\n",
       "      <td>0.134990</td>\n",
       "      <td>0.036938</td>\n",
       "      <td>0.139636</td>\n",
       "      <td>0.329689</td>\n",
       "      <td>6.0</td>\n",
       "    </tr>\n",
       "    <tr>\n",
       "      <th>962</th>\n",
       "      <td>drudgereport.com</td>\n",
       "      <td>0.164540</td>\n",
       "      <td>0.161182</td>\n",
       "      <td>0.003358</td>\n",
       "      <td>0.053061</td>\n",
       "      <td>0.330462</td>\n",
       "      <td>7.0</td>\n",
       "    </tr>\n",
       "    <tr>\n",
       "      <th>1244</th>\n",
       "      <td>powerlineblog.com</td>\n",
       "      <td>0.158496</td>\n",
       "      <td>0.148422</td>\n",
       "      <td>0.010074</td>\n",
       "      <td>0.074305</td>\n",
       "      <td>0.329072</td>\n",
       "      <td>8.0</td>\n",
       "    </tr>\n",
       "    <tr>\n",
       "      <th>1152</th>\n",
       "      <td>michellemalkin.com</td>\n",
       "      <td>0.153794</td>\n",
       "      <td>0.134990</td>\n",
       "      <td>0.018805</td>\n",
       "      <td>0.068295</td>\n",
       "      <td>0.310500</td>\n",
       "      <td>9.0</td>\n",
       "    </tr>\n",
       "    <tr>\n",
       "      <th>1040</th>\n",
       "      <td>hughhewitt.com</td>\n",
       "      <td>0.151108</td>\n",
       "      <td>0.105440</td>\n",
       "      <td>0.045668</td>\n",
       "      <td>0.068051</td>\n",
       "      <td>0.301850</td>\n",
       "      <td>10.0</td>\n",
       "    </tr>\n",
       "  </tbody>\n",
       "</table>\n",
       "</div>"
      ],
      "text/plain": [
       "                   Blogsite  Degree_Centrality  In_Degree_Centrality  \\\n",
       "854        blogsforbush.com           0.314305              0.142377   \n",
       "154            dailykos.com           0.257891              0.226998   \n",
       "1050        instapundit.com           0.243788              0.186031   \n",
       "54      atrios.blogspot.com           0.235729              0.177300   \n",
       "640   talkingpointsmemo.com           0.190060              0.180658   \n",
       "728   washingtonmonthly.com           0.171927              0.134990   \n",
       "962        drudgereport.com           0.164540              0.161182   \n",
       "1244      powerlineblog.com           0.158496              0.148422   \n",
       "1152     michellemalkin.com           0.153794              0.134990   \n",
       "1040         hughhewitt.com           0.151108              0.105440   \n",
       "\n",
       "      Out_Degree_Centrality  Eigen_Centrality  Closeness_Centrality  Blog_Rank  \n",
       "854                0.171927          0.051809              0.287669        1.0  \n",
       "154                0.030893          0.164214              0.367736        2.0  \n",
       "1050               0.057757          0.113370              0.351405        3.0  \n",
       "54                 0.058428          0.160524              0.345373        4.0  \n",
       "640                0.009402          0.149283              0.346052        5.0  \n",
       "728                0.036938          0.139636              0.329689        6.0  \n",
       "962                0.003358          0.053061              0.330462        7.0  \n",
       "1244               0.010074          0.074305              0.329072        8.0  \n",
       "1152               0.018805          0.068295              0.310500        9.0  \n",
       "1040               0.045668          0.068051              0.301850       10.0  "
      ]
     },
     "execution_count": 54,
     "metadata": {},
     "output_type": "execute_result"
    }
   ],
   "source": [
    "from functools import reduce\n",
    "\n",
    "dfs = [df_degree, df_in_degree, df_out_degree, df_eigen, df_close]\n",
    "df_final = reduce(lambda left,right: pd.merge(left,right,on='Blogsite'), dfs)\n",
    "\n",
    "df_final['Blog_Rank'] = df_final['Degree_Centrality'].rank(ascending=False)\n",
    "df_final.sort_values(by=['Blog_Rank']).head(10)"
   ]
  },
  {
   "cell_type": "markdown",
   "metadata": {},
   "source": [
    "# Liberal and Conservative blogs\n",
    "We will divide the network into its liberal and conservative blogs, and run this algorithm seperately:"
   ]
  },
  {
   "cell_type": "code",
   "execution_count": 74,
   "metadata": {},
   "outputs": [],
   "source": [
    "# Liberal subgraph\n",
    "liberal = [n for n,v in G.nodes(data=True) if v['value'] == 0]  \n",
    "G_liberal = G.subgraph(liberal)\n",
    "nx_graph_lib = nx.Graph(G_liberal)\n",
    "\n",
    "# Conservative subgraph\n",
    "conservative = [n for n,v in G.nodes(data=True) if v['value'] == 1]  \n",
    "G_conservative = G.subgraph(conservative)\n",
    "nx_graph_cons = nx.Graph(G_conservative)"
   ]
  },
  {
   "cell_type": "code",
   "execution_count": 75,
   "metadata": {},
   "outputs": [
    {
     "data": {
      "image/png": "[encoded data removed]",
      "text/plain": [
       "<Figure size 720x432 with 1 Axes>"
      ]
     },
     "metadata": {},
     "output_type": "display_data"
    }
   ],
   "source": [
    "## Count of nodes by 'value' attribute\n",
    "liberal_source = list(nx.get_node_attributes(nx_graph_lib,'source').values())\n",
    "\n",
    "# Some have mutiple entries, and we will split them out and count each one\n",
    "liberal_source = [item.split(\",\") for item in liberal_source]\n",
    "liberal_source = [item for sublist in liberal_source for item in sublist]\n",
    "\n",
    "liberal_source_counter=collections.Counter(liberal_source)\n",
    "df_liberal = pd.DataFrame.from_dict(liberal_source_counter, orient='index').reset_index()\n",
    "df_liberal = df_liberal.rename(columns={'index':'source', 0:'count'})\n",
    "#df['category'] = np.where(df['type'] == 0, \"Left/Liberal\", \"Right/Conservative\")\n",
    "df_liberal = df_liberal.nlargest(10,'count')\n",
    "\n",
    "#Seaborn barplot\n",
    "sns.set_style(\"whitegrid\")\n",
    "bar,ax = plt.subplots(figsize=(10,6))\n",
    "ax = sns.barplot(x = 'count', y = df_liberal.source, data=df_liberal, ci=None, palette=\"muted\",orient='h', )\n",
    "ax.set_title(\"Distribution of Top 10 Sources for Liberal Blogs Dataset\", fontsize=15)\n",
    "ax.set_xlabel (\"No. of Blog Posts\")\n",
    "ax.set_ylabel (\"Source Website(s)\")\n",
    "\n",
    "\n",
    "bar.savefig(\"Seaborn_Liberal_Bar.png\");"
   ]
  },
  {
   "cell_type": "code",
   "execution_count": 76,
   "metadata": {},
   "outputs": [
    {
     "data": {
      "image/png": "[encoded data removed]",
      "text/plain": [
       "<Figure size 720x432 with 1 Axes>"
      ]
     },
     "metadata": {},
     "output_type": "display_data"
    }
   ],
   "source": [
    "## Count of nodes by 'value' attribute\n",
    "cons_source = list(nx.get_node_attributes(nx_graph_cons,'source').values())\n",
    "\n",
    "# Some have mutiple entries, and we will split them out and count each one\n",
    "cons_source = [item.split(\",\") for item in cons_source]\n",
    "cons_source = [item for sublist in cons_source for item in sublist]\n",
    "\n",
    "\n",
    "cons_source_counter=collections.Counter(cons_source)\n",
    "df_cons = pd.DataFrame.from_dict(cons_source_counter, orient='index').reset_index()\n",
    "df_cons = df_cons.rename(columns={'index':'source', 0:'count'})\n",
    "#df['category'] = np.where(df['type'] == 0, \"Left/Liberal\", \"Right/Conservative\")\n",
    "df_cons = df_cons.nlargest(10,'count')\n",
    "\n",
    "#Seaborn barplot\n",
    "sns.set_style(\"whitegrid\")\n",
    "bar,ax = plt.subplots(figsize=(10,6))\n",
    "ax = sns.barplot(x = 'count', y = df_cons.source, data=df_cons, ci=None, palette=\"muted\",orient='h', )\n",
    "ax.set_title(\"Distribution of Top 10 Sources for Conservative Blogs Dataset\", fontsize=15)\n",
    "ax.set_xlabel (\"No. of Blog Posts\")\n",
    "ax.set_ylabel (\"Source Website(s)\")\n",
    "\n",
    "\n",
    "bar.savefig(\"Seaborn_Conservative_Bar.png\");"
   ]
  },
  {
   "cell_type": "markdown",
   "metadata": {},
   "source": [
    "Based on the above analysis, we can see that most popular political bloggiong platforms hosted both liberal and conservative blog posts. **Blogarama** showed up as one of the most popular in both the categories."
   ]
  },
  {
   "cell_type": "code",
   "execution_count": 77,
   "metadata": {},
   "outputs": [
    {
     "data": {
      "text/plain": [
       "[('dailykos.com', 0.4370256879099083),\n",
       " ('atrios.blogspot.com', 0.4094114274101064),\n",
       " ('talkingpointsmemo.com', 0.3952937919821717),\n",
       " ('juancole.com', 0.34657153390064815),\n",
       " ('washingtonmonthly.com', 0.3410200447992648),\n",
       " ('talkleft.com', 0.33488934736467124),\n",
       " ('digbysblog.blogspot.com', 0.3300681275244268),\n",
       " ('pandagon.net', 0.3289751867048096),\n",
       " ('prospect.org/weblog', 0.3268108762659621),\n",
       " ('thismodernworld.com', 0.3211762059855145)]"
      ]
     },
     "execution_count": 77,
     "metadata": {},
     "output_type": "execute_result"
    }
   ],
   "source": [
    "# measure of node’s centrality: liberal\n",
    "closeness_list_liberal = list(nx.closeness_centrality(G_liberal).items())\n",
    "\n",
    "# Get top 10 \n",
    "sorted(closeness_list_liberal, key = lambda x: x[1], reverse = True)[:10]"
   ]
  },
  {
   "cell_type": "code",
   "execution_count": 78,
   "metadata": {},
   "outputs": [
    {
     "data": {
      "text/plain": [
       "[('drudgereport.com', 0.4236693780099153),\n",
       " ('instapundit.com', 0.4230843680004424),\n",
       " ('blogsforbush.com', 0.41134561096921635),\n",
       " ('powerlineblog.com', 0.4025044722719141),\n",
       " ('littlegreenfootballs.com/weblog', 0.39186558754226003),\n",
       " ('michellemalkin.com', 0.3892931657422014),\n",
       " ('hughhewitt.com', 0.3749356728012351),\n",
       " ('captainsquartersblog.com/mt', 0.3698689745201373),\n",
       " ('nationalreview.com/thecorner', 0.3683374259713997),\n",
       " ('lashawnbarber.com', 0.36419033110375854)]"
      ]
     },
     "execution_count": 78,
     "metadata": {},
     "output_type": "execute_result"
    }
   ],
   "source": [
    "# measure of node’s centrality: conservative\n",
    "closeness_list_conservative = list(nx.closeness_centrality(G_conservative).items())\n",
    "\n",
    "# Get top 10 \n",
    "sorted(closeness_list_conservative, key = lambda x: x[1], reverse = True)[:10]"
   ]
  },
  {
   "cell_type": "code",
   "execution_count": 79,
   "metadata": {},
   "outputs": [
    {
     "data": {
      "text/plain": [
       "<matplotlib.legend.Legend at 0x7fccdb972610>"
      ]
     },
     "execution_count": 79,
     "metadata": {},
     "output_type": "execute_result"
    },
    {
     "data": {
      "image/png": "[encoded data removed]",
      "text/plain": [
       "<Figure size 432x288 with 1 Axes>"
      ]
     },
     "metadata": {},
     "output_type": "display_data"
    }
   ],
   "source": [
    "lib_centrality = [i[1] for i in closeness_list_liberal]\n",
    "con_centrality = [i[1] for i in closeness_list_conservative]\n",
    "\n",
    "plt.hist(lib_centrality, 100, alpha=0.5, label='liberal')\n",
    "plt.hist(con_centrality, 100, alpha=0.5, label='conservative')\n",
    "plt.legend(loc='upper right')"
   ]
  },
  {
   "cell_type": "markdown",
   "metadata": {},
   "source": [
    "## Focused Analysis\n",
    "To focus in on the more prominent blogs, we filtered out blogs which have less than 12 links either to or from them. After filtering, there are 665 blogs and 16,914 links between them."
   ]
  },
  {
   "cell_type": "code",
   "execution_count": 80,
   "metadata": {},
   "outputs": [
    {
     "name": "stdout",
     "output_type": "stream",
     "text": [
      "Name: \n",
      "Type: MultiDiGraph\n",
      "Number of nodes: 665\n",
      "Number of edges: 16914\n",
      "Average in degree:  25.4346\n",
      "Average out degree:  25.4346\n"
     ]
    }
   ],
   "source": [
    "remove = [node for node,degree in dict(G.degree()).items() if degree < 12]\n",
    "G.remove_nodes_from(remove)\n",
    "print(nx.info(G))\n"
   ]
  },
  {
   "cell_type": "code",
   "execution_count": 81,
   "metadata": {},
   "outputs": [
    {
     "data": {
      "text/html": [
       "\n",
       "        <iframe\n",
       "            width=\"100%\"\n",
       "            height=\"800px\"\n",
       "            src=\"graph_new.html\"\n",
       "            frameborder=\"0\"\n",
       "            allowfullscreen\n",
       "        ></iframe>\n",
       "        "
      ],
      "text/plain": [
       "<IPython.lib.display.IFrame at 0x7fccd90c5b10>"
      ]
     },
     "execution_count": 81,
     "metadata": {},
     "output_type": "execute_result"
    }
   ],
   "source": [
    "# Drawing graph for prominent blogs only\n",
    "n_new = net.Network(height = \"800px\", width = \"100%\", notebook = True, \n",
    "                bgcolor = \"#ffffff\", font_color = \"black\",\n",
    "                heading = 'Political Blogosphere Focused Analysis', directed = True)\n",
    "nx_graph_new = nx.Graph(G)\n",
    "n_new.from_nx(nx_graph_new, default_node_size = 10, default_edge_weight = 1)\n",
    "neighbor_map = n_new.get_adj_list()\n",
    "    \n",
    "n_new.show(\"graph_new.html\")"
   ]
  },
  {
   "cell_type": "markdown",
   "metadata": {},
   "source": [
    "Based on above focused analysis with more prominent blog posts, we observed that some of the conservative blog posts like **Windingroad.typead.com** were having inbound references from multiple liberal blog posts."
   ]
  },
  {
   "cell_type": "markdown",
   "metadata": {},
   "source": [
    "## Reference:\n",
    "\n",
    "1. [The Political Blogosphere and the 2004 U.S. Election: Divided They Blog. Lada A. Adamic.](https://edisciplinas.usp.br/pluginfile.php/3333574/mod_resource/content/2/p36-adamic.pdf)\n",
    "2. [Visualizing Polarization in Political Blogs](http://allthingsgraphed.com/2014/10/09/visualizing-political-polarization/)"
   ]
  },
  {
   "cell_type": "code",
   "execution_count": null,
   "metadata": {
    "collapsed": true
   },
   "outputs": [],
   "source": []
  }
 ],
 "metadata": {
  "kernelspec": {
   "display_name": "Python [conda env:sps620env_1]",
   "language": "python",
   "name": "conda-env-sps620env_1-py"
  },
  "language_info": {
   "codemirror_mode": {
    "name": "ipython",
    "version": 3
   },
   "file_extension": ".py",
   "mimetype": "text/x-python",
   "name": "python",
   "nbconvert_exporter": "python",
   "pygments_lexer": "ipython3",
   "version": "3.7.10"
  }
 },
 "nbformat": 4,
 "nbformat_minor": 4
}
