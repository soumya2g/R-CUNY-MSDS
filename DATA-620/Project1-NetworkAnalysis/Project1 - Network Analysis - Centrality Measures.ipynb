{
 "cells": [
  {
   "cell_type": "markdown",
   "metadata": {},
   "source": [
    "# Project1: Network Analysis: Centrality Measures\n",
    "\n",
    "**GROUP: Forhad Akbar, Adam Douglas, and Soumya Ghosh**\n",
    "\n",
    "For your first project, you are asked to -\n",
    "\n",
    " - Identify and load a network dataset that has some categorical information available for each node.\n",
    " - For each of the nodes in the dataset, calculate degree centrality and eigenvector centrality.\n",
    " - Compare your centrality measures across your categorical groups."
   ]
  },
  {
   "cell_type": "markdown",
   "metadata": {},
   "source": [
    "## Data Description: The political blogosphere network\n",
    "\n",
    "The network of political blogs was first analyzed in “The political blogosphere and the 2004 US Election” by Lada A. Adamic and Natalie Glance, in Proceedings of the WWW-2005 Workshop on the Weblogging Ecosystem (2005). This data set, collected before the 2004 American presidential election, records hyperlinks connecting political blogs to one another. These blogs have been labeled manually as either “liberal” or “conservative”. \n",
    "\n",
    "Node \"value\" attributes indicate political leaning according to:\n",
    "\n",
    "  - 0 (left or liberal)\n",
    "  - 1 (right or conservative)\n",
    "\n",
    "Data on political leaning comes from blog directories as indicated.  Some blogs were labeled manually, based on incoming and outgoing links and posts around the time of the 2004 presidential election.  Directory-derived labels are prone to error; manual labels even more so.\n",
    "\n",
    "Links between blogs were automatically extracted from a crawl of the front page of the blog."
   ]
  },
  {
   "cell_type": "markdown",
   "metadata": {},
   "source": [
    "## Objective\n",
    "We are aiming to analyze and find answers to below questions leveraging this dataset -\n",
    "\n",
    "1. Which category is more represented in the data (e.g. simple count of nodes in each category)\n",
    "2. Which Website(s) are the major sources for these blog posts? \n",
    "3. Which node(s) have a higher incoming degree centrality by category (i.e. more popular, therefore quoted more)\n",
    "4. Which node(s) in each category have higher degree centrality from the opposite category (i.e. a liberal blog quoting a conservative blog)\n",
    "5. Most popular platforms by category (e.g. Blogspot, AmericanPolitics.com, etc.)\n",
    "6. Most influential nodes by category (Eigenvector Centrality)\n",
    "7. Highest out-degrees (who is more prolific in linking to other blogs)\n",
    "8. Any interesting subnetworks we may discover"
   ]
  },
  {
   "cell_type": "markdown",
   "metadata": {},
   "source": [
    "## Import Python Packages"
   ]
  },
  {
   "cell_type": "code",
   "execution_count": 60,
   "metadata": {},
   "outputs": [],
   "source": [
    "import pandas as pd\n",
    "import numpy as np\n",
    "import networkx as nx\n",
    "from pyvis import network as net\n",
    "import matplotlib.pyplot as plt\n",
    "import seaborn as sns\n",
    "# create number for each group to allow use of colormap\n",
    "from itertools import count, groupby\n",
    "import collections\n",
    "\n",
    "%matplotlib inline\n",
    "sns.set()"
   ]
  },
  {
   "cell_type": "markdown",
   "metadata": {},
   "source": [
    "## Load Political Blogs dataset"
   ]
  },
  {
   "cell_type": "code",
   "execution_count": 61,
   "metadata": {},
   "outputs": [
    {
     "name": "stdout",
     "output_type": "stream",
     "text": [
      "Name: \n",
      "Type: MultiDiGraph\n",
      "Number of nodes: 1490\n",
      "Number of edges: 19090\n",
      "Average in degree:  12.8121\n",
      "Average out degree:  12.8121\n"
     ]
    }
   ],
   "source": [
    "G = nx.read_gml(path=\"Dataset/polblogs.gml\")\n",
    "\n",
    "print(nx.info(G))"
   ]
  },
  {
   "cell_type": "markdown",
   "metadata": {},
   "source": [
    "## Print first 10 nodes of the graph\n",
    "\n",
    "Let's start our analysis with a preview of first 10 blog post entries in the dataset -"
   ]
  },
  {
   "cell_type": "code",
   "execution_count": 62,
   "metadata": {},
   "outputs": [
    {
     "data": {
      "text/plain": [
       "[('12thharmonic.com/wordpress', {'value': 0, 'source': 'BlogCatalog'}),\n",
       " ('40ozblog.blogspot.com', {'value': 0, 'source': 'Blogarama,BlogCatalog'}),\n",
       " ('4lina.tblog.com', {'value': 0, 'source': 'Blogarama'}),\n",
       " ('750volts.blogspot.com', {'value': 0, 'source': 'Blogarama'}),\n",
       " ('95theses.blogspot.com', {'value': 0, 'source': 'Blogarama'}),\n",
       " ('abbadabbaduo.blogspot.com',\n",
       "  {'value': 0, 'source': 'Blogarama,LeftyDirectory'}),\n",
       " ('aboutpolitics.blogspot.com',\n",
       "  {'value': 0, 'source': 'Blogarama,eTalkingHead'}),\n",
       " ('achingandspinning.blogspot.com', {'value': 0, 'source': 'Blogarama'}),\n",
       " ('ackackack.com', {'value': 0, 'source': 'BlogCatalog'})]"
      ]
     },
     "execution_count": 62,
     "metadata": {},
     "output_type": "execute_result"
    }
   ],
   "source": [
    "list(G.nodes.data())[1:10]"
   ]
  },
  {
   "cell_type": "markdown",
   "metadata": {},
   "source": [
    "From the sample records above, we can see that there are two categorical attributes present in the dataset -\n",
    " - **'value'**: The political view type in the blog post (0 - Left/Liberal & 1 - Right/Conservative).\n",
    " - **'source'**: The Blog Website where the post was sourced from. "
   ]
  },
  {
   "cell_type": "markdown",
   "metadata": {},
   "source": [
    "## Assigning the 'color' attribute to nodes\n",
    "Next, we are going to add a color attribute for each blogpost node as an additional attribute.\n"
   ]
  },
  {
   "cell_type": "code",
   "execution_count": 77,
   "metadata": {},
   "outputs": [
    {
     "data": {
      "text/plain": [
       "[('12thharmonic.com/wordpress',\n",
       "  {'value': 0, 'source': 'BlogCatalog', 'color': 'blue'}),\n",
       " ('40ozblog.blogspot.com',\n",
       "  {'value': 0, 'source': 'Blogarama,BlogCatalog', 'color': 'blue'}),\n",
       " ('4lina.tblog.com', {'value': 0, 'source': 'Blogarama', 'color': 'blue'}),\n",
       " ('750volts.blogspot.com',\n",
       "  {'value': 0, 'source': 'Blogarama', 'color': 'blue'}),\n",
       " ('95theses.blogspot.com',\n",
       "  {'value': 0, 'source': 'Blogarama', 'color': 'blue'}),\n",
       " ('abbadabbaduo.blogspot.com',\n",
       "  {'value': 0, 'source': 'Blogarama,LeftyDirectory', 'color': 'blue'}),\n",
       " ('aboutpolitics.blogspot.com',\n",
       "  {'value': 0, 'source': 'Blogarama,eTalkingHead', 'color': 'blue'}),\n",
       " ('achingandspinning.blogspot.com',\n",
       "  {'value': 0, 'source': 'Blogarama', 'color': 'blue'}),\n",
       " ('ackackack.com', {'value': 0, 'source': 'BlogCatalog', 'color': 'blue'})]"
      ]
     },
     "execution_count": 77,
     "metadata": {},
     "output_type": "execute_result"
    }
   ],
   "source": [
    "node_list = list(G.nodes())\n",
    "types = list(nx.get_node_attributes(G,'value').values())\n",
    "\n",
    "df_col = pd.DataFrame(types, columns = ['type'])\n",
    "df_col['color'] = np.where(df_col['type'] == 0, \"blue\", \"red\")\n",
    "\n",
    "# Create dictionary object to add the color for each node\n",
    "color_dict = { k:v for k,v in zip(node_list,list(df_col['color']))}\n",
    "color_dict\n",
    "nx.set_node_attributes(G, color_dict, 'color')\n",
    "\n",
    "# Confirm the addition of 'color' attribute to the graph nodes\n",
    "list(G.nodes.data())[1:10]"
   ]
  },
  {
   "cell_type": "markdown",
   "metadata": {},
   "source": [
    "## Visualizing the graph dataset -"
   ]
  },
  {
   "cell_type": "code",
   "execution_count": 78,
   "metadata": {},
   "outputs": [
    {
     "data": {
      "text/html": [
       "\n",
       "        <iframe\n",
       "            width=\"100%\"\n",
       "            height=\"800px\"\n",
       "            src=\"graph.html\"\n",
       "            frameborder=\"0\"\n",
       "            allowfullscreen\n",
       "        ></iframe>\n",
       "        "
      ],
      "text/plain": [
       "<IPython.lib.display.IFrame at 0x7fd6e0f97b50>"
      ]
     },
     "execution_count": 78,
     "metadata": {},
     "output_type": "execute_result"
    }
   ],
   "source": [
    "n = net.Network(height = \"800px\", width = \"100%\", notebook = True, \n",
    "                bgcolor = \"#ffffff\", font_color = \"black\",\n",
    "                heading = 'Political Blog Sphere Graph Analysis', directed = True)\n",
    "nx_graph = nx.Graph(G)\n",
    "#print(type(nx_graph))\n",
    "n.from_nx(nx_graph, default_node_size = 50, default_edge_weight = 1)\n",
    "#n.enable_physics(True)\n",
    "n.show_buttons(filter_=['physics'])\n",
    "n.show(\"graph.html\")"
   ]
  },
  {
   "cell_type": "markdown",
   "metadata": {},
   "source": [
    "## Distribution of political views in the dataset\n",
    "We wanted to start off our data anlaysis with a quick view of distribution of political views in blog possts dataste -"
   ]
  },
  {
   "cell_type": "code",
   "execution_count": 69,
   "metadata": {},
   "outputs": [
    {
     "data": {
      "text/html": [
       "<div>\n",
       "<style scoped>\n",
       "    .dataframe tbody tr th:only-of-type {\n",
       "        vertical-align: middle;\n",
       "    }\n",
       "\n",
       "    .dataframe tbody tr th {\n",
       "        vertical-align: top;\n",
       "    }\n",
       "\n",
       "    .dataframe thead th {\n",
       "        text-align: right;\n",
       "    }\n",
       "</style>\n",
       "<table border=\"1\" class=\"dataframe\">\n",
       "  <thead>\n",
       "    <tr style=\"text-align: right;\">\n",
       "      <th></th>\n",
       "      <th>type</th>\n",
       "      <th>count</th>\n",
       "      <th>category</th>\n",
       "    </tr>\n",
       "  </thead>\n",
       "  <tbody>\n",
       "    <tr>\n",
       "      <th>0</th>\n",
       "      <td>0</td>\n",
       "      <td>758</td>\n",
       "      <td>Left/Liberal</td>\n",
       "    </tr>\n",
       "    <tr>\n",
       "      <th>1</th>\n",
       "      <td>1</td>\n",
       "      <td>732</td>\n",
       "      <td>Right/Conservative</td>\n",
       "    </tr>\n",
       "  </tbody>\n",
       "</table>\n",
       "</div>"
      ],
      "text/plain": [
       "   type  count            category\n",
       "0     0    758        Left/Liberal\n",
       "1     1    732  Right/Conservative"
      ]
     },
     "execution_count": 69,
     "metadata": {},
     "output_type": "execute_result"
    }
   ],
   "source": [
    "## Count of nodes by 'value' attribute\n",
    "types = list(nx.get_node_attributes(nx_graph,'value').values())\n",
    "type_counter=collections.Counter(types)\n",
    "df = pd.DataFrame.from_dict(type_counter, orient='index').reset_index()\n",
    "df = df.rename(columns={'index':'type', 0:'count'})\n",
    "df['category'] = np.where(df['type'] == 0, \"Left/Liberal\", \"Right/Conservative\")\n",
    "df"
   ]
  },
  {
   "cell_type": "markdown",
   "metadata": {},
   "source": [
    "From the table above, it can be be inferred that the dataset is pretty much evenly balanced between two opposing political views with 'Left/Liberal' having little more posts."
   ]
  },
  {
   "cell_type": "markdown",
   "metadata": {},
   "source": [
    "## Distribution of Blog Posts Sources\n",
    "We wanted to quickly analyze which Website(s) are the major sources for the political blog posts dataset. So we identified top 10 sources below -\n"
   ]
  },
  {
   "cell_type": "code",
   "execution_count": 70,
   "metadata": {},
   "outputs": [
    {
     "data": {
      "image/png": "[encoded data removed]",
      "text/plain": [
       "<Figure size 720x432 with 1 Axes>"
      ]
     },
     "metadata": {},
     "output_type": "display_data"
    }
   ],
   "source": [
    "## Count of nodes by 'value' attribute\n",
    "source = list(nx.get_node_attributes(nx_graph,'source').values())\n",
    "source_counter=collections.Counter(source)\n",
    "df1 = pd.DataFrame.from_dict(source_counter, orient='index').reset_index()\n",
    "df1 = df1.rename(columns={'index':'source', 0:'count'})\n",
    "#df['category'] = np.where(df['type'] == 0, \"Left/Liberal\", \"Right/Conservative\")\n",
    "df1 = df1.nlargest(10,'count')\n",
    "\n",
    "#Seaborn barplot\n",
    "sns.set_style(\"whitegrid\")\n",
    "bar,ax = plt.subplots(figsize=(10,6))\n",
    "ax = sns.barplot(x = 'count', y = df1.source, data=df1, ci=None, palette=\"muted\",orient='h', )\n",
    "ax.set_title(\"Distribution of Top 10 Sources for Politiocal Blogs Dataset\", fontsize=15)\n",
    "ax.set_xlabel (\"No. of Blog Posts\")\n",
    "ax.set_ylabel (\"Source Website(s)\")\n",
    "\n",
    "\n",
    "bar.savefig(\"Seaborn_Pie_Chart.png\");"
   ]
  },
  {
   "cell_type": "markdown",
   "metadata": {},
   "source": [
    "Based on the bar chart above, we can clearly see blogarama ([link](https://www.blogarama.com/)) is the major source for the blog entries. "
   ]
  },
  {
   "cell_type": "markdown",
   "metadata": {},
   "source": [
    "## Neighbor Analysis:"
   ]
  },
  {
   "cell_type": "code",
   "execution_count": 71,
   "metadata": {},
   "outputs": [
    {
     "name": "stdout",
     "output_type": "stream",
     "text": [
      "The most connected blog post is from 'blogsforbush.com' with 256 neighbors.\n"
     ]
    }
   ],
   "source": [
    "counts = [(n, len(list(G.neighbors(n)))) for n in G.nodes()]\n",
    "counts = sorted(counts, key = lambda x: x[1], reverse = True)\n",
    "\n",
    "print(\"The most connected blog post is from '\", str(counts[0][0]), \"' with \", str(counts[0][1]), \" neighbors.\", sep=\"\")"
   ]
  },
  {
   "cell_type": "markdown",
   "metadata": {},
   "source": [
    "### Degree centrality: \n",
    "Next we compute the degree centrality $^3$ for nodes. The degree centrality values are normalized by dividing by the maximum possible degree in a simple graph $n-1$ where $n$ is the number of nodes in $G$."
   ]
  },
  {
   "cell_type": "code",
   "execution_count": 72,
   "metadata": {},
   "outputs": [
    {
     "data": {
      "text/plain": [
       "[('blogsforbush.com', 0.3143049026192075),\n",
       " ('dailykos.com', 0.25789120214909333),\n",
       " ('instapundit.com', 0.24378777703156482),\n",
       " ('atrios.blogspot.com', 0.23572867696440566),\n",
       " ('talkingpointsmemo.com', 0.1900604432505037),\n",
       " ('washingtonmonthly.com', 0.17192746809939558),\n",
       " ('drudgereport.com', 0.16453995970449967),\n",
       " ('powerlineblog.com', 0.1584956346541303),\n",
       " ('michellemalkin.com', 0.15379449294828745),\n",
       " ('hughhewitt.com', 0.1511081262592344)]"
      ]
     },
     "execution_count": 72,
     "metadata": {},
     "output_type": "execute_result"
    }
   ],
   "source": [
    "degree_list = list(nx.degree_centrality(G).items())\n",
    "\n",
    "# Get top 10 \n",
    "sorted(degree_list, key = lambda x: x[1], reverse = True)[:10]"
   ]
  },
  {
   "cell_type": "code",
   "execution_count": 73,
   "metadata": {},
   "outputs": [
    {
     "data": {
      "text/plain": [
       "0.3143049026192075"
      ]
     },
     "execution_count": 73,
     "metadata": {},
     "output_type": "execute_result"
    }
   ],
   "source": [
    "max(list(nx.degree_centrality(G).values()))"
   ]
  },
  {
   "cell_type": "markdown",
   "metadata": {},
   "source": [
    "The blogpost from \"blogsforbush.com\" has the maximum degree of centrality."
   ]
  },
  {
   "cell_type": "markdown",
   "metadata": {},
   "source": [
    "### Closeness centrality: \n",
    "The closeness centrality is normalized to $\\frac{(n-1)}{(\\lvert G \\rvert -1)}$ where $n$ is the number of nodes in the connected part of graph containing the node. If the graph is not completely connected, this algorithm computes the closeness centrality for each connected part separately."
   ]
  },
  {
   "cell_type": "code",
   "execution_count": 74,
   "metadata": {},
   "outputs": [
    {
     "data": {
      "text/plain": [
       "[('dailykos.com', 0.3677362450836158),\n",
       " ('instapundit.com', 0.3514046453768085),\n",
       " ('talkingpointsmemo.com', 0.34605155249883257),\n",
       " ('atrios.blogspot.com', 0.34537268726587755),\n",
       " ('drudgereport.com', 0.3304621817621418),\n",
       " ('washingtonmonthly.com', 0.32968862796588216),\n",
       " ('powerlineblog.com', 0.3290723875397777),\n",
       " ('andrewsullivan.com', 0.323298591006189),\n",
       " ('nationalreview.com/thecorner', 0.32053477894179533),\n",
       " ('talkleft.com', 0.3138212608445295)]"
      ]
     },
     "execution_count": 74,
     "metadata": {},
     "output_type": "execute_result"
    }
   ],
   "source": [
    "closeness_list = list(nx.closeness_centrality(G).items())\n",
    "\n",
    "# Get top 10 \n",
    "sorted(closeness_list, key = lambda x: x[1], reverse = True)[:10]"
   ]
  },
  {
   "cell_type": "markdown",
   "metadata": {},
   "source": [
    "The blogpost from \"dailykos.com\" has the maximum closeness centrality."
   ]
  },
  {
   "cell_type": "code",
   "execution_count": 76,
   "metadata": {},
   "outputs": [
    {
     "name": "stdout",
     "output_type": "stream",
     "text": [
      "{0, 1}\n",
      "{0: 0, 1: 1}\n"
     ]
    },
    {
     "data": {
      "image/png": "[encoded data removed]",
      "text/plain": [
       "<Figure size 432x288 with 2 Axes>"
      ]
     },
     "metadata": {},
     "output_type": "display_data"
    }
   ],
   "source": [
    "groups = set(nx.get_node_attributes(nx_graph,'value').values())\n",
    "print(groups)\n",
    "mapping = dict(zip(sorted(groups),count()))\n",
    "print(mapping)\n",
    "nodes = nx_graph.nodes()\n",
    "colors = [mapping[nx_graph.nodes[n]['value']] for n in nodes]\n",
    "\n",
    "# drawing nodes and edges separately so we can capture collection for colobar\n",
    "pos = nx.spring_layout(nx_graph)\n",
    "#print(type(pos))\n",
    "ec = nx.draw_networkx_edges(nx_graph, pos, alpha=0.2)\n",
    "nc = nx.draw_networkx_nodes(nx_graph, pos, nodelist=nodes, node_color=colors, \n",
    "                           node_size=100, cmap=plt.cm.jet)\n",
    "plt.colorbar(nc)\n",
    "plt.axis('off')\n",
    "plt.show()"
   ]
  },
  {
   "cell_type": "code",
   "execution_count": null,
   "metadata": {},
   "outputs": [],
   "source": []
  }
 ],
 "metadata": {
  "kernelspec": {
   "display_name": "Python [conda env:sps620env_1]",
   "language": "python",
   "name": "conda-env-sps620env_1-py"
  },
  "language_info": {
   "codemirror_mode": {
    "name": "ipython",
    "version": 3
   },
   "file_extension": ".py",
   "mimetype": "text/x-python",
   "name": "python",
   "nbconvert_exporter": "python",
   "pygments_lexer": "ipython3",
   "version": "3.7.10"
  }
 },
 "nbformat": 4,
 "nbformat_minor": 4
}
