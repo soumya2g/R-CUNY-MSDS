{
 "cells": [
  {
   "cell_type": "markdown",
   "metadata": {},
   "source": [
    "## Assignment 6\n",
    "\n",
    "**GROUP: Forhad Akbar, Adam Douglas, and Soumya Ghosh**\n",
    "\n",
    "## Short description of the database\n",
    "Here is a dataset that shows a simple 2-node network:  the attendance of 18 Southern Women at 14 social events:\n",
    "\n",
    "1. Brief Description: Small “musty” datasets like that from this 1941 study have proven very valuable in testing and comparing new network algorithms.  \n",
    "   Reference: http://vlado.fmf.uni-lj.si/pub/networks/data/ucinet/ucidata.htm#davis  \n",
    "\n",
    "\n",
    "2. Dataset: http://vlado.fmf.uni-lj.si/pub/networks/data/Ucinet/davis.dat  \n",
    "   Note: This dataset is built in NetworkX.  \n",
    "\n",
    "\n",
    "3. Python code to create dataset: https://networkx.github.io/documentation/stable/auto_examples/algorithms/plot_davis_club.html  \n",
    "\n",
    "\n",
    "Questions asked: What can you infer about the relationships between (1) the women, and (2) the social events?\n",
    "\n",
    "Please provide your code and analysis in an Jupyter notebook stored in your GitHub repository.  \n",
    "\n",
    "## Background\n",
    "These data were collected by Davis et al in the 1930s. They represent observed attendance at 14 social events by 18 Southern women. The result is a person-by-event matrix: cell (i,j) is 1 if person i attended social event j, and 0 otherwise"
   ]
  },
  {
   "cell_type": "markdown",
   "metadata": {},
   "source": [
    "## Import Python Packages"
   ]
  },
  {
   "cell_type": "code",
   "execution_count": 83,
   "metadata": {},
   "outputs": [],
   "source": [
    "import pandas as pd\n",
    "from functools import reduce\n",
    "import numpy as np\n",
    "from collections import Counter\n",
    "import networkx as nx\n",
    "import networkx.algorithms.bipartite as bipartite\n",
    "from pyvis import network as net\n",
    "import matplotlib.pyplot as plt\n",
    "%matplotlib inline"
   ]
  },
  {
   "cell_type": "markdown",
   "metadata": {},
   "source": [
    "## Load dataset\n",
    "First we load the data using the instructions given in the assigment. Some basic information about the graph is shown below:"
   ]
  },
  {
   "cell_type": "code",
   "execution_count": 84,
   "metadata": {},
   "outputs": [
    {
     "name": "stdout",
     "output_type": "stream",
     "text": [
      "Name: \n",
      "Type: Graph\n",
      "Number of nodes: 32\n",
      "Number of edges: 89\n",
      "Average degree:   5.5625\n"
     ]
    }
   ],
   "source": [
    "G = nx.davis_southern_women_graph()\n",
    "print(nx.info(G))"
   ]
  },
  {
   "cell_type": "markdown",
   "metadata": {},
   "source": [
    "Next we will show a basic plot of the graph, just to get a sense of it:"
   ]
  },
  {
   "cell_type": "code",
   "execution_count": 85,
   "metadata": {},
   "outputs": [
    {
     "data": {
      "text/html": [
       "\n",
       "        <iframe\n",
       "            width=\"100%\"\n",
       "            height=\"800px\"\n",
       "            src=\"graph.html\"\n",
       "            frameborder=\"0\"\n",
       "            allowfullscreen\n",
       "        ></iframe>\n",
       "        "
      ],
      "text/plain": [
       "<IPython.lib.display.IFrame at 0x7fa6709dc730>"
      ]
     },
     "execution_count": 85,
     "metadata": {},
     "output_type": "execute_result"
    }
   ],
   "source": [
    "n = net.Network(height = \"800px\", width = \"100%\", notebook = True,\n",
    "               heading = 'Davis Southern Club Women', directed = False)\n",
    "n.from_nx(G)\n",
    "n.show(\"graph.html\")"
   ]
  },
  {
   "cell_type": "markdown",
   "metadata": {},
   "source": [
    "As expected, we see that there are two node types in the graph. In other, words it is a bipartite graph.\n",
    "\n",
    "As shown in the example code, we will create two projected graphs. One that for the women's nodes and the other for the club nodes."
   ]
  },
  {
   "cell_type": "code",
   "execution_count": 86,
   "metadata": {},
   "outputs": [],
   "source": [
    "women = G.graph[\"top\"]\n",
    "events = G.graph[\"bottom\"]\n",
    "\n",
    "W = bipartite.weighted_projected_graph(G, women)\n",
    "E = bipartite.weighted_projected_graph(G, events)"
   ]
  },
  {
   "cell_type": "markdown",
   "metadata": {},
   "source": [
    "Let's visualize them both:"
   ]
  },
  {
   "cell_type": "code",
   "execution_count": 87,
   "metadata": {},
   "outputs": [
    {
     "data": {
      "text/html": [
       "\n",
       "        <iframe\n",
       "            width=\"100%\"\n",
       "            height=\"800px\"\n",
       "            src=\"graph.html\"\n",
       "            frameborder=\"0\"\n",
       "            allowfullscreen\n",
       "        ></iframe>\n",
       "        "
      ],
      "text/plain": [
       "<IPython.lib.display.IFrame at 0x7fa6837889d0>"
      ]
     },
     "execution_count": 87,
     "metadata": {},
     "output_type": "execute_result"
    }
   ],
   "source": [
    "n = net.Network(height = \"800px\", width = \"100%\", notebook = True,\n",
    "               heading = 'Network - Women', directed = False)\n",
    "n.add_nodes(W.nodes())\n",
    "for u,v,d in W.edges(data=True):\n",
    "    n.add_edge(u,v,value=d['weight'])\n",
    "\n",
    "# Options for display\n",
    "options = '{ \"physics\": { \"barnesHut\": { \"gravitationalConstant\": -26950,  \"centralGravity\": 0.25, \"springLength\": 225, \"springConstant\": 0.055, \"damping\": 0.89, \"avoidOverlap\": 0.04 },  \"minVelocity\": 0.75 }}'\n",
    "\n",
    "n.set_options(options)\n",
    "n.show(\"graph.html\")"
   ]
  },
  {
   "cell_type": "code",
   "execution_count": 88,
   "metadata": {},
   "outputs": [
    {
     "data": {
      "text/html": [
       "\n",
       "        <iframe\n",
       "            width=\"100%\"\n",
       "            height=\"800px\"\n",
       "            src=\"graph.html\"\n",
       "            frameborder=\"0\"\n",
       "            allowfullscreen\n",
       "        ></iframe>\n",
       "        "
      ],
      "text/plain": [
       "<IPython.lib.display.IFrame at 0x7fa6709dcdc0>"
      ]
     },
     "execution_count": 88,
     "metadata": {},
     "output_type": "execute_result"
    }
   ],
   "source": [
    "n = net.Network(height = \"800px\", width = \"100%\", notebook = True,\n",
    "               heading = 'Network - Clubs', directed = False)\n",
    "n.add_nodes(E.nodes())\n",
    "for u,v,d in E.edges(data=True):\n",
    "    n.add_edge(u,v,value=d['weight'])\n",
    "\n",
    "n.set_options(options)\n",
    "n.show(\"graph.html\")"
   ]
  },
  {
   "cell_type": "markdown",
   "metadata": {},
   "source": [
    "Looking at the two projected graphs, we can see that there are a handful of women more frequently associate together (wider edges). On the side of the club events, we see that there are a few events that are more heavily attended by the women, and thus are more \"influential\" in creating associations between the women."
   ]
  },
  {
   "cell_type": "markdown",
   "metadata": {},
   "source": [
    "## Analysis"
   ]
  },
  {
   "cell_type": "markdown",
   "metadata": {},
   "source": [
    "### Women"
   ]
  },
  {
   "cell_type": "markdown",
   "metadata": {},
   "source": [
    "We'll look at the women and their connections to one another. We'll start with the basic degree measure and progress from there."
   ]
  },
  {
   "cell_type": "code",
   "execution_count": 89,
   "metadata": {},
   "outputs": [
    {
     "data": {
      "text/html": [
       "<div>\n",
       "<style scoped>\n",
       "    .dataframe tbody tr th:only-of-type {\n",
       "        vertical-align: middle;\n",
       "    }\n",
       "\n",
       "    .dataframe tbody tr th {\n",
       "        vertical-align: top;\n",
       "    }\n",
       "\n",
       "    .dataframe thead th {\n",
       "        text-align: right;\n",
       "    }\n",
       "</style>\n",
       "<table border=\"1\" class=\"dataframe\">\n",
       "  <thead>\n",
       "    <tr style=\"text-align: right;\">\n",
       "      <th></th>\n",
       "      <th>Woman</th>\n",
       "      <th>Degree</th>\n",
       "    </tr>\n",
       "  </thead>\n",
       "  <tbody>\n",
       "    <tr>\n",
       "      <th>0</th>\n",
       "      <td>Evelyn Jefferson</td>\n",
       "      <td>17</td>\n",
       "    </tr>\n",
       "    <tr>\n",
       "      <th>1</th>\n",
       "      <td>Theresa Anderson</td>\n",
       "      <td>17</td>\n",
       "    </tr>\n",
       "    <tr>\n",
       "      <th>2</th>\n",
       "      <td>Ruth DeSand</td>\n",
       "      <td>17</td>\n",
       "    </tr>\n",
       "    <tr>\n",
       "      <th>3</th>\n",
       "      <td>Verne Sanderson</td>\n",
       "      <td>17</td>\n",
       "    </tr>\n",
       "    <tr>\n",
       "      <th>4</th>\n",
       "      <td>Sylvia Avondale</td>\n",
       "      <td>17</td>\n",
       "    </tr>\n",
       "    <tr>\n",
       "      <th>5</th>\n",
       "      <td>Nora Fayette</td>\n",
       "      <td>17</td>\n",
       "    </tr>\n",
       "    <tr>\n",
       "      <th>6</th>\n",
       "      <td>Helen Lloyd</td>\n",
       "      <td>17</td>\n",
       "    </tr>\n",
       "    <tr>\n",
       "      <th>7</th>\n",
       "      <td>Pearl Oglethorpe</td>\n",
       "      <td>16</td>\n",
       "    </tr>\n",
       "    <tr>\n",
       "      <th>8</th>\n",
       "      <td>Myra Liddel</td>\n",
       "      <td>16</td>\n",
       "    </tr>\n",
       "    <tr>\n",
       "      <th>9</th>\n",
       "      <td>Katherina Rogers</td>\n",
       "      <td>16</td>\n",
       "    </tr>\n",
       "    <tr>\n",
       "      <th>10</th>\n",
       "      <td>Dorothy Murchison</td>\n",
       "      <td>16</td>\n",
       "    </tr>\n",
       "    <tr>\n",
       "      <th>11</th>\n",
       "      <td>Laura Mandeville</td>\n",
       "      <td>15</td>\n",
       "    </tr>\n",
       "    <tr>\n",
       "      <th>12</th>\n",
       "      <td>Brenda Rogers</td>\n",
       "      <td>15</td>\n",
       "    </tr>\n",
       "    <tr>\n",
       "      <th>13</th>\n",
       "      <td>Frances Anderson</td>\n",
       "      <td>15</td>\n",
       "    </tr>\n",
       "    <tr>\n",
       "      <th>14</th>\n",
       "      <td>Eleanor Nye</td>\n",
       "      <td>15</td>\n",
       "    </tr>\n",
       "    <tr>\n",
       "      <th>15</th>\n",
       "      <td>Olivia Carleton</td>\n",
       "      <td>12</td>\n",
       "    </tr>\n",
       "    <tr>\n",
       "      <th>16</th>\n",
       "      <td>Flora Price</td>\n",
       "      <td>12</td>\n",
       "    </tr>\n",
       "    <tr>\n",
       "      <th>17</th>\n",
       "      <td>Charlotte McDowd</td>\n",
       "      <td>11</td>\n",
       "    </tr>\n",
       "  </tbody>\n",
       "</table>\n",
       "</div>"
      ],
      "text/plain": [
       "                Woman  Degree\n",
       "0    Evelyn Jefferson      17\n",
       "1    Theresa Anderson      17\n",
       "2         Ruth DeSand      17\n",
       "3     Verne Sanderson      17\n",
       "4     Sylvia Avondale      17\n",
       "5        Nora Fayette      17\n",
       "6         Helen Lloyd      17\n",
       "7    Pearl Oglethorpe      16\n",
       "8         Myra Liddel      16\n",
       "9    Katherina Rogers      16\n",
       "10  Dorothy Murchison      16\n",
       "11   Laura Mandeville      15\n",
       "12      Brenda Rogers      15\n",
       "13   Frances Anderson      15\n",
       "14        Eleanor Nye      15\n",
       "15    Olivia Carleton      12\n",
       "16        Flora Price      12\n",
       "17   Charlotte McDowd      11"
      ]
     },
     "execution_count": 89,
     "metadata": {},
     "output_type": "execute_result"
    }
   ],
   "source": [
    "wd = pd.DataFrame(sorted(nx.degree(W), key = lambda x: x[1], reverse=True), columns=['Woman','Degree'])\n",
    "wd"
   ]
  },
  {
   "cell_type": "markdown",
   "metadata": {},
   "source": [
    "We see, with the basic degree measure, that each woman is well-connected to the others in the dataset. Given that there are 18 unique women represented here, it is interesting that 7 of those 18 are connected to all others.\n",
    "\n",
    "The next 4 women in the above list are connected to all others except one (each). From there, it drops a bit, however even the least-connected node has 11 edges."
   ]
  },
  {
   "cell_type": "code",
   "execution_count": 90,
   "metadata": {
    "scrolled": false
   },
   "outputs": [
    {
     "data": {
      "text/html": [
       "<div>\n",
       "<style scoped>\n",
       "    .dataframe tbody tr th:only-of-type {\n",
       "        vertical-align: middle;\n",
       "    }\n",
       "\n",
       "    .dataframe tbody tr th {\n",
       "        vertical-align: top;\n",
       "    }\n",
       "\n",
       "    .dataframe thead th {\n",
       "        text-align: right;\n",
       "    }\n",
       "</style>\n",
       "<table border=\"1\" class=\"dataframe\">\n",
       "  <thead>\n",
       "    <tr style=\"text-align: right;\">\n",
       "      <th></th>\n",
       "      <th>Woman</th>\n",
       "      <th>Degree</th>\n",
       "      <th>Closeness Centrality</th>\n",
       "      <th>Betweenness Centrality</th>\n",
       "      <th>Eigen Centrality</th>\n",
       "    </tr>\n",
       "  </thead>\n",
       "  <tbody>\n",
       "    <tr>\n",
       "      <th>0</th>\n",
       "      <td>Evelyn Jefferson</td>\n",
       "      <td>17</td>\n",
       "      <td>1.000000</td>\n",
       "      <td>0.010122</td>\n",
       "      <td>0.253524</td>\n",
       "    </tr>\n",
       "    <tr>\n",
       "      <th>1</th>\n",
       "      <td>Theresa Anderson</td>\n",
       "      <td>17</td>\n",
       "      <td>1.000000</td>\n",
       "      <td>0.010122</td>\n",
       "      <td>0.253524</td>\n",
       "    </tr>\n",
       "    <tr>\n",
       "      <th>2</th>\n",
       "      <td>Ruth DeSand</td>\n",
       "      <td>17</td>\n",
       "      <td>1.000000</td>\n",
       "      <td>0.010122</td>\n",
       "      <td>0.253524</td>\n",
       "    </tr>\n",
       "    <tr>\n",
       "      <th>3</th>\n",
       "      <td>Verne Sanderson</td>\n",
       "      <td>17</td>\n",
       "      <td>1.000000</td>\n",
       "      <td>0.010122</td>\n",
       "      <td>0.253524</td>\n",
       "    </tr>\n",
       "    <tr>\n",
       "      <th>4</th>\n",
       "      <td>Sylvia Avondale</td>\n",
       "      <td>17</td>\n",
       "      <td>1.000000</td>\n",
       "      <td>0.010122</td>\n",
       "      <td>0.253524</td>\n",
       "    </tr>\n",
       "    <tr>\n",
       "      <th>5</th>\n",
       "      <td>Nora Fayette</td>\n",
       "      <td>17</td>\n",
       "      <td>1.000000</td>\n",
       "      <td>0.010122</td>\n",
       "      <td>0.253524</td>\n",
       "    </tr>\n",
       "    <tr>\n",
       "      <th>6</th>\n",
       "      <td>Helen Lloyd</td>\n",
       "      <td>17</td>\n",
       "      <td>1.000000</td>\n",
       "      <td>0.010122</td>\n",
       "      <td>0.253524</td>\n",
       "    </tr>\n",
       "    <tr>\n",
       "      <th>7</th>\n",
       "      <td>Pearl Oglethorpe</td>\n",
       "      <td>16</td>\n",
       "      <td>0.944444</td>\n",
       "      <td>0.005348</td>\n",
       "      <td>0.243157</td>\n",
       "    </tr>\n",
       "    <tr>\n",
       "      <th>8</th>\n",
       "      <td>Myra Liddel</td>\n",
       "      <td>16</td>\n",
       "      <td>0.944444</td>\n",
       "      <td>0.005348</td>\n",
       "      <td>0.243157</td>\n",
       "    </tr>\n",
       "    <tr>\n",
       "      <th>9</th>\n",
       "      <td>Katherina Rogers</td>\n",
       "      <td>16</td>\n",
       "      <td>0.944444</td>\n",
       "      <td>0.005348</td>\n",
       "      <td>0.243157</td>\n",
       "    </tr>\n",
       "    <tr>\n",
       "      <th>10</th>\n",
       "      <td>Dorothy Murchison</td>\n",
       "      <td>16</td>\n",
       "      <td>0.944444</td>\n",
       "      <td>0.005348</td>\n",
       "      <td>0.243157</td>\n",
       "    </tr>\n",
       "    <tr>\n",
       "      <th>11</th>\n",
       "      <td>Laura Mandeville</td>\n",
       "      <td>15</td>\n",
       "      <td>0.894737</td>\n",
       "      <td>0.002674</td>\n",
       "      <td>0.230973</td>\n",
       "    </tr>\n",
       "    <tr>\n",
       "      <th>12</th>\n",
       "      <td>Brenda Rogers</td>\n",
       "      <td>15</td>\n",
       "      <td>0.894737</td>\n",
       "      <td>0.002674</td>\n",
       "      <td>0.230973</td>\n",
       "    </tr>\n",
       "    <tr>\n",
       "      <th>13</th>\n",
       "      <td>Frances Anderson</td>\n",
       "      <td>15</td>\n",
       "      <td>0.894737</td>\n",
       "      <td>0.002674</td>\n",
       "      <td>0.230973</td>\n",
       "    </tr>\n",
       "    <tr>\n",
       "      <th>14</th>\n",
       "      <td>Eleanor Nye</td>\n",
       "      <td>15</td>\n",
       "      <td>0.894737</td>\n",
       "      <td>0.002674</td>\n",
       "      <td>0.230973</td>\n",
       "    </tr>\n",
       "    <tr>\n",
       "      <th>15</th>\n",
       "      <td>Olivia Carleton</td>\n",
       "      <td>12</td>\n",
       "      <td>0.772727</td>\n",
       "      <td>0.000000</td>\n",
       "      <td>0.187639</td>\n",
       "    </tr>\n",
       "    <tr>\n",
       "      <th>16</th>\n",
       "      <td>Flora Price</td>\n",
       "      <td>12</td>\n",
       "      <td>0.772727</td>\n",
       "      <td>0.000000</td>\n",
       "      <td>0.187639</td>\n",
       "    </tr>\n",
       "    <tr>\n",
       "      <th>17</th>\n",
       "      <td>Charlotte McDowd</td>\n",
       "      <td>11</td>\n",
       "      <td>0.739130</td>\n",
       "      <td>0.000000</td>\n",
       "      <td>0.172527</td>\n",
       "    </tr>\n",
       "  </tbody>\n",
       "</table>\n",
       "</div>"
      ],
      "text/plain": [
       "                Woman  Degree  Closeness Centrality  Betweenness Centrality  \\\n",
       "0    Evelyn Jefferson      17              1.000000                0.010122   \n",
       "1    Theresa Anderson      17              1.000000                0.010122   \n",
       "2         Ruth DeSand      17              1.000000                0.010122   \n",
       "3     Verne Sanderson      17              1.000000                0.010122   \n",
       "4     Sylvia Avondale      17              1.000000                0.010122   \n",
       "5        Nora Fayette      17              1.000000                0.010122   \n",
       "6         Helen Lloyd      17              1.000000                0.010122   \n",
       "7    Pearl Oglethorpe      16              0.944444                0.005348   \n",
       "8         Myra Liddel      16              0.944444                0.005348   \n",
       "9    Katherina Rogers      16              0.944444                0.005348   \n",
       "10  Dorothy Murchison      16              0.944444                0.005348   \n",
       "11   Laura Mandeville      15              0.894737                0.002674   \n",
       "12      Brenda Rogers      15              0.894737                0.002674   \n",
       "13   Frances Anderson      15              0.894737                0.002674   \n",
       "14        Eleanor Nye      15              0.894737                0.002674   \n",
       "15    Olivia Carleton      12              0.772727                0.000000   \n",
       "16        Flora Price      12              0.772727                0.000000   \n",
       "17   Charlotte McDowd      11              0.739130                0.000000   \n",
       "\n",
       "    Eigen Centrality  \n",
       "0           0.253524  \n",
       "1           0.253524  \n",
       "2           0.253524  \n",
       "3           0.253524  \n",
       "4           0.253524  \n",
       "5           0.253524  \n",
       "6           0.253524  \n",
       "7           0.243157  \n",
       "8           0.243157  \n",
       "9           0.243157  \n",
       "10          0.243157  \n",
       "11          0.230973  \n",
       "12          0.230973  \n",
       "13          0.230973  \n",
       "14          0.230973  \n",
       "15          0.187639  \n",
       "16          0.187639  \n",
       "17          0.172527  "
      ]
     },
     "execution_count": 90,
     "metadata": {},
     "output_type": "execute_result"
    }
   ],
   "source": [
    "# Compute centrality measures for women\n",
    "wc = pd.DataFrame(nx.closeness_centrality(W).items(), columns=['Woman','Closeness Centrality'])\n",
    "wb = pd.DataFrame(nx.betweenness_centrality(W).items(), columns=['Woman','Betweenness Centrality'])\n",
    "we = pd.DataFrame(nx.eigenvector_centrality(W).items(), columns=['Woman','Eigen Centrality'])\n",
    "\n",
    "# Display all measures\n",
    "data_frames = [wd, wc, wb, we]\n",
    "wmeasures = reduce(lambda left,right: pd.merge(left,right,on=['Woman']), data_frames)\n",
    "\n",
    "wmeasures"
   ]
  },
  {
   "cell_type": "markdown",
   "metadata": {},
   "source": [
    "Next we will use the \"island method\" listed in the textbook$^1$ to see"
   ]
  },
  {
   "cell_type": "code",
   "execution_count": 91,
   "metadata": {},
   "outputs": [
    {
     "data": {
      "text/html": [
       "\n",
       "        <iframe\n",
       "            width=\"100%\"\n",
       "            height=\"800px\"\n",
       "            src=\"graph.html\"\n",
       "            frameborder=\"0\"\n",
       "            allowfullscreen\n",
       "        ></iframe>\n",
       "        "
      ],
      "text/plain": [
       "<IPython.lib.display.IFrame at 0x7fa6502a3f10>"
      ]
     },
     "execution_count": 91,
     "metadata": {},
     "output_type": "execute_result"
    }
   ],
   "source": [
    "n = net.Network(height = \"800px\", width = \"100%\", notebook = True,\n",
    "               heading = 'Network - Women (weights > 2)', directed = False)\n",
    "n.add_nodes(W.nodes())\n",
    "for u,v,d in W.edges(data=True):\n",
    "    if d['weight'] > 2:\n",
    "        n.add_edge(u,v,value=d['weight'])\n",
    "\n",
    "n.show(\"graph.html\")"
   ]
  },
  {
   "cell_type": "markdown",
   "metadata": {},
   "source": [
    "By limiting the edge weights to only those > 2, we can see that there are a few women who no longer have any connections to other women. In other words they did not attend more than 2 events with any other woman.\n",
    "\n",
    "In fact, we can see the beginning of two separate \"islands\", which are starting to resemble cliques of a sort. If we drop edges of weight < 3, we can see this a bit clearer:"
   ]
  },
  {
   "cell_type": "code",
   "execution_count": 92,
   "metadata": {},
   "outputs": [
    {
     "data": {
      "text/html": [
       "\n",
       "        <iframe\n",
       "            width=\"100%\"\n",
       "            height=\"800px\"\n",
       "            src=\"graph.html\"\n",
       "            frameborder=\"0\"\n",
       "            allowfullscreen\n",
       "        ></iframe>\n",
       "        "
      ],
      "text/plain": [
       "<IPython.lib.display.IFrame at 0x7fa67093ba30>"
      ]
     },
     "execution_count": 92,
     "metadata": {},
     "output_type": "execute_result"
    }
   ],
   "source": [
    "n = net.Network(height = \"800px\", width = \"100%\", notebook = True,\n",
    "               heading = 'Network - Women (weights > 3)', directed = False)\n",
    "n.add_nodes(W.nodes())\n",
    "for u,v,d in W.edges(data=True):\n",
    "    if d['weight'] > 3:\n",
    "        n.add_edge(u,v,value=d['weight'])\n",
    "\n",
    "n.show(\"graph.html\")"
   ]
  },
  {
   "cell_type": "code",
   "execution_count": 93,
   "metadata": {},
   "outputs": [
    {
     "data": {
      "text/html": [
       "\n",
       "        <iframe\n",
       "            width=\"100%\"\n",
       "            height=\"800px\"\n",
       "            src=\"graph.html\"\n",
       "            frameborder=\"0\"\n",
       "            allowfullscreen\n",
       "        ></iframe>\n",
       "        "
      ],
      "text/plain": [
       "<IPython.lib.display.IFrame at 0x7fa6502a3850>"
      ]
     },
     "execution_count": 93,
     "metadata": {},
     "output_type": "execute_result"
    }
   ],
   "source": [
    "n = net.Network(height = \"800px\", width = \"100%\", notebook = True,\n",
    "               heading = 'Network - Women (weights > 4)', directed = False)\n",
    "n.add_nodes(W.nodes())\n",
    "for u,v,d in W.edges(data=True):\n",
    "    if d['weight'] > 4:\n",
    "        n.add_edge(u,v,value=d['weight'])\n",
    "\n",
    "n.show(\"graph.html\")"
   ]
  },
  {
   "cell_type": "code",
   "execution_count": 94,
   "metadata": {},
   "outputs": [
    {
     "data": {
      "text/html": [
       "<div>\n",
       "<style scoped>\n",
       "    .dataframe tbody tr th:only-of-type {\n",
       "        vertical-align: middle;\n",
       "    }\n",
       "\n",
       "    .dataframe tbody tr th {\n",
       "        vertical-align: top;\n",
       "    }\n",
       "\n",
       "    .dataframe thead th {\n",
       "        text-align: right;\n",
       "    }\n",
       "</style>\n",
       "<table border=\"1\" class=\"dataframe\">\n",
       "  <thead>\n",
       "    <tr style=\"text-align: right;\">\n",
       "      <th></th>\n",
       "      <th>Woman</th>\n",
       "      <th>Events Attended</th>\n",
       "    </tr>\n",
       "  </thead>\n",
       "  <tbody>\n",
       "    <tr>\n",
       "      <th>0</th>\n",
       "      <td>Evelyn Jefferson</td>\n",
       "      <td>8</td>\n",
       "    </tr>\n",
       "    <tr>\n",
       "      <th>13</th>\n",
       "      <td>Nora Fayette</td>\n",
       "      <td>8</td>\n",
       "    </tr>\n",
       "    <tr>\n",
       "      <th>2</th>\n",
       "      <td>Theresa Anderson</td>\n",
       "      <td>8</td>\n",
       "    </tr>\n",
       "    <tr>\n",
       "      <th>3</th>\n",
       "      <td>Brenda Rogers</td>\n",
       "      <td>7</td>\n",
       "    </tr>\n",
       "    <tr>\n",
       "      <th>1</th>\n",
       "      <td>Laura Mandeville</td>\n",
       "      <td>7</td>\n",
       "    </tr>\n",
       "    <tr>\n",
       "      <th>12</th>\n",
       "      <td>Sylvia Avondale</td>\n",
       "      <td>7</td>\n",
       "    </tr>\n",
       "    <tr>\n",
       "      <th>11</th>\n",
       "      <td>Katherina Rogers</td>\n",
       "      <td>6</td>\n",
       "    </tr>\n",
       "    <tr>\n",
       "      <th>14</th>\n",
       "      <td>Helen Lloyd</td>\n",
       "      <td>5</td>\n",
       "    </tr>\n",
       "    <tr>\n",
       "      <th>4</th>\n",
       "      <td>Charlotte McDowd</td>\n",
       "      <td>4</td>\n",
       "    </tr>\n",
       "    <tr>\n",
       "      <th>6</th>\n",
       "      <td>Eleanor Nye</td>\n",
       "      <td>4</td>\n",
       "    </tr>\n",
       "    <tr>\n",
       "      <th>5</th>\n",
       "      <td>Frances Anderson</td>\n",
       "      <td>4</td>\n",
       "    </tr>\n",
       "    <tr>\n",
       "      <th>10</th>\n",
       "      <td>Myra Liddel</td>\n",
       "      <td>4</td>\n",
       "    </tr>\n",
       "    <tr>\n",
       "      <th>8</th>\n",
       "      <td>Ruth DeSand</td>\n",
       "      <td>4</td>\n",
       "    </tr>\n",
       "    <tr>\n",
       "      <th>9</th>\n",
       "      <td>Verne Sanderson</td>\n",
       "      <td>4</td>\n",
       "    </tr>\n",
       "    <tr>\n",
       "      <th>7</th>\n",
       "      <td>Pearl Oglethorpe</td>\n",
       "      <td>3</td>\n",
       "    </tr>\n",
       "    <tr>\n",
       "      <th>15</th>\n",
       "      <td>Dorothy Murchison</td>\n",
       "      <td>2</td>\n",
       "    </tr>\n",
       "    <tr>\n",
       "      <th>17</th>\n",
       "      <td>Flora Price</td>\n",
       "      <td>2</td>\n",
       "    </tr>\n",
       "    <tr>\n",
       "      <th>16</th>\n",
       "      <td>Olivia Carleton</td>\n",
       "      <td>2</td>\n",
       "    </tr>\n",
       "  </tbody>\n",
       "</table>\n",
       "</div>"
      ],
      "text/plain": [
       "                Woman  Events Attended\n",
       "0    Evelyn Jefferson                8\n",
       "13       Nora Fayette                8\n",
       "2    Theresa Anderson                8\n",
       "3       Brenda Rogers                7\n",
       "1    Laura Mandeville                7\n",
       "12    Sylvia Avondale                7\n",
       "11   Katherina Rogers                6\n",
       "14        Helen Lloyd                5\n",
       "4    Charlotte McDowd                4\n",
       "6         Eleanor Nye                4\n",
       "5    Frances Anderson                4\n",
       "10        Myra Liddel                4\n",
       "8         Ruth DeSand                4\n",
       "9     Verne Sanderson                4\n",
       "7    Pearl Oglethorpe                3\n",
       "15  Dorothy Murchison                2\n",
       "17        Flora Price                2\n",
       "16    Olivia Carleton                2"
      ]
     },
     "execution_count": 94,
     "metadata": {},
     "output_type": "execute_result"
    }
   ],
   "source": [
    "attendees = [(u, v) for u,v in G.edges() if u in women and v in events]\n",
    "c = pd.DataFrame.from_dict(Counter(elem[0] for elem in attendees),orient='index').reset_index()\n",
    "c = c.rename(columns={'index':'Woman', 0:'Events Attended'})\n",
    "c = c.sort_values(by=['Events Attended','Woman'], ascending = [False,True])\n",
    "c"
   ]
  },
  {
   "cell_type": "code",
   "execution_count": 95,
   "metadata": {},
   "outputs": [
    {
     "data": {
      "image/png": "[encoded data removed]",
      "text/plain": [
       "<Figure size 1080x360 with 1 Axes>"
      ]
     },
     "metadata": {
      "needs_background": "light"
     },
     "output_type": "display_data"
    }
   ],
   "source": [
    "plt.figure(figsize = (15, 5))\n",
    "\n",
    "plt.bar(c['Woman'], c['Events Attended'], width = 0.7, align = \"center\", color = 'grey')\n",
    "plt.xticks(rotation = 90)\n",
    "plt.yticks(list(range(0, 10)))\n",
    "plt.title(\"Number of Events Attended by Each Woman\")\n",
    "\n",
    "plt.axis(\"on\")\n",
    "plt.show()"
   ]
  },
  {
   "cell_type": "markdown",
   "metadata": {},
   "source": [
    "It looks like one would need to attend at least 4 events to have a chance to be on the periphery of the most connected women (and those most-connected women are attending at least 6 events)"
   ]
  },
  {
   "cell_type": "markdown",
   "metadata": {},
   "source": [
    "### Events\n",
    "Now we will look at the projected graph for the events. We;ll start with looking at each event's degree:\n"
   ]
  },
  {
   "cell_type": "code",
   "execution_count": 96,
   "metadata": {},
   "outputs": [
    {
     "data": {
      "text/html": [
       "<div>\n",
       "<style scoped>\n",
       "    .dataframe tbody tr th:only-of-type {\n",
       "        vertical-align: middle;\n",
       "    }\n",
       "\n",
       "    .dataframe tbody tr th {\n",
       "        vertical-align: top;\n",
       "    }\n",
       "\n",
       "    .dataframe thead th {\n",
       "        text-align: right;\n",
       "    }\n",
       "</style>\n",
       "<table border=\"1\" class=\"dataframe\">\n",
       "  <thead>\n",
       "    <tr style=\"text-align: right;\">\n",
       "      <th></th>\n",
       "      <th>Event</th>\n",
       "      <th>Degree</th>\n",
       "    </tr>\n",
       "  </thead>\n",
       "  <tbody>\n",
       "    <tr>\n",
       "      <th>0</th>\n",
       "      <td>E6</td>\n",
       "      <td>13</td>\n",
       "    </tr>\n",
       "    <tr>\n",
       "      <th>1</th>\n",
       "      <td>E7</td>\n",
       "      <td>13</td>\n",
       "    </tr>\n",
       "    <tr>\n",
       "      <th>2</th>\n",
       "      <td>E8</td>\n",
       "      <td>13</td>\n",
       "    </tr>\n",
       "    <tr>\n",
       "      <th>3</th>\n",
       "      <td>E9</td>\n",
       "      <td>13</td>\n",
       "    </tr>\n",
       "    <tr>\n",
       "      <th>4</th>\n",
       "      <td>E1</td>\n",
       "      <td>8</td>\n",
       "    </tr>\n",
       "    <tr>\n",
       "      <th>5</th>\n",
       "      <td>E2</td>\n",
       "      <td>8</td>\n",
       "    </tr>\n",
       "    <tr>\n",
       "      <th>6</th>\n",
       "      <td>E3</td>\n",
       "      <td>8</td>\n",
       "    </tr>\n",
       "    <tr>\n",
       "      <th>7</th>\n",
       "      <td>E4</td>\n",
       "      <td>8</td>\n",
       "    </tr>\n",
       "    <tr>\n",
       "      <th>8</th>\n",
       "      <td>E5</td>\n",
       "      <td>8</td>\n",
       "    </tr>\n",
       "    <tr>\n",
       "      <th>9</th>\n",
       "      <td>E10</td>\n",
       "      <td>8</td>\n",
       "    </tr>\n",
       "    <tr>\n",
       "      <th>10</th>\n",
       "      <td>E11</td>\n",
       "      <td>8</td>\n",
       "    </tr>\n",
       "    <tr>\n",
       "      <th>11</th>\n",
       "      <td>E12</td>\n",
       "      <td>8</td>\n",
       "    </tr>\n",
       "    <tr>\n",
       "      <th>12</th>\n",
       "      <td>E13</td>\n",
       "      <td>8</td>\n",
       "    </tr>\n",
       "    <tr>\n",
       "      <th>13</th>\n",
       "      <td>E14</td>\n",
       "      <td>8</td>\n",
       "    </tr>\n",
       "  </tbody>\n",
       "</table>\n",
       "</div>"
      ],
      "text/plain": [
       "   Event  Degree\n",
       "0     E6      13\n",
       "1     E7      13\n",
       "2     E8      13\n",
       "3     E9      13\n",
       "4     E1       8\n",
       "5     E2       8\n",
       "6     E3       8\n",
       "7     E4       8\n",
       "8     E5       8\n",
       "9    E10       8\n",
       "10   E11       8\n",
       "11   E12       8\n",
       "12   E13       8\n",
       "13   E14       8"
      ]
     },
     "execution_count": 96,
     "metadata": {},
     "output_type": "execute_result"
    }
   ],
   "source": [
    "ed = pd.DataFrame(sorted(nx.degree(E), key = lambda x: x[1], reverse=True), columns=['Event','Degree'])\n",
    "ed"
   ]
  },
  {
   "cell_type": "markdown",
   "metadata": {},
   "source": [
    "The degree measure, here, represents the number of events where an attendee was also at another event. In other words, an edge reflects some level of \"common-ness\" in attendee lists. The weight would distinguish how strong that link is (i.e. how many attendees are in common)."
   ]
  },
  {
   "cell_type": "code",
   "execution_count": 97,
   "metadata": {},
   "outputs": [
    {
     "data": {
      "text/html": [
       "<div>\n",
       "<style scoped>\n",
       "    .dataframe tbody tr th:only-of-type {\n",
       "        vertical-align: middle;\n",
       "    }\n",
       "\n",
       "    .dataframe tbody tr th {\n",
       "        vertical-align: top;\n",
       "    }\n",
       "\n",
       "    .dataframe thead th {\n",
       "        text-align: right;\n",
       "    }\n",
       "</style>\n",
       "<table border=\"1\" class=\"dataframe\">\n",
       "  <thead>\n",
       "    <tr style=\"text-align: right;\">\n",
       "      <th></th>\n",
       "      <th>Event</th>\n",
       "      <th>Degree</th>\n",
       "      <th>Closeness Centrality</th>\n",
       "      <th>Betweenness Centrality</th>\n",
       "      <th>Eigen Centrality</th>\n",
       "    </tr>\n",
       "  </thead>\n",
       "  <tbody>\n",
       "    <tr>\n",
       "      <th>0</th>\n",
       "      <td>E6</td>\n",
       "      <td>13</td>\n",
       "      <td>1.000000</td>\n",
       "      <td>0.080128</td>\n",
       "      <td>0.339336</td>\n",
       "    </tr>\n",
       "    <tr>\n",
       "      <th>1</th>\n",
       "      <td>E7</td>\n",
       "      <td>13</td>\n",
       "      <td>1.000000</td>\n",
       "      <td>0.080128</td>\n",
       "      <td>0.339336</td>\n",
       "    </tr>\n",
       "    <tr>\n",
       "      <th>2</th>\n",
       "      <td>E8</td>\n",
       "      <td>13</td>\n",
       "      <td>1.000000</td>\n",
       "      <td>0.080128</td>\n",
       "      <td>0.339336</td>\n",
       "    </tr>\n",
       "    <tr>\n",
       "      <th>3</th>\n",
       "      <td>E9</td>\n",
       "      <td>13</td>\n",
       "      <td>1.000000</td>\n",
       "      <td>0.080128</td>\n",
       "      <td>0.339336</td>\n",
       "    </tr>\n",
       "    <tr>\n",
       "      <th>4</th>\n",
       "      <td>E1</td>\n",
       "      <td>8</td>\n",
       "      <td>0.722222</td>\n",
       "      <td>0.000000</td>\n",
       "      <td>0.232251</td>\n",
       "    </tr>\n",
       "    <tr>\n",
       "      <th>5</th>\n",
       "      <td>E2</td>\n",
       "      <td>8</td>\n",
       "      <td>0.722222</td>\n",
       "      <td>0.000000</td>\n",
       "      <td>0.232251</td>\n",
       "    </tr>\n",
       "    <tr>\n",
       "      <th>6</th>\n",
       "      <td>E3</td>\n",
       "      <td>8</td>\n",
       "      <td>0.722222</td>\n",
       "      <td>0.000000</td>\n",
       "      <td>0.232251</td>\n",
       "    </tr>\n",
       "    <tr>\n",
       "      <th>7</th>\n",
       "      <td>E4</td>\n",
       "      <td>8</td>\n",
       "      <td>0.722222</td>\n",
       "      <td>0.000000</td>\n",
       "      <td>0.232251</td>\n",
       "    </tr>\n",
       "    <tr>\n",
       "      <th>8</th>\n",
       "      <td>E5</td>\n",
       "      <td>8</td>\n",
       "      <td>0.722222</td>\n",
       "      <td>0.000000</td>\n",
       "      <td>0.232251</td>\n",
       "    </tr>\n",
       "    <tr>\n",
       "      <th>9</th>\n",
       "      <td>E10</td>\n",
       "      <td>8</td>\n",
       "      <td>0.722222</td>\n",
       "      <td>0.000000</td>\n",
       "      <td>0.232251</td>\n",
       "    </tr>\n",
       "    <tr>\n",
       "      <th>10</th>\n",
       "      <td>E11</td>\n",
       "      <td>8</td>\n",
       "      <td>0.722222</td>\n",
       "      <td>0.000000</td>\n",
       "      <td>0.232251</td>\n",
       "    </tr>\n",
       "    <tr>\n",
       "      <th>11</th>\n",
       "      <td>E12</td>\n",
       "      <td>8</td>\n",
       "      <td>0.722222</td>\n",
       "      <td>0.000000</td>\n",
       "      <td>0.232251</td>\n",
       "    </tr>\n",
       "    <tr>\n",
       "      <th>12</th>\n",
       "      <td>E13</td>\n",
       "      <td>8</td>\n",
       "      <td>0.722222</td>\n",
       "      <td>0.000000</td>\n",
       "      <td>0.232251</td>\n",
       "    </tr>\n",
       "    <tr>\n",
       "      <th>13</th>\n",
       "      <td>E14</td>\n",
       "      <td>8</td>\n",
       "      <td>0.722222</td>\n",
       "      <td>0.000000</td>\n",
       "      <td>0.232251</td>\n",
       "    </tr>\n",
       "  </tbody>\n",
       "</table>\n",
       "</div>"
      ],
      "text/plain": [
       "   Event  Degree  Closeness Centrality  Betweenness Centrality  \\\n",
       "0     E6      13              1.000000                0.080128   \n",
       "1     E7      13              1.000000                0.080128   \n",
       "2     E8      13              1.000000                0.080128   \n",
       "3     E9      13              1.000000                0.080128   \n",
       "4     E1       8              0.722222                0.000000   \n",
       "5     E2       8              0.722222                0.000000   \n",
       "6     E3       8              0.722222                0.000000   \n",
       "7     E4       8              0.722222                0.000000   \n",
       "8     E5       8              0.722222                0.000000   \n",
       "9    E10       8              0.722222                0.000000   \n",
       "10   E11       8              0.722222                0.000000   \n",
       "11   E12       8              0.722222                0.000000   \n",
       "12   E13       8              0.722222                0.000000   \n",
       "13   E14       8              0.722222                0.000000   \n",
       "\n",
       "    Eigen Centrality  \n",
       "0           0.339336  \n",
       "1           0.339336  \n",
       "2           0.339336  \n",
       "3           0.339336  \n",
       "4           0.232251  \n",
       "5           0.232251  \n",
       "6           0.232251  \n",
       "7           0.232251  \n",
       "8           0.232251  \n",
       "9           0.232251  \n",
       "10          0.232251  \n",
       "11          0.232251  \n",
       "12          0.232251  \n",
       "13          0.232251  "
      ]
     },
     "execution_count": 97,
     "metadata": {},
     "output_type": "execute_result"
    }
   ],
   "source": [
    "# Compute centrality measures for women\n",
    "ec = pd.DataFrame(nx.closeness_centrality(E).items(), columns=['Event','Closeness Centrality'])\n",
    "eb = pd.DataFrame(nx.betweenness_centrality(E).items(), columns=['Event','Betweenness Centrality'])\n",
    "ee = pd.DataFrame(nx.eigenvector_centrality(E).items(), columns=['Event','Eigen Centrality'])\n",
    "\n",
    "# Display all measures\n",
    "data_frames = [ed, ec, eb, ee]\n",
    "emeasures = reduce(lambda left,right: pd.merge(left,right,on=['Event']), data_frames)\n",
    "\n",
    "emeasures"
   ]
  },
  {
   "cell_type": "markdown",
   "metadata": {},
   "source": [
    "We will use the same island$^1$ method as we did for the women above to see if there are isolated circles of events."
   ]
  },
  {
   "cell_type": "code",
   "execution_count": 98,
   "metadata": {},
   "outputs": [
    {
     "data": {
      "text/html": [
       "\n",
       "        <iframe\n",
       "            width=\"100%\"\n",
       "            height=\"800px\"\n",
       "            src=\"graph.html\"\n",
       "            frameborder=\"0\"\n",
       "            allowfullscreen\n",
       "        ></iframe>\n",
       "        "
      ],
      "text/plain": [
       "<IPython.lib.display.IFrame at 0x7fa67095f5e0>"
      ]
     },
     "execution_count": 98,
     "metadata": {},
     "output_type": "execute_result"
    }
   ],
   "source": [
    "n = net.Network(height = \"800px\", width = \"100%\", notebook = True,\n",
    "               heading = 'Network - Events (weights > 4)', directed = False)\n",
    "n.add_nodes(E.nodes())\n",
    "for u,v,d in E.edges(data=True):\n",
    "    if d['weight'] > 4:\n",
    "        n.add_edge(u,v,value=d['weight'])\n",
    "\n",
    "n.show(\"graph.html\")"
   ]
  },
  {
   "cell_type": "markdown",
   "metadata": {},
   "source": [
    "Looking at connections between events where the guest lists contain at least 5 common attendees (weight > 4), we see that there may be some similarity between them. Perhaps they represent more popular events that hardly anyone ever misses?"
   ]
  },
  {
   "cell_type": "code",
   "execution_count": 99,
   "metadata": {},
   "outputs": [
    {
     "name": "stdout",
     "output_type": "stream",
     "text": [
      "   Event  Attendees\n",
      "6     E8         14\n",
      "7     E9         12\n",
      "8     E7         10\n",
      "4     E5          8\n",
      "5     E6          8\n",
      "9    E12          6\n",
      "2     E3          6\n",
      "10   E10          5\n",
      "13   E11          4\n",
      "3     E4          4\n",
      "0     E1          3\n",
      "11   E13          3\n",
      "12   E14          3\n",
      "1     E2          3\n"
     ]
    }
   ],
   "source": [
    "attendees = [(v, u) for u,v in G.edges() if v in events and u in women]\n",
    "c = pd.DataFrame.from_dict(Counter(elem[0] for elem in attendees),orient='index').reset_index()\n",
    "c = c.rename(columns={'index':'Event', 0:'Attendees'})\n",
    "c = c.sort_values(by=['Attendees','Event'], ascending = [False,True])\n",
    "print(c)"
   ]
  },
  {
   "cell_type": "code",
   "execution_count": 100,
   "metadata": {},
   "outputs": [
    {
     "data": {
      "image/png": "[encoded data removed]",
      "text/plain": [
       "<Figure size 1080x360 with 1 Axes>"
      ]
     },
     "metadata": {
      "needs_background": "light"
     },
     "output_type": "display_data"
    }
   ],
   "source": [
    "plt.figure(figsize = (15, 5))\n",
    "plt.bar(c['Event'], c['Attendees'], width = 0.9, align = \"center\", color = 'blue')\n",
    "plt.yticks(list(range(0, 17)))\n",
    "plt.tick_params(labelright = True, right = True)\n",
    "plt.title(\"Number of Women at Each Event\")\n",
    "\n",
    "plt.axis(\"on\")\n",
    "plt.show()"
   ]
  },
  {
   "cell_type": "markdown",
   "metadata": {},
   "source": [
    "Judging by the number of attendees at each event, it seems that this is the case. The more heavily-attended events are the ones which have greater overlap in their attendee lists. Perhaps these are indeed the \"must attend\" events."
   ]
  },
  {
   "cell_type": "markdown",
   "metadata": {},
   "source": [
    "## Works Cited\n",
    "\n",
    "1 - Tsvetovat, M., & Kouznetsov, A. (2011). Social Network Analysis for Startups: Finding connections on the social web. Sebastopol, CA: O'Reilly Media."
   ]
  },
  {
   "cell_type": "markdown",
   "metadata": {
    "heading_collapsed": true
   },
   "source": [
    "## Video Presentation"
   ]
  },
  {
   "cell_type": "code",
   "execution_count": 1,
   "metadata": {
    "hidden": true
   },
   "outputs": [
    {
     "data": {
      "image/jpeg": "[encoded data removed]",
      "text/html": [
       "\n",
       "        <iframe\n",
       "            width=\"800\"\n",
       "            height=\"600\"\n",
       "            src=\"https://www.youtube.com/embed/vjh9hoDheiM\"\n",
       "            frameborder=\"0\"\n",
       "            allowfullscreen\n",
       "        ></iframe>\n",
       "        "
      ],
      "text/plain": [
       "<IPython.lib.display.YouTubeVideo at 0x7fc9209d78b0>"
      ]
     },
     "execution_count": 1,
     "metadata": {},
     "output_type": "execute_result"
    }
   ],
   "source": [
    "from IPython.display import YouTubeVideo\n",
    "\n",
    "YouTubeVideo('vjh9hoDheiM', width=800, height=600)"
   ]
  }
 ],
 "metadata": {
  "kernelspec": {
   "display_name": "Python 3",
   "language": "python",
   "name": "python3"
  },
  "language_info": {
   "codemirror_mode": {
    "name": "ipython",
    "version": 3
   },
   "file_extension": ".py",
   "mimetype": "text/x-python",
   "name": "python",
   "nbconvert_exporter": "python",
   "pygments_lexer": "ipython3",
   "version": "3.8.5"
  },
  "toc": {
   "base_numbering": 1,
   "nav_menu": {},
   "number_sections": true,
   "sideBar": true,
   "skip_h1_title": true,
   "title_cell": "Table of Contents",
   "title_sidebar": "Contents",
   "toc_cell": false,
   "toc_position": {},
   "toc_section_display": true,
   "toc_window_display": false
  },
  "varInspector": {
   "cols": {
    "lenName": 16,
    "lenType": 16,
    "lenVar": 40
   },
   "kernels_config": {
    "python": {
     "delete_cmd_postfix": "",
     "delete_cmd_prefix": "del ",
     "library": "var_list.py",
     "varRefreshCmd": "print(var_dic_list())"
    },
    "r": {
     "delete_cmd_postfix": ") ",
     "delete_cmd_prefix": "rm(",
     "library": "var_list.r",
     "varRefreshCmd": "cat(var_dic_list()) "
    }
   },
   "types_to_exclude": [
    "module",
    "function",
    "builtin_function_or_method",
    "instance",
    "_Feature"
   ],
   "window_display": false
  }
 },
 "nbformat": 4,
 "nbformat_minor": 2
}
